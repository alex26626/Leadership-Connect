{
 "cells": [
  {
   "cell_type": "markdown",
   "metadata": {},
   "source": [
    "# Image Scraping"
   ]
  },
  {
   "cell_type": "code",
   "execution_count": 1,
   "metadata": {},
   "outputs": [],
   "source": [
    "from tqdm import tqdm\n",
    "import numpy as np\n",
    "import pandas as pd\n",
    "import matplotlib.pyplot as plt\n",
    "import os\n",
    "\n",
    "from bs4 import BeautifulSoup as bs\n",
    "import selenium\n",
    "from selenium import webdriver \n",
    "from selenium.webdriver.common.by import By\n",
    "from selenium.webdriver.support.ui import WebDriverWait\n",
    "from selenium.webdriver.support import expected_conditions as EC\n",
    "from selenium.common.exceptions import StaleElementReferenceException\n",
    "from selenium.common.exceptions import TimeoutException\n",
    "from selenium.common.exceptions import WebDriverException\n",
    "from selenium.common.exceptions import NoSuchElementException\n",
    "import chromedriver_autoinstaller\n",
    "\n",
    "import urllib.request\n",
    "import requests\n",
    "import ssl\n",
    "\n",
    "import re\n",
    "import cv2\n",
    "\n",
    "import warnings\n",
    "warnings.filterwarnings('ignore')\n",
    "import shutil\n",
    "import time\n",
    "\n",
    "from collections import Counter\n",
    "from sklearn.linear_model import LogisticRegression\n",
    "from sklearn.metrics import classification_report, confusion_matrix"
   ]
  },
  {
   "cell_type": "code",
   "execution_count": 34,
   "metadata": {},
   "outputs": [],
   "source": [
    "# Full Dataset\n",
    "final_cross = pd.read_csv('C:/Users/jing/Documents/Bocconi/DSBA/Leadership Connect/Final Dataset/Final_Cross.csv')"
   ]
  },
  {
   "cell_type": "code",
   "execution_count": 25,
   "metadata": {},
   "outputs": [
    {
     "name": "stdout",
     "output_type": "stream",
     "text": [
      "Greg Abbott - Texas.gov\n"
     ]
    }
   ],
   "source": [
    "# Attempt with one single image\n",
    "\n",
    "driver = webdriver.Chrome()\n",
    "driver.maximize_window()\n",
    "driver.get('https://images.google.com/')\n",
    "element = driver.find_element(By.ID, 'L2AGLb')\n",
    "element.click()\n",
    "search_bar = driver.find_element(By.CLASS_NAME, 'gLFyf')\n",
    "search_bar.send_keys('Greg Abbott')\n",
    "search_bar.send_keys(u'\\ue007')\n",
    "all_images = driver.find_elements(By.XPATH,\"//img[contains(@class,'Q4LuWd')]\")\n",
    "src = all_images[0].get_attribute('src')\n",
    "origin = driver.find_element(By.CLASS_NAME, 'dmeZbb').text\n",
    "print(origin)\n",
    "urllib.request.urlretrieve(str(src), 'Greg_Abbott.jpg')\n",
    "driver.close()"
   ]
  },
  {
   "cell_type": "code",
   "execution_count": null,
   "metadata": {},
   "outputs": [],
   "source": [
    "# Image Download Attempt with a subset of the data\n",
    "\n",
    "data = pd.read_csv('FG_Female_1.csv')\n",
    "full_names = np.array(data['First Name'] + ' ' + data['Last Name'] + ' ' + data['Title'])\n",
    "\n",
    "driver =  webdriver.Chrome()\n",
    "driver.get('https://images.google.com/')\n",
    "cookie = driver.find_element(By.ID, 'L2AGLb')\n",
    "cookie.click()\n",
    "\n",
    "for i in range(len(full_names)):\n",
    "    full_name = full_names[i]\n",
    "    #driver = webdriver.Chrome()\n",
    "    #driver.get('https://images.google.com/')\n",
    "    #element = driver.find_element(By.ID, 'L2AGLb')\n",
    "    #element.click()\n",
    "    search_bar = driver.find_element(By.CLASS_NAME, 'gLFyf')\n",
    "    search_bar.send_keys(full_name)\n",
    "    search_bar.send_keys(u'\\ue007')\n",
    "    all_images = driver.find_elements(By.XPATH,\"//img[contains(@class,'Q4LuWd')]\")\n",
    "    src = all_images[0].get_attribute('src')\n",
    "    urllib.request.urlretrieve(str(src), f'{full_name}.jpg')\n",
    "    #driver.close()\n",
    "    driver.get('https://images.google.com/')"
   ]
  },
  {
   "cell_type": "code",
   "execution_count": 1,
   "metadata": {},
   "outputs": [],
   "source": [
    "# Final Function\n",
    "\n",
    "def img_download(data):\n",
    "    \n",
    "    good_sources = ['LinkedIn', 'Facebook', 'Wikipedia']\n",
    "    origins = []\n",
    "    good_origins = []\n",
    "    data = data[(data['First Name'].notnull()) & (data['Last Name'].notnull()) & (data['Title'].notnull())]\n",
    "    full_names = np.array(data['First Name'] + ' ' + data['Last Name'] + ' ' + data['Title'])\n",
    "\n",
    "    driver =  webdriver.Chrome()\n",
    "    driver.get('https://images.google.com/')\n",
    "    cookie = driver.find_element(By.ID, 'L2AGLb')\n",
    "    cookie.click()\n",
    "\n",
    "    for i in range(len(full_names)):\n",
    "        full_name = full_names[i]\n",
    "        \n",
    "        search_bar = driver.find_element(By.CLASS_NAME, 'gLFyf')\n",
    "        search_bar.send_keys(full_name)\n",
    "        search_bar.send_keys(u'\\ue007')\n",
    "        \n",
    "        try: \n",
    "            all_images = driver.find_elements(By.XPATH,\"//img[contains(@class,'Q4LuWd')]\")\n",
    "            src = all_images[0].get_attribute('src')\n",
    "\n",
    "            origin = driver.find_element(By.CLASS_NAME, 'dmeZbb').text\n",
    "            origins.append(origin)\n",
    "\n",
    "            if good_sources[0] in origin or good_sources[1] in origin or good_sources[2] in origin:\n",
    "                good_origins.append(1)\n",
    "            else:\n",
    "                good_origins.append(0)\n",
    "                \n",
    "            urllib.request.urlretrieve(str(src), f'{full_name}.jpg')\n",
    "        \n",
    "        except:\n",
    "            origins.append(None)\n",
    "            good_origins.append(None)\n",
    "        driver.get('https://images.google.com/')\n",
    "        \n",
    "    data['Source'] = origins\n",
    "    data['Good_Source'] = good_origins\n",
    "    driver.close()\n",
    "    return data"
   ]
  },
  {
   "cell_type": "code",
   "execution_count": 2,
   "metadata": {},
   "outputs": [],
   "source": [
    "# Download Function\n",
    "\n",
    "def download(names, folder):\n",
    "    driver =  webdriver.Chrome()\n",
    "    options = webdriver.ChromeOptions()\n",
    "    options.add_argument('--no-sandbox')\n",
    "    options.add_argument('--disable-dev-shm-usage')\n",
    "    options.add_argument('--headless')\n",
    "    options.add_argument('--disable-gpu')\n",
    "    driver = webdriver.Chrome(options=options)\n",
    "    driver.set_page_load_timeout(60)\n",
    "    driver.get('https://images.google.com/')\n",
    "    cookie = driver.find_element(By.ID, 'L2AGLb')\n",
    "    cookie.click()\n",
    "\n",
    "    for i in range(len(names)):\n",
    "        full_name = names[i]\n",
    "        \n",
    "        search_bar = driver.find_element(By.CLASS_NAME, 'gLFyf')\n",
    "        search_bar.send_keys(full_name)\n",
    "        search_bar.send_keys(u'\\ue007')\n",
    "        \n",
    "        try: \n",
    "            all_images = driver.find_elements(By.XPATH,\"//img[contains(@class,'Q4LuWd')]\")\n",
    "            src = all_images[0].get_attribute('src')\n",
    "            \n",
    "            final_folder = folder + '/' + full_name + '.jpg'\n",
    "            urllib.request.urlretrieve(str(src), final_folder)\n",
    "        \n",
    "        except:\n",
    "            pass\n",
    "        \n",
    "        driver.get('https://images.google.com/')\n",
    "        \n",
    "    driver.close()"
   ]
  },
  {
   "cell_type": "markdown",
   "metadata": {},
   "source": [
    "# Subsampling"
   ]
  },
  {
   "cell_type": "code",
   "execution_count": 13,
   "metadata": {},
   "outputs": [
    {
     "name": "stdout",
     "output_type": "stream",
     "text": [
      "Percentange of good origins: 33.0\n"
     ]
    }
   ],
   "source": [
    "# Origins Extraction Subsample (Title)\n",
    "\n",
    "n = 500\n",
    "data = final_cross\n",
    "good_sources = ['LinkedIn', 'Facebook', 'Wikipedia', 'Twitter']\n",
    "origins = []\n",
    "good_origins = []\n",
    "data = data[(data['First Name'].notnull()) & (data['Last Name'].notnull()) & (data['Title'].notnull())]\n",
    "full_names = np.array(data['First Name'] + ' ' + data['Last Name'] + ' ' + data['Title'])\n",
    "indexes = np.random.choice(np.arange(len(full_names)), size = n, replace = False)\n",
    "\n",
    "driver =  webdriver.Chrome()\n",
    "driver.get('https://images.google.com/')\n",
    "cookie = driver.find_element(By.ID, 'L2AGLb')\n",
    "cookie.click()\n",
    "\n",
    "for i in range(n):\n",
    "    full_name = full_names[indexes[i]]\n",
    "    full_name = re.sub('[^a-zA-Z]', '', full_name)\n",
    "    full_name = re.sub(r'\\s+', '', full_name)\n",
    "\n",
    "    search_bar = driver.find_element(By.CLASS_NAME, 'gLFyf')\n",
    "    search_bar.send_keys(full_name)\n",
    "    search_bar.send_keys(u'\\ue007')\n",
    "\n",
    "    origin = driver.find_element(By.CLASS_NAME, 'dmeZbb').text\n",
    "    origins.append(origin)\n",
    "\n",
    "    if good_sources[0] in origin or good_sources[1] in origin or good_sources[2] in origin:\n",
    "        good_origins.append(1)\n",
    "    else:\n",
    "        good_origins.append(0)\n",
    "\n",
    "    driver.get('https://images.google.com/')\n",
    "\n",
    "driver.close()\n",
    "perc_good = sum(good_origins)*100/len(good_origins)\n",
    "print(f'Percentage of good origins: {perc_good}')"
   ]
  },
  {
   "cell_type": "code",
   "execution_count": 15,
   "metadata": {},
   "outputs": [
    {
     "name": "stdout",
     "output_type": "stream",
     "text": [
      "Percentange of good origins: 93.0\n"
     ]
    }
   ],
   "source": [
    "# Origins Extraction Subsample (LinkedIn)\n",
    "\n",
    "n = 500\n",
    "data = final_cross\n",
    "good_sources = ['LinkedIn', 'Facebook', 'Wikipedia', 'Twitter']\n",
    "origins = []\n",
    "good_origins = []\n",
    "data = data[(data['First Name'].notnull()) & (data['Last Name'].notnull())]\n",
    "full_names = np.array(data['First Name'] + ' ' + data['Last Name'] + ' ' + 'LinkedIn')\n",
    "indexes = np.random.choice(np.arange(len(full_names)), size = n, replace = False)\n",
    "\n",
    "driver =  webdriver.Chrome()\n",
    "driver.get('https://images.google.com/')\n",
    "cookie = driver.find_element(By.ID, 'L2AGLb')\n",
    "cookie.click()\n",
    "\n",
    "for i in range(n):\n",
    "    full_name = full_names[indexes[i]]\n",
    "    full_name = re.sub('[^a-zA-Z]', '', full_name)\n",
    "    full_name = re.sub(r'\\s+', '', full_name)\n",
    "    \n",
    "    search_bar = driver.find_element(By.CLASS_NAME, 'gLFyf')\n",
    "    search_bar.send_keys(full_name)\n",
    "    search_bar.send_keys(u'\\ue007')\n",
    "\n",
    "    origin = driver.find_element(By.CLASS_NAME, 'dmeZbb').text\n",
    "    origins.append(origin)\n",
    "\n",
    "    if good_sources[0] in origin or good_sources[1] in origin or good_sources[2] in origin:\n",
    "        good_origins.append(1)\n",
    "    else:\n",
    "        good_origins.append(0)\n",
    "\n",
    "    driver.get('https://images.google.com/')\n",
    "\n",
    "driver.close()\n",
    "perc_good = sum(good_origins)*100/len(good_origins)\n",
    "print(f'Percentage of good origins: {perc_good}')"
   ]
  },
  {
   "cell_type": "code",
   "execution_count": 6,
   "metadata": {},
   "outputs": [
    {
     "name": "stdout",
     "output_type": "stream",
     "text": [
      "Percentage of good origins: 76.4\n"
     ]
    }
   ],
   "source": [
    "# Origins Extraction Subsample (Title + LinkedIn)\n",
    "\n",
    "n = 500\n",
    "data = final_cross\n",
    "good_sources = ['LinkedIn', 'Facebook', 'Wikipedia', 'Twitter']\n",
    "origins = []\n",
    "good_origins = []\n",
    "data = data[(data['First Name'].notnull()) & (data['Last Name'].notnull()) & (data['Title'].notnull())]\n",
    "full_names = np.array(data['First Name'] + ' ' + data['Last Name'] + ' ' + data['Title'] + ' ' + 'LinkedIn')\n",
    "indexes = np.random.choice(np.arange(len(full_names)), size = n, replace = False)\n",
    "\n",
    "driver =  webdriver.Chrome()\n",
    "driver.get('https://images.google.com/')\n",
    "cookie = driver.find_element(By.ID, 'L2AGLb')\n",
    "cookie.click()\n",
    "\n",
    "for i in range(n):\n",
    "    full_name = full_names[indexes[i]]\n",
    "    full_name = re.sub('[^a-zA-Z]', ' ', full_name)\n",
    "    full_name = re.sub(r'\\s+', ' ', full_name)\n",
    "\n",
    "    search_bar = driver.find_element(By.CLASS_NAME, 'gLFyf')\n",
    "    search_bar.send_keys(full_name)\n",
    "    search_bar.send_keys(u'\\ue007')\n",
    "\n",
    "    origin = driver.find_element(By.CLASS_NAME, 'dmeZbb').text\n",
    "    origins.append(origin)\n",
    "\n",
    "    if good_sources[0] in origin or good_sources[1] in origin or good_sources[2] in origin:\n",
    "        good_origins.append(1)\n",
    "    else:\n",
    "        good_origins.append(0)\n",
    "\n",
    "    driver.get('https://images.google.com/')\n",
    "\n",
    "driver.close()\n",
    "perc_good = sum(good_origins)*100/len(good_origins)\n",
    "print(f'Percentage of good origins: {perc_good}')"
   ]
  },
  {
   "cell_type": "markdown",
   "metadata": {},
   "source": [
    "## N Images Comparison"
   ]
  },
  {
   "cell_type": "code",
   "execution_count": 37,
   "metadata": {},
   "outputs": [],
   "source": [
    "def download_n(names, folder, n, destination_name):\n",
    "    #chromedriver_autoinstaller.install()\n",
    "    options = webdriver.ChromeOptions()\n",
    "    options.add_argument('--no-sandbox')\n",
    "    options.add_argument('--disable-dev-shm-usage')\n",
    "    options.add_argument('--headless')\n",
    "    options.add_argument('--disable-gpu')\n",
    "    driver = webdriver.Chrome(executable_path='C:/Users/jing/Documents/Bocconi/DSBA/Leadership Connect/Image Scraping/chromedriver-win32/chromedriver-win32/chromedriver.exe', options=options)\n",
    "    driver.set_page_load_timeout(60)\n",
    "    driver.get('https://images.google.com/')\n",
    "    cookie = driver.find_element(By.ID, 'L2AGLb')\n",
    "    cookie.click()\n",
    "    \n",
    "    final_names = []\n",
    "    origins_list = []\n",
    "    src_list = []\n",
    "    \n",
    "    for i in tqdm(range(len(names))):\n",
    "        full_name = names[i]\n",
    "        while '/' in full_name:\n",
    "            full_name.remove('/')\n",
    "        \n",
    "        search_bar = driver.find_element(By.CLASS_NAME, 'gLFyf')\n",
    "        search_bar.send_keys(full_name)\n",
    "        search_bar.send_keys(u'\\ue007')\n",
    "        \n",
    "        time.sleep(2)\n",
    "        \n",
    "        all_images = driver.find_elements(By.XPATH, \"//img[contains(@class,'Q4LuWd')]\")\n",
    "        all_origins = driver.find_elements(By.CLASS_NAME, 'LAA3yd')\n",
    "\n",
    "        for j in range(min(n, len(all_images))):\n",
    "            #print(j)\n",
    "            src = all_images[j].get_attribute('src')\n",
    "            src_list.append(src)\n",
    "            origins_list.append(all_origins[j].text)\n",
    "            final_name = full_name + '_' + str(j) +'.jpg'\n",
    "            final_names.append(final_name)\n",
    "            final_folder = folder + '/' + full_name + '_' + str(j) +'.jpg'\n",
    "            urllib.request.urlretrieve(str(src), final_folder)\n",
    "        driver.get('https://images.google.com/')\n",
    "        \n",
    "    final_dataset = pd.DataFrame()\n",
    "    final_dataset['File Name'] = final_names\n",
    "    final_dataset['src'] = src_list\n",
    "    final_dataset['Origin'] = origins_list\n",
    "    final_dataset.to_csv(destination_name)\n",
    "    driver.close()"
   ]
  },
  {
   "cell_type": "code",
   "execution_count": 31,
   "metadata": {},
   "outputs": [
    {
     "name": "stderr",
     "output_type": "stream",
     "text": [
      "100%|██████████████████████████████████████████████████████████████████████████| 3758/3758 [00:00<00:00, 469518.17it/s]\n"
     ]
    }
   ],
   "source": [
    "screenshots_folder = 'C:/Users/jing/Documents/Bocconi/DSBA/Leadership Connect/Image Scraping/Screenshots'\n",
    "all_screenshots = os.listdir(screenshots_folder)\n",
    "\n",
    "names_to_download = []\n",
    "\n",
    "for i in tqdm(range(len(all_screenshots))):\n",
    "    screenshot_name = all_screenshots[i][:-4] \n",
    "    names_to_download.append(screenshot_name)"
   ]
  },
  {
   "cell_type": "markdown",
   "metadata": {},
   "source": [
    "### 5 Images"
   ]
  },
  {
   "cell_type": "code",
   "execution_count": 8,
   "metadata": {},
   "outputs": [
    {
     "name": "stdout",
     "output_type": "stream",
     "text": [
      "Total Time: 4377.534827232361 seconds\n"
     ]
    }
   ],
   "source": [
    "final_folder = 'C:/Users/jing/Documents/Bocconi/DSBA/Leadership Connect/Image Scraping/LinkedIn_5'\n",
    "final_names = np.array([names_to_download[i] + ' LinkedIn' for i in range(len(names_to_download))])\n",
    "sample_size = 500\n",
    "random_indexes = np.random.choice(np.arange(len(final_names)), size = sample_size, replace = False)\n",
    "final_names_to_download = final_names[random_indexes]\n",
    "\n",
    "start = time.time()\n",
    "download_5(final_names_to_download, final_folder)\n",
    "end = time.time()\n",
    "print(f'Total Time: {end-start} seconds')"
   ]
  },
  {
   "cell_type": "code",
   "execution_count": 9,
   "metadata": {},
   "outputs": [
    {
     "name": "stdout",
     "output_type": "stream",
     "text": [
      "Total Time: 45.17804906368256 minutes\n"
     ]
    }
   ],
   "source": [
    "final_folder = 'C:/Users/jing/Documents/Bocconi/DSBA/Leadership Connect/Image Scraping/LinkedIn_Law_5'\n",
    "final_names = np.array([names_to_download[i] + ' LinkedIn Law' for i in range(len(names_to_download))])\n",
    "sample_size = 500\n",
    "random_indexes = np.random.choice(np.arange(len(final_names)), size = sample_size, replace = False)\n",
    "final_names_to_download = final_names[random_indexes]\n",
    "\n",
    "start = time.time()\n",
    "download_5(final_names_to_download, final_folder)\n",
    "end = time.time()\n",
    "print(f'Total Time: {(end-start)/60} minutes')"
   ]
  },
  {
   "cell_type": "code",
   "execution_count": 19,
   "metadata": {},
   "outputs": [
    {
     "name": "stdout",
     "output_type": "stream",
     "text": [
      "(1670, 42)\n",
      "Total Time: 31.560354165236156 minutes\n"
     ]
    }
   ],
   "source": [
    "final_folder = 'C:/Users/jing/Documents/Bocconi/DSBA/Leadership Connect/Image Scraping/LinkedIn_Title_5'\n",
    "print(final_cross[(final_cross['Full Name'].isin(names_to_download)) & (final_cross['Title'].notnull())].shape)\n",
    "sub_final_cross = final_cross.loc[(final_cross['Full Name'].isin(names_to_download)) & (final_cross['Title'].notnull())].reset_index(drop = True)\n",
    "final_names = []\n",
    "\n",
    "for i in range(sub_final_cross.shape[0]):\n",
    "    if str(sub_final_cross.loc[i, 'Title']) != 'nan':\n",
    "        final_names.append(sub_final_cross.loc[i, 'Full Name'] + ' LinkedIn ' + sub_final_cross.loc[i, 'Title'])\n",
    "\n",
    "final_names = np.array(final_names)\n",
    "sample_size = 500\n",
    "random_indexes = np.random.choice(np.arange(len(final_names)), size = sample_size, replace = False)\n",
    "final_names_to_download = final_names[random_indexes]\n",
    "\n",
    "start = time.time()\n",
    "download_5(final_names_to_download, final_folder)\n",
    "end = time.time()\n",
    "print(f'Total Time: {(end-start)/60} minutes')"
   ]
  },
  {
   "cell_type": "markdown",
   "metadata": {},
   "source": [
    "### 10 Images"
   ]
  },
  {
   "cell_type": "code",
   "execution_count": 29,
   "metadata": {},
   "outputs": [
    {
     "name": "stderr",
     "output_type": "stream",
     "text": [
      "100%|████████████████████████████████████████████████████████████████████████████████| 500/500 [40:13<00:00,  4.83s/it]\n"
     ]
    }
   ],
   "source": [
    "final_folder = 'C:/Users/jing/Documents/Bocconi/DSBA/Leadership Connect/Image Scraping/LinkedIn_10'\n",
    "final_names = np.array([names_to_download[i] + ' LinkedIn' for i in range(len(names_to_download))])\n",
    "sample_size = 500\n",
    "random_indexes = np.random.choice(np.arange(len(final_names)), size = sample_size, replace = False)\n",
    "final_names_to_download = final_names[random_indexes]\n",
    "\n",
    "download_n(final_names_to_download, final_folder, 10, 'LinkedIn_10_Origin.csv')"
   ]
  },
  {
   "cell_type": "code",
   "execution_count": 30,
   "metadata": {},
   "outputs": [
    {
     "name": "stderr",
     "output_type": "stream",
     "text": [
      "100%|████████████████████████████████████████████████████████████████████████████████| 500/500 [37:19<00:00,  4.48s/it]\n"
     ]
    }
   ],
   "source": [
    "final_folder = 'C:/Users/jing/Documents/Bocconi/DSBA/Leadership Connect/Image Scraping/Standard_10'\n",
    "sample_size = 500\n",
    "names_to_download = np.array(names_to_download)\n",
    "random_indexes = np.random.choice(np.arange(len(names_to_download)), size = sample_size, replace = False)\n",
    "final_names_to_download = names_to_download[random_indexes]\n",
    "\n",
    "download_n(final_names_to_download, final_folder, 10, 'Standard_10_Origin.csv')"
   ]
  },
  {
   "cell_type": "code",
   "execution_count": 32,
   "metadata": {},
   "outputs": [
    {
     "name": "stderr",
     "output_type": "stream",
     "text": [
      "100%|████████████████████████████████████████████████████████████████████████████████| 500/500 [47:08<00:00,  5.66s/it]\n"
     ]
    }
   ],
   "source": [
    "final_folder = 'C:/Users/jing/Documents/Bocconi/DSBA/Leadership Connect/Image Scraping/LinkedIn_Law_10'\n",
    "final_names = np.array([names_to_download[i] + ' LinkedIn Law' for i in range(len(names_to_download))])\n",
    "sample_size = 500\n",
    "random_indexes = np.random.choice(np.arange(len(final_names)), size = sample_size, replace = False)\n",
    "final_names_to_download = final_names[random_indexes]\n",
    "\n",
    "download_n(final_names_to_download, final_folder, 10, 'LinkedIn_Law_10_Origin.csv')"
   ]
  },
  {
   "cell_type": "code",
   "execution_count": 38,
   "metadata": {},
   "outputs": [
    {
     "name": "stdout",
     "output_type": "stream",
     "text": [
      "(1670, 42)\n"
     ]
    },
    {
     "name": "stderr",
     "output_type": "stream",
     "text": [
      "100%|████████████████████████████████████████████████████████████████████████████████| 500/500 [49:44<00:00,  5.97s/it]\n"
     ]
    }
   ],
   "source": [
    "final_folder = 'C:/Users/jing/Documents/Bocconi/DSBA/Leadership Connect/Image Scraping/LinkedIn_Title_10'\n",
    "print(final_cross[(final_cross['Full Name'].isin(names_to_download)) & (final_cross['Title'].notnull())].shape)\n",
    "sub_final_cross = final_cross.loc[(final_cross['Full Name'].isin(names_to_download)) & (final_cross['Title'].notnull())].reset_index(drop = True)\n",
    "final_names = []\n",
    "\n",
    "for i in range(sub_final_cross.shape[0]):\n",
    "    if str(sub_final_cross.loc[i, 'Title']) != 'nan':\n",
    "        final_names.append(sub_final_cross.loc[i, 'Full Name'] + ' LinkedIn ' + sub_final_cross.loc[i, 'Title'])\n",
    "\n",
    "final_names = np.array(final_names)\n",
    "sample_size = 500\n",
    "random_indexes = np.random.choice(np.arange(len(final_names)), size = sample_size, replace = False)\n",
    "final_names_to_download = final_names[random_indexes]\n",
    "\n",
    "download_n(final_names_to_download, final_folder, 10, 'LinkedIn_Title_10_Origin.csv')"
   ]
  },
  {
   "cell_type": "markdown",
   "metadata": {},
   "source": [
    "# Face Extraction Algorithm"
   ]
  },
  {
   "cell_type": "code",
   "execution_count": 6,
   "metadata": {},
   "outputs": [
    {
     "data": {
      "text/plain": [
       "('haarcascade_frontalface_default.xml',\n",
       " <http.client.HTTPMessage at 0x1f775c58550>)"
      ]
     },
     "execution_count": 6,
     "metadata": {},
     "output_type": "execute_result"
    }
   ],
   "source": [
    "url = 'https://raw.githubusercontent.com/opencv/opencv/master/data/haarcascades/haarcascade_frontalface_default.xml'\n",
    "urllib.request.urlretrieve(url, 'haarcascade_frontalface_default.xml')"
   ]
  },
  {
   "cell_type": "code",
   "execution_count": 4,
   "metadata": {},
   "outputs": [
    {
     "name": "stdout",
     "output_type": "stream",
     "text": [
      "['Aarnn Cilharman', 'Aaron Lozano', 'Abbe Dembowitz', 'Abby Holland', 'Abby Oakland', 'Adam B. Goodrum', 'Adam Ekbom', 'Adam Mitchell', 'Adanna M. Smith', 'Adela Lilollari', 'Aditi Shah', 'Adnan Muttalib', 'Adriel Williams', 'Ahmad H. Malik', 'Ahmed Farooq', 'Aileen Perez-Polanco', 'Alec Guy', 'Alec Nagel', 'Alec Weinberg', 'Alegna Gomez']\n"
     ]
    }
   ],
   "source": [
    "names_to_scrape = []\n",
    "names = os.listdir('C:/Users/jing/Documents/Bocconi/DSBA/Leadership Connect/Image Scraping/Screenshots')\n",
    "for i in range(len(names)):\n",
    "    names_to_scrape.append(names[i][:-4])\n",
    "print(names_to_scrape[:20])"
   ]
  },
  {
   "cell_type": "code",
   "execution_count": 8,
   "metadata": {},
   "outputs": [],
   "source": [
    "n = 20\n",
    "full_names = []\n",
    "\n",
    "for i in range(n):\n",
    "    full_names.append(names_to_scrape[i] + ' LinkedIn')\n",
    "\n",
    "download(full_names)"
   ]
  },
  {
   "cell_type": "markdown",
   "metadata": {},
   "source": [
    "The detectMultiScale() method of the faceCascade object in OpenCV is used to detect objects (in this case, faces) in an input image. It takes the following parameters:\n",
    "\n",
    "image: The input image on which the face detection is to be performed.\n",
    "scaleFactor: Parameter specifying how much the image size is reduced at each image scale. This value is used to create a scale pyramid. Default value is 1.1.\n",
    "\n",
    "minNeighbors: Parameter specifying how many neighbors each candidate rectangle should have to retain it. This parameter affects the quality of the detected faces. Higher values lead to fewer detections but with higher quality. Default value is 3.\n",
    "\n",
    "minSize: Minimum size of the detected faces. Objects smaller than this size will not be detected. By default, it is set to (30, 30).\n",
    "\n",
    "The detectMultiScale() method returns a list of rectangles, where each rectangle represents a detected face. The values in the list represent the coordinates of the top-left corner of each rectangle along with its width and height, i.e., (x, y, w, h)."
   ]
  },
  {
   "cell_type": "code",
   "execution_count": 12,
   "metadata": {},
   "outputs": [],
   "source": [
    "folder = 'C:/Users/jing/Documents/Bocconi/DSBA/Leadership Connect/Image Scraping'\n",
    "files = os.listdir(folder)\n",
    "\n",
    "faceCascade = cv2.CascadeClassifier(cv2.data.haarcascades + \"haarcascade_frontalface_default.xml\")\n",
    "\n",
    "for i in range(len(files)):\n",
    "    if files[i][-3:] == 'jpg':\n",
    "        image_path = folder + '/' + files[i]\n",
    "        image = cv2.imread(image_path)\n",
    "        gray_img = cv2.cvtColor(image, cv2.COLOR_BGR2GRAY)\n",
    "        faces = faceCascade.detectMultiScale(gray_img,\n",
    "                                             #scaleFactor=1.3,  \n",
    "                                             #minSize=(30, 30)\n",
    "                                             minNeighbors=1)\n",
    "        for j in range(len(faces)):\n",
    "            x = faces[j][0]\n",
    "            y = faces[j][1]\n",
    "            w = faces[j][2]\n",
    "            h = faces[j][3]\n",
    "            cv2.rectangle(gray_img, (x, y), (x + w, y + h), (0, 255, 0), 2)\n",
    "            roi_color = gray_img[y : y + h, x : x + w]\n",
    "            cv2.imwrite(f'{files[i][:-4]}_Face_{j+1}.jpg', roi_color)"
   ]
  },
  {
   "cell_type": "markdown",
   "metadata": {},
   "source": [
    "# Training Set Generation"
   ]
  },
  {
   "cell_type": "code",
   "execution_count": 106,
   "metadata": {},
   "outputs": [
    {
     "name": "stdout",
     "output_type": "stream",
     "text": [
      "1680\n",
      "9164\n"
     ]
    }
   ],
   "source": [
    "folder = 'C:/Users/jing/Documents/Bocconi/DSBA/Leadership Connect/Image Scraping/lfw/lfw'\n",
    "files = os.listdir(folder)\n",
    "\n",
    "people_to_keep = []\n",
    "num_images = 0\n",
    "for i in range(len(files)):\n",
    "    new_folder = folder + '/' + files[i]\n",
    "    if len(os.listdir(new_folder)) >= 2:\n",
    "        people_to_keep.append(files[i])\n",
    "        num_images += len(os.listdir(new_folder))\n",
    "        \n",
    "print(len(people_to_keep))\n",
    "print(num_images)"
   ]
  },
  {
   "cell_type": "code",
   "execution_count": 107,
   "metadata": {},
   "outputs": [
    {
     "name": "stderr",
     "output_type": "stream",
     "text": [
      "100%|██████████████████████████████████████████████████████████████████████████████| 1680/1680 [10:55<00:00,  2.56it/s]\n"
     ]
    }
   ],
   "source": [
    "# For training set\n",
    "\n",
    "faces_folder = 'C:/Users/jing/Documents/Bocconi/DSBA/Leadership Connect/Image Scraping/training_faces'\n",
    "\n",
    "x_dim = []\n",
    "y_dim = []\n",
    "\n",
    "for i in tqdm(range(len(people_to_keep))):\n",
    "    current_folder = folder + '/' + people_to_keep[i]\n",
    "    images = os.listdir(current_folder)\n",
    "    for j in range(len(images)):\n",
    "        image_dir = current_folder + '/' + images[j]\n",
    "        image = cv2.imread(image_dir)\n",
    "        gray_img = cv2.cvtColor(image, cv2.COLOR_BGR2GRAY)\n",
    "        faces = faceCascade.detectMultiScale(gray_img,\n",
    "                                             #scaleFactor=1.3,  \n",
    "                                             #minSize=(30, 30)\n",
    "                                             minNeighbors=1)\n",
    "        for k in range(len(faces)):\n",
    "            x = faces[k][0]\n",
    "            y = faces[k][1]\n",
    "            w = faces[k][2]\n",
    "            h = faces[k][3]\n",
    "            cv2.rectangle(image, (x, y), (x + w, y + h), (0, 255, 0), 2)\n",
    "            roi_color = image[y : y + h, x : x + w]\n",
    "            x_dim.append(roi_color.shape[0])\n",
    "            y_dim.append(roi_color.shape[1])\n",
    "            name = faces_folder + '/' + images[j]\n",
    "            cv2.imwrite(name, roi_color)"
   ]
  },
  {
   "cell_type": "code",
   "execution_count": 108,
   "metadata": {},
   "outputs": [
    {
     "data": {
      "image/png": "[encoded data removed]",
      "text/plain": [
       "<Figure size 432x288 with 1 Axes>"
      ]
     },
     "metadata": {
      "needs_background": "light"
     },
     "output_type": "display_data"
    },
    {
     "data": {
      "image/png": "[encoded data removed]",
      "text/plain": [
       "<Figure size 432x288 with 1 Axes>"
      ]
     },
     "metadata": {
      "needs_background": "light"
     },
     "output_type": "display_data"
    }
   ],
   "source": [
    "# Distributions of the dimensions\n",
    "\n",
    "x_upper = np.median(x_dim) + 0.6*np.std(x_dim)\n",
    "x_lower = np.median(x_dim) - 0.6*np.std(x_dim)\n",
    "plt.hist(x_dim, bins = 50, color = 'r', density = False)\n",
    "plt.axvline(x_upper, color = 'black')\n",
    "plt.axvline(x_lower, color = 'black')\n",
    "plt.title('X Dimension')\n",
    "plt.show()\n",
    "plt.hist(y_dim, bins = 50, color = 'b', density = False)\n",
    "y_upper = np.median(y_dim) + 0.6*np.std(y_dim)\n",
    "y_lower = np.median(y_dim) - 0.6*np.std(y_dim)\n",
    "plt.axvline(y_upper, color = 'black')\n",
    "plt.axvline(y_lower, color = 'black')\n",
    "plt.title('Y Dimension')\n",
    "plt.show()"
   ]
  },
  {
   "cell_type": "code",
   "execution_count": 109,
   "metadata": {},
   "outputs": [
    {
     "name": "stderr",
     "output_type": "stream",
     "text": [
      "100%|██████████████████████████████████████████████████████████████████████████████| 9160/9160 [03:15<00:00, 46.89it/s]\n"
     ]
    }
   ],
   "source": [
    "# Exclusion of the outliers\n",
    "\n",
    "x_dim = np.array(x_dim)\n",
    "x_bounds = x_dim[(x_dim >= x_lower) & (x_dim <= x_upper)]\n",
    "y_dim = np.array(y_dim)\n",
    "y_bounds = y_dim[(y_dim >= y_lower) & (y_dim <= y_upper)]\n",
    "\n",
    "new_folder = 'C:/Users/jing/Documents/Bocconi/DSBA/Leadership Connect/Image Scraping/training_faces_2'\n",
    "old_folder = 'C:/Users/jing/Documents/Bocconi/DSBA/Leadership Connect/Image Scraping/training_faces'\n",
    "old_images = os.listdir(old_folder)\n",
    "\n",
    "for i in tqdm(range(len(old_images))):\n",
    "    image_dir = old_folder + '/' + old_images[i]\n",
    "    image = cv2.imread(image_dir)\n",
    "    if image.shape[0] in x_bounds and image.shape[1] in y_bounds:\n",
    "        shutil.move(image_dir, new_folder + '/' + old_images[i])"
   ]
  },
  {
   "cell_type": "code",
   "execution_count": 116,
   "metadata": {},
   "outputs": [
    {
     "data": {
      "text/plain": [
       "\"\\nname_counter = dict()\\nfor i in tqdm(range(len(unique_names))):\\n    for j in range(len(names)):\\n        if ' '.join(names[j].split('_')[:2]) == list(unique_names)[i]:\\n            try:\\n                name_counter[list(unique_names)[i]] += 1\\n            except:\\n                name_counter[list(unique_names)[i]] = 1\\n\""
      ]
     },
     "execution_count": 116,
     "metadata": {},
     "output_type": "execute_result"
    }
   ],
   "source": [
    "names = os.listdir('C:/Users/jing/Documents/Bocconi/DSBA/Leadership Connect/Image Scraping/training_faces_2')\n",
    "full_names = [' '.join(names[i].split('_')[:2]) for i in range(len(names))]\n",
    "unique_names = set(full_names)\n",
    "img_label = dict()\n",
    "for i in range(len(unique_names)):\n",
    "    img_label[list(unique_names)[i]] = i\n",
    "\n",
    "name_counter = Counter(full_names)"
   ]
  },
  {
   "cell_type": "code",
   "execution_count": 121,
   "metadata": {},
   "outputs": [
    {
     "data": {
      "image/png": "[encoded data removed]",
      "text/plain": [
       "<Figure size 432x288 with 1 Axes>"
      ]
     },
     "metadata": {
      "needs_background": "light"
     },
     "output_type": "display_data"
    },
    {
     "data": {
      "image/png": "[encoded data removed]",
      "text/plain": [
       "<Figure size 432x288 with 1 Axes>"
      ]
     },
     "metadata": {
      "needs_background": "light"
     },
     "output_type": "display_data"
    }
   ],
   "source": [
    "name_counter_data = pd.DataFrame()\n",
    "name_counter_data['Name'] = name_counter.keys()\n",
    "name_counter_data['Counter'] = name_counter.values()\n",
    "name_counter_data = name_counter_data.sort_values('Counter', ascending = False).reset_index(drop = True)\n",
    "\n",
    "x = np.array(name_counter_data.loc[:15, 'Name'])\n",
    "y = np.array(name_counter_data.loc[:15, 'Counter'])\n",
    "plt.bar(x, y)\n",
    "plt.xticks(rotation = 90)\n",
    "plt.title('15 Most Frequent People')\n",
    "plt.show()\n",
    "\n",
    "plt.hist(name_counter_data['Counter'], bins = 40)\n",
    "plt.axvline(np.median(name_counter_data['Counter']), color = 'black')\n",
    "plt.title('Frequency Distribution')\n",
    "plt.show()"
   ]
  },
  {
   "cell_type": "code",
   "execution_count": 70,
   "metadata": {},
   "outputs": [
    {
     "name": "stderr",
     "output_type": "stream",
     "text": [
      "100%|████████████████████████████████████████████████████████████████████████████████| 715/715 [01:28<00:00,  8.11it/s]\n"
     ]
    }
   ],
   "source": [
    "#For screenshots\n",
    "\n",
    "old_folder = 'C:/Users/jing/Documents/Bocconi/DSBA/Leadership Connect/Image Scraping/Screenshots'\n",
    "new_folder = 'C:/Users/jing/Documents/Bocconi/DSBA/Leadership Connect/Image Scraping/Screenshots_faces'\n",
    "\n",
    "x_dim = []\n",
    "y_dim = []\n",
    "screenshots = os.listdir(old_folder)\n",
    "for i in tqdm(range(len(screenshots))):\n",
    "    image_dir = old_folder + '/' + screenshots[i]\n",
    "    image = cv2.imread(image_dir)\n",
    "    try: \n",
    "        gray_img = cv2.cvtColor(image, cv2.COLOR_BGR2GRAY)\n",
    "        faces = faceCascade.detectMultiScale(gray_img,\n",
    "                                             #scaleFactor=1.3,  \n",
    "                                             #minSize=(30, 30)\n",
    "                                             minNeighbors=1)\n",
    "        for k in range(len(faces)):\n",
    "            x = faces[k][0]\n",
    "            y = faces[k][1]\n",
    "            w = faces[k][2]\n",
    "            h = faces[k][3]\n",
    "            cv2.rectangle(image, (x, y), (x + w, y + h), (0, 255, 0), 2)\n",
    "            roi_color = image[y : y + h, x : x + w]\n",
    "            x_dim.append(roi_color.shape[0])\n",
    "            y_dim.append(roi_color.shape[1])\n",
    "            name = new_folder + '/' + screenshots[i]\n",
    "            cv2.imwrite(name, roi_color)\n",
    "    except:\n",
    "        pass"
   ]
  },
  {
   "cell_type": "code",
   "execution_count": 73,
   "metadata": {},
   "outputs": [
    {
     "data": {
      "image/png": "[encoded data removed]",
      "text/plain": [
       "<Figure size 432x288 with 1 Axes>"
      ]
     },
     "metadata": {
      "needs_background": "light"
     },
     "output_type": "display_data"
    },
    {
     "data": {
      "image/png": "[encoded data removed]",
      "text/plain": [
       "<Figure size 432x288 with 1 Axes>"
      ]
     },
     "metadata": {
      "needs_background": "light"
     },
     "output_type": "display_data"
    }
   ],
   "source": [
    "# Distributions of the dimensions\n",
    "\n",
    "x_upper = np.median(x_dim) + 1.96*np.std(x_dim)\n",
    "x_lower = np.median(x_dim) - 1.96*np.std(x_dim)\n",
    "plt.hist(x_dim, bins = 50, color = 'r', density = False)\n",
    "plt.axvline(x_upper, color = 'black')\n",
    "plt.axvline(x_lower, color = 'black')\n",
    "plt.title('X Dimension')\n",
    "plt.show()\n",
    "plt.hist(y_dim, bins = 50, color = 'b', density = False)\n",
    "y_upper = np.median(y_dim) + 1.96*np.std(y_dim)\n",
    "y_lower = np.median(y_dim) - 1.96*np.std(y_dim)\n",
    "plt.axvline(y_upper, color = 'black')\n",
    "plt.axvline(y_lower, color = 'black')\n",
    "plt.title('Y Dimension')\n",
    "plt.show()"
   ]
  },
  {
   "cell_type": "code",
   "execution_count": 76,
   "metadata": {},
   "outputs": [
    {
     "name": "stderr",
     "output_type": "stream",
     "text": [
      "100%|████████████████████████████████████████████████████████████████████████████████| 709/709 [00:25<00:00, 27.99it/s]\n"
     ]
    }
   ],
   "source": [
    "# Exclusion of the outliers\n",
    "\n",
    "x_dim = np.array(x_dim)\n",
    "x_bounds = x_dim[(x_dim >= x_lower) & (x_dim <= x_upper)]\n",
    "y_dim = np.array(y_dim)\n",
    "y_bounds = y_dim[(y_dim >= y_lower) & (y_dim <= y_upper)]\n",
    "\n",
    "new_folder = 'C:/Users/jing/Documents/Bocconi/DSBA/Leadership Connect/Image Scraping/Screenshots_faces_2'\n",
    "os.makedirs(new_folder)\n",
    "old_folder = 'C:/Users/jing/Documents/Bocconi/DSBA/Leadership Connect/Image Scraping/Screenshots_faces'\n",
    "old_images = os.listdir(old_folder)\n",
    "\n",
    "for i in tqdm(range(len(old_images))):\n",
    "    image_dir = old_folder + '/' + old_images[i]\n",
    "    image = cv2.imread(image_dir)\n",
    "    if image.shape[0] in x_bounds and image.shape[1] in y_bounds:\n",
    "        shutil.move(image_dir, new_folder + '/' + old_images[i])"
   ]
  },
  {
   "cell_type": "markdown",
   "metadata": {},
   "source": [
    "# Mean Squared Error Difference Comparison"
   ]
  },
  {
   "cell_type": "code",
   "execution_count": 168,
   "metadata": {},
   "outputs": [],
   "source": [
    "def mean_sqrd(vectors):\n",
    "    (x, y) = vectors\n",
    "    return np.mean(np.sum((x - y)**2))"
   ]
  },
  {
   "cell_type": "code",
   "execution_count": 146,
   "metadata": {},
   "outputs": [],
   "source": [
    "def make_pairs(data):\n",
    "    pairs = []\n",
    "    labels = []\n",
    "    for i in tqdm(range(len(data['Name']))):\n",
    "        current_label = data.loc[i, 'Label']\n",
    "        pos_candidates = np.array(data.loc[(data['Label'] == current_label) & (data.index != i), 'Image'])\n",
    "        if len(pos_candidates) >= 1:\n",
    "            pos_choice = np.random.choice(pos_candidates)\n",
    "            pairs.append([data.loc[i, 'Image'], pos_choice])\n",
    "            labels.append(1)\n",
    "\n",
    "        neg_candidates = np.array(data.loc[data['Label'] != current_label, 'Image'])\n",
    "        if len(neg_candidates) >= 1:\n",
    "            neg_choice = np.random.choice(neg_candidates)\n",
    "            pairs.append([data.loc[i, 'Image'], neg_choice])\n",
    "            labels.append(0)\n",
    "    return (np.array(pairs), np.array(labels))"
   ]
  },
  {
   "cell_type": "code",
   "execution_count": 158,
   "metadata": {},
   "outputs": [
    {
     "name": "stderr",
     "output_type": "stream",
     "text": [
      "100%|█████████████████████████████████████████████████████████████████████████████| 7926/7926 [00:54<00:00, 146.10it/s]\n"
     ]
    },
    {
     "data": {
      "text/html": [
       "<div>\n",
       "<style scoped>\n",
       "    .dataframe tbody tr th:only-of-type {\n",
       "        vertical-align: middle;\n",
       "    }\n",
       "\n",
       "    .dataframe tbody tr th {\n",
       "        vertical-align: top;\n",
       "    }\n",
       "\n",
       "    .dataframe thead th {\n",
       "        text-align: right;\n",
       "    }\n",
       "</style>\n",
       "<table border=\"1\" class=\"dataframe\">\n",
       "  <thead>\n",
       "    <tr style=\"text-align: right;\">\n",
       "      <th></th>\n",
       "      <th>Name</th>\n",
       "      <th>Label</th>\n",
       "      <th>Path</th>\n",
       "      <th>Image</th>\n",
       "    </tr>\n",
       "  </thead>\n",
       "  <tbody>\n",
       "    <tr>\n",
       "      <th>0</th>\n",
       "      <td>Aaron Peirsol</td>\n",
       "      <td>1457.0</td>\n",
       "      <td>C:/Users/jing/Documents/Bocconi/DSBA/Leadershi...</td>\n",
       "      <td>[[150, 148, 150, 149, 151, 150, 152, 149, 150,...</td>\n",
       "    </tr>\n",
       "    <tr>\n",
       "      <th>1</th>\n",
       "      <td>Aaron Peirsol</td>\n",
       "      <td>1457.0</td>\n",
       "      <td>C:/Users/jing/Documents/Bocconi/DSBA/Leadershi...</td>\n",
       "      <td>[[150, 148, 150, 150, 150, 149, 150, 150, 150,...</td>\n",
       "    </tr>\n",
       "    <tr>\n",
       "      <th>2</th>\n",
       "      <td>Aaron Peirsol</td>\n",
       "      <td>1457.0</td>\n",
       "      <td>C:/Users/jing/Documents/Bocconi/DSBA/Leadershi...</td>\n",
       "      <td>[[151, 149, 151, 150, 150, 150, 150, 150, 151,...</td>\n",
       "    </tr>\n",
       "    <tr>\n",
       "      <th>3</th>\n",
       "      <td>Aaron Peirsol</td>\n",
       "      <td>1457.0</td>\n",
       "      <td>C:/Users/jing/Documents/Bocconi/DSBA/Leadershi...</td>\n",
       "      <td>[[150, 150, 151, 148, 150, 149, 151, 150, 150,...</td>\n",
       "    </tr>\n",
       "    <tr>\n",
       "      <th>4</th>\n",
       "      <td>Aaron Sorkin</td>\n",
       "      <td>594.0</td>\n",
       "      <td>C:/Users/jing/Documents/Bocconi/DSBA/Leadershi...</td>\n",
       "      <td>[[150, 149, 151, 148, 151, 149, 149, 150, 150,...</td>\n",
       "    </tr>\n",
       "  </tbody>\n",
       "</table>\n",
       "</div>"
      ],
      "text/plain": [
       "            Name   Label                                               Path  \\\n",
       "0  Aaron Peirsol  1457.0  C:/Users/jing/Documents/Bocconi/DSBA/Leadershi...   \n",
       "1  Aaron Peirsol  1457.0  C:/Users/jing/Documents/Bocconi/DSBA/Leadershi...   \n",
       "2  Aaron Peirsol  1457.0  C:/Users/jing/Documents/Bocconi/DSBA/Leadershi...   \n",
       "3  Aaron Peirsol  1457.0  C:/Users/jing/Documents/Bocconi/DSBA/Leadershi...   \n",
       "4   Aaron Sorkin   594.0  C:/Users/jing/Documents/Bocconi/DSBA/Leadershi...   \n",
       "\n",
       "                                               Image  \n",
       "0  [[150, 148, 150, 149, 151, 150, 152, 149, 150,...  \n",
       "1  [[150, 148, 150, 150, 150, 149, 150, 150, 150,...  \n",
       "2  [[151, 149, 151, 150, 150, 150, 150, 150, 151,...  \n",
       "3  [[150, 150, 151, 148, 150, 149, 151, 150, 150,...  \n",
       "4  [[150, 149, 151, 148, 151, 149, 149, 150, 150,...  "
      ]
     },
     "execution_count": 158,
     "metadata": {},
     "output_type": "execute_result"
    }
   ],
   "source": [
    "training_folder = 'C:/Users/jing/Documents/Bocconi/DSBA/Leadership Connect/Image Scraping/training_faces_2'\n",
    "all_images = os.listdir(training_folder)\n",
    "\n",
    "unique_names = set([' '.join(all_images[i].split('_')[:2]) for i in range(len(all_images))])\n",
    "img_label = dict()\n",
    "for i in range(len(unique_names)):\n",
    "    img_label[list(unique_names)[i]] = i\n",
    "    \n",
    "images_data = pd.DataFrame()\n",
    "images = []\n",
    "\n",
    "for i in tqdm(range(len(all_images))):\n",
    "    image_name = ' '.join(all_images[i].split('_')[:2])\n",
    "    label = img_label[image_name]\n",
    "    image_path = training_folder + '/' + all_images[i]\n",
    "\n",
    "    image = cv2.imread(image_path, cv2.IMREAD_COLOR | cv2.IMREAD_IGNORE_ORIENTATION)\n",
    "    gray_image = cv2.cvtColor(image, cv2.COLOR_BGR2GRAY)\n",
    "    gray_image = cv2.resize(gray_image, (110,110))\n",
    "\n",
    "    images_data.loc[i, 'Name'] = image_name\n",
    "    images.append(gray_image)\n",
    "    images_data.loc[i, 'Label'] = label\n",
    "    images_data.loc[i, 'Path'] = image_path\n",
    "\n",
    "images_data['Image'] = images\n",
    "images_data.head()"
   ]
  },
  {
   "cell_type": "code",
   "execution_count": 159,
   "metadata": {},
   "outputs": [
    {
     "name": "stderr",
     "output_type": "stream",
     "text": [
      "100%|█████████████████████████████████████████████████████████████████████████████| 7926/7926 [00:34<00:00, 232.75it/s]\n"
     ]
    }
   ],
   "source": [
    "(img_pairs, labels) = make_pairs(images_data)"
   ]
  },
  {
   "cell_type": "code",
   "execution_count": 160,
   "metadata": {},
   "outputs": [],
   "source": [
    "pos_pairs = img_pairs[list(np.where(labels == 1)[0])]\n",
    "neg_pairs = img_pairs[list(np.where(labels == 0)[0])]"
   ]
  },
  {
   "cell_type": "code",
   "execution_count": 166,
   "metadata": {},
   "outputs": [
    {
     "data": {
      "image/png": "[encoded data removed]",
      "text/plain": [
       "<Figure size 360x144 with 2 Axes>"
      ]
     },
     "metadata": {
      "needs_background": "light"
     },
     "output_type": "display_data"
    },
    {
     "data": {
      "image/png": "[encoded data removed]",
      "text/plain": [
       "<Figure size 360x144 with 2 Axes>"
      ]
     },
     "metadata": {
      "needs_background": "light"
     },
     "output_type": "display_data"
    },
    {
     "data": {
      "image/png": "[encoded data removed]",
      "text/plain": [
       "<Figure size 360x144 with 2 Axes>"
      ]
     },
     "metadata": {
      "needs_background": "light"
     },
     "output_type": "display_data"
    },
    {
     "data": {
      "image/png": "[encoded data removed]",
      "text/plain": [
       "<Figure size 360x144 with 2 Axes>"
      ]
     },
     "metadata": {
      "needs_background": "light"
     },
     "output_type": "display_data"
    },
    {
     "data": {
      "image/png": "[encoded data removed]",
      "text/plain": [
       "<Figure size 360x144 with 2 Axes>"
      ]
     },
     "metadata": {
      "needs_background": "light"
     },
     "output_type": "display_data"
    }
   ],
   "source": [
    "#Printing examples of positive pairs\n",
    "\n",
    "positive = np.random.choice(np.where(labels == 1)[0], size = 5)\n",
    "for index in positive:\n",
    "    plt.figure(figsize=(5, 2))\n",
    "    pair = img_pairs[index]\n",
    "    for i in range(2):\n",
    "        plt.subplot(1, 2, i+1)\n",
    "        plt.imshow(pair[i], cmap = 'gray')\n",
    "    plt.show()"
   ]
  },
  {
   "cell_type": "code",
   "execution_count": 177,
   "metadata": {},
   "outputs": [
    {
     "data": {
      "image/png": "[encoded data removed]",
      "text/plain": [
       "<Figure size 360x144 with 2 Axes>"
      ]
     },
     "metadata": {
      "needs_background": "light"
     },
     "output_type": "display_data"
    },
    {
     "data": {
      "image/png": "[encoded data removed]",
      "text/plain": [
       "<Figure size 360x144 with 2 Axes>"
      ]
     },
     "metadata": {
      "needs_background": "light"
     },
     "output_type": "display_data"
    },
    {
     "data": {
      "image/png": "[encoded data removed]",
      "text/plain": [
       "<Figure size 360x144 with 2 Axes>"
      ]
     },
     "metadata": {
      "needs_background": "light"
     },
     "output_type": "display_data"
    },
    {
     "data": {
      "image/png": "[encoded data removed]",
      "text/plain": [
       "<Figure size 360x144 with 2 Axes>"
      ]
     },
     "metadata": {
      "needs_background": "light"
     },
     "output_type": "display_data"
    },
    {
     "data": {
      "image/png": "[encoded data removed]",
      "text/plain": [
       "<Figure size 360x144 with 2 Axes>"
      ]
     },
     "metadata": {
      "needs_background": "light"
     },
     "output_type": "display_data"
    }
   ],
   "source": [
    "#Printing examples of negative pairs\n",
    "\n",
    "negative = np.random.choice(np.where(labels == 0)[0], size = 5)\n",
    "for index in negative:\n",
    "    plt.figure(figsize=(5, 2))\n",
    "    pair = img_pairs[index]\n",
    "    for i in range(2):\n",
    "        plt.subplot(1, 2, i+1)\n",
    "        plt.imshow(pair[i], cmap = 'gray')\n",
    "    plt.show()"
   ]
  },
  {
   "cell_type": "code",
   "execution_count": 176,
   "metadata": {
    "scrolled": false
   },
   "outputs": [
    {
     "name": "stderr",
     "output_type": "stream",
     "text": [
      "100%|████████████████████████████████████████████████████████████████████████████| 7683/7683 [00:01<00:00, 4694.64it/s]\n"
     ]
    },
    {
     "data": {
      "image/png": "[encoded data removed]",
      "text/plain": [
       "<Figure size 576x288 with 2 Axes>"
      ]
     },
     "metadata": {
      "needs_background": "light"
     },
     "output_type": "display_data"
    },
    {
     "data": {
      "image/png": "[encoded data removed]",
      "text/plain": [
       "<Figure size 432x288 with 1 Axes>"
      ]
     },
     "metadata": {
      "needs_background": "light"
     },
     "output_type": "display_data"
    }
   ],
   "source": [
    "pos_diffs = []\n",
    "neg_diffs = []\n",
    "\n",
    "for i in tqdm(range(len(pos_pairs))):\n",
    "    pos_diffs.append(mean_sqrd(pos_pairs[i]))\n",
    "    neg_diffs.append(mean_sqrd(neg_pairs[i]))\n",
    "    \n",
    "\n",
    "plt.figure(figsize = (8,4))\n",
    "plt.subplot(1, 2, 1)    \n",
    "plt.hist(pos_diffs, bins = 50, density = True)\n",
    "plt.axvline(np.median(pos_diffs), color = 'black', label = 'Median')\n",
    "plt.title('Positive Pairs')\n",
    "plt.legend()\n",
    "plt.subplot(1, 2, 2)\n",
    "plt.hist(neg_diffs, bins = 50, density = True)\n",
    "plt.axvline(np.median(neg_diffs), color = 'black', label = 'Median')\n",
    "plt.title('Negative Pairs')\n",
    "plt.legend()\n",
    "plt.show()\n",
    "\n",
    "plt.figure(figsize = (6,4))\n",
    "plt.hist(neg_diffs, bins = 50, label = 'Negative', density = True)\n",
    "plt.hist(pos_diffs, bins = 50, label = 'Positive', density = True)\n",
    "plt.title('Pairs Comparison')\n",
    "plt.legend()\n",
    "plt.show()"
   ]
  },
  {
   "cell_type": "markdown",
   "metadata": {},
   "source": [
    "# DeepFace Model Selection"
   ]
  },
  {
   "cell_type": "markdown",
   "metadata": {},
   "source": [
    "## Folders Preparation"
   ]
  },
  {
   "cell_type": "code",
   "execution_count": 13,
   "metadata": {},
   "outputs": [
    {
     "name": "stderr",
     "output_type": "stream",
     "text": [
      "100%|██████████████████████████████████████████████████████████████████████████████| 5749/5749 [00:59<00:00, 96.89it/s]\n"
     ]
    }
   ],
   "source": [
    "#Folder for deepface\n",
    "\n",
    "old_path = 'C:/Users/jing/Documents/Bocconi/DSBA/Leadership Connect/Image Scraping/lfw'\n",
    "new_path = 'C:/Users/jing/Documents/Bocconi/DSBA/Leadership Connect/Image Scraping/all_images'\n",
    "all_folders = os.listdir(old_path)\n",
    "for i in tqdm(range(len(all_folders))):\n",
    "    folder_path = old_path + '/' + all_folders[i]\n",
    "    images = os.listdir(folder_path)\n",
    "    for image in images:\n",
    "        image_path = folder + '/' + image\n",
    "        old_image_path = folder_path + '/' + image\n",
    "        new_image_path = new_path + '/' + image\n",
    "        shutil.move(old_image_path, new_image_path)"
   ]
  },
  {
   "cell_type": "code",
   "execution_count": 16,
   "metadata": {},
   "outputs": [
    {
     "name": "stderr",
     "output_type": "stream",
     "text": [
      "100%|███████████████████████████████████████████████████████████████████████████| 13233/13233 [00:34<00:00, 385.49it/s]\n"
     ]
    }
   ],
   "source": [
    "old_path = 'C:/Users/jing/Documents/Bocconi/DSBA/Leadership Connect/Image Scraping/all_images'\n",
    "new_path = 'C:/Users/jing/Documents/Bocconi/DSBA/Leadership Connect/Image Scraping/all_images_2'\n",
    "\n",
    "all_images = os.listdir(old_path)\n",
    "all_names = [' '.join(all_images[i].split('_')[:2]) for i in range(len(all_images))]\n",
    "counter = Counter(all_names)\n",
    "\n",
    "for i in tqdm(range(len(all_images))):\n",
    "    if counter[' '.join(all_images[i].split('_')[:2])] >= 3:\n",
    "        old_image_path = old_path + '/' + all_images[i]\n",
    "        new_image_path = new_path + '/' + all_images[i]\n",
    "        shutil.move(old_image_path, new_image_path)"
   ]
  },
  {
   "cell_type": "markdown",
   "metadata": {},
   "source": [
    "## Results Analysis"
   ]
  },
  {
   "cell_type": "code",
   "execution_count": 29,
   "metadata": {},
   "outputs": [
    {
     "data": {
      "text/html": [
       "<div>\n",
       "<style scoped>\n",
       "    .dataframe tbody tr th:only-of-type {\n",
       "        vertical-align: middle;\n",
       "    }\n",
       "\n",
       "    .dataframe tbody tr th {\n",
       "        vertical-align: top;\n",
       "    }\n",
       "\n",
       "    .dataframe thead th {\n",
       "        text-align: right;\n",
       "    }\n",
       "</style>\n",
       "<table border=\"1\" class=\"dataframe\">\n",
       "  <thead>\n",
       "    <tr style=\"text-align: right;\">\n",
       "      <th></th>\n",
       "      <th>Path_1</th>\n",
       "      <th>Path_2</th>\n",
       "      <th>Label</th>\n",
       "      <th>Prediction</th>\n",
       "      <th>Distance</th>\n",
       "      <th>Model</th>\n",
       "    </tr>\n",
       "  </thead>\n",
       "  <tbody>\n",
       "    <tr>\n",
       "      <th>0</th>\n",
       "      <td>/content/drive/MyDrive/all_images_2/Diana_Kral...</td>\n",
       "      <td>/content/drive/MyDrive/all_images_2/Gregg_Popo...</td>\n",
       "      <td>0.0</td>\n",
       "      <td>0.0</td>\n",
       "      <td>0.512540</td>\n",
       "      <td>VGG-Face</td>\n",
       "    </tr>\n",
       "    <tr>\n",
       "      <th>1</th>\n",
       "      <td>/content/drive/MyDrive/all_images_2/Colin_Powe...</td>\n",
       "      <td>/content/drive/MyDrive/all_images_2/Ed_Rosenth...</td>\n",
       "      <td>0.0</td>\n",
       "      <td>1.0</td>\n",
       "      <td>0.312990</td>\n",
       "      <td>VGG-Face</td>\n",
       "    </tr>\n",
       "    <tr>\n",
       "      <th>2</th>\n",
       "      <td>/content/drive/MyDrive/all_images_2/Sergey_Lav...</td>\n",
       "      <td>/content/drive/MyDrive/all_images_2/Antonio_Pa...</td>\n",
       "      <td>0.0</td>\n",
       "      <td>1.0</td>\n",
       "      <td>0.367013</td>\n",
       "      <td>VGG-Face</td>\n",
       "    </tr>\n",
       "    <tr>\n",
       "      <th>3</th>\n",
       "      <td>/content/drive/MyDrive/all_images_2/Conchita_M...</td>\n",
       "      <td>/content/drive/MyDrive/all_images_2/Conchita_M...</td>\n",
       "      <td>1.0</td>\n",
       "      <td>1.0</td>\n",
       "      <td>0.175841</td>\n",
       "      <td>VGG-Face</td>\n",
       "    </tr>\n",
       "    <tr>\n",
       "      <th>4</th>\n",
       "      <td>/content/drive/MyDrive/all_images_2/Justine_Pa...</td>\n",
       "      <td>/content/drive/MyDrive/all_images_2/Vicente_Fo...</td>\n",
       "      <td>0.0</td>\n",
       "      <td>0.0</td>\n",
       "      <td>0.777858</td>\n",
       "      <td>VGG-Face</td>\n",
       "    </tr>\n",
       "  </tbody>\n",
       "</table>\n",
       "</div>"
      ],
      "text/plain": [
       "                                              Path_1  \\\n",
       "0  /content/drive/MyDrive/all_images_2/Diana_Kral...   \n",
       "1  /content/drive/MyDrive/all_images_2/Colin_Powe...   \n",
       "2  /content/drive/MyDrive/all_images_2/Sergey_Lav...   \n",
       "3  /content/drive/MyDrive/all_images_2/Conchita_M...   \n",
       "4  /content/drive/MyDrive/all_images_2/Justine_Pa...   \n",
       "\n",
       "                                              Path_2  Label  Prediction  \\\n",
       "0  /content/drive/MyDrive/all_images_2/Gregg_Popo...    0.0         0.0   \n",
       "1  /content/drive/MyDrive/all_images_2/Ed_Rosenth...    0.0         1.0   \n",
       "2  /content/drive/MyDrive/all_images_2/Antonio_Pa...    0.0         1.0   \n",
       "3  /content/drive/MyDrive/all_images_2/Conchita_M...    1.0         1.0   \n",
       "4  /content/drive/MyDrive/all_images_2/Vicente_Fo...    0.0         0.0   \n",
       "\n",
       "   Distance     Model  \n",
       "0  0.512540  VGG-Face  \n",
       "1  0.312990  VGG-Face  \n",
       "2  0.367013  VGG-Face  \n",
       "3  0.175841  VGG-Face  \n",
       "4  0.777858  VGG-Face  "
      ]
     },
     "execution_count": 29,
     "metadata": {},
     "output_type": "execute_result"
    }
   ],
   "source": [
    "all_models = pd.read_csv('Face_Comparison_Models.csv').drop('Unnamed: 0', axis = 1)\n",
    "all_models.head()"
   ]
  },
  {
   "cell_type": "code",
   "execution_count": 34,
   "metadata": {},
   "outputs": [
    {
     "name": "stdout",
     "output_type": "stream",
     "text": [
      "VGG-Face\n",
      "Sample size:  950\n",
      "Accuracy:  82.3157894736842\n",
      "False Positive:  12.631578947368421\n",
      "False Negative:  5.052631578947368\n",
      "\n",
      "Facenet\n",
      "Sample size:  950\n",
      "Accuracy:  84.63157894736842\n",
      "False Positive:  0.21052631578947367\n",
      "False Negative:  15.157894736842104\n",
      "\n",
      "Facenet512\n",
      "Sample size:  950\n",
      "Accuracy:  75.47368421052632\n",
      "False Positive:  0.0\n",
      "False Negative:  24.526315789473685\n",
      "\n",
      "OpenFace\n",
      "Sample size:  950\n",
      "Accuracy:  51.68421052631579\n",
      "False Positive:  0.0\n",
      "False Negative:  48.31578947368421\n",
      "\n",
      "DeepFace\n",
      "Sample size:  950\n",
      "Accuracy:  60.63157894736842\n",
      "False Positive:  3.0526315789473686\n",
      "False Negative:  36.31578947368421\n",
      "\n",
      "DeepID\n",
      "Sample size:  0\n",
      "No samples of  DeepID\n",
      "\n",
      "ArcFace\n",
      "Sample size:  950\n",
      "Accuracy:  93.36842105263158\n",
      "False Positive:  0.9473684210526315\n",
      "False Negative:  5.684210526315789\n",
      "\n",
      "Dlib\n",
      "Sample size:  0\n",
      "No samples of  Dlib\n",
      "\n",
      "SFace\n",
      "Sample size:  950\n",
      "Accuracy:  86.0\n",
      "False Positive:  0.10526315789473684\n",
      "False Negative:  13.894736842105264\n",
      "\n"
     ]
    }
   ],
   "source": [
    "models = [\"VGG-Face\", \"Facenet\", \"Facenet512\", \"OpenFace\", \"DeepFace\", \"DeepID\", \"ArcFace\", \"Dlib\", \"SFace\"]\n",
    "\n",
    "for i in range(len(models)):\n",
    "    try:\n",
    "        model = models[i]\n",
    "        print(model)\n",
    "        tot = len(all_models.loc[all_models['Model'] == model, 'Label'])\n",
    "        print('Sample size: ', str(len(all_models.loc[all_models['Model'] == model, 'Label'])))\n",
    "        print('Accuracy: ', str(len(all_models.loc[(all_models['Label'] == all_models['Prediction']) & (all_models['Model'] == model), 'Label'])*100/tot))\n",
    "        print('False Positive: ', str(len(all_models.loc[(all_models['Prediction'] == 1) & (all_models['Label'] == 0) & (all_models['Model'] == model), 'Label'])*100/tot))\n",
    "        print('False Negative: ', str(len(all_models.loc[(all_models['Prediction'] == 0) & (all_models['Label'] == 1) & (all_models['Model'] == model), 'Label'])*100/tot))\n",
    "        print('')\n",
    "    except:\n",
    "        print('No samples of ', model)\n",
    "        print('')"
   ]
  },
  {
   "cell_type": "markdown",
   "metadata": {},
   "source": [
    "# Screenshots Comparison (No Origin)"
   ]
  },
  {
   "cell_type": "markdown",
   "metadata": {},
   "source": [
    "## Folders Preparation"
   ]
  },
  {
   "cell_type": "code",
   "execution_count": 49,
   "metadata": {},
   "outputs": [
    {
     "name": "stderr",
     "output_type": "stream",
     "text": [
      "100%|██████████████████████████████████████████████████████████████████████████| 3758/3758 [00:00<00:00, 341616.70it/s]\n"
     ]
    }
   ],
   "source": [
    "# Full Name + LinkedIn\n",
    "\n",
    "folder_to = 'C:/Users/jing/Documents/Bocconi/DSBA/Leadership Connect/Image Scraping/downloaded_images'\n",
    "screenshots_folder = 'C:/Users/jing/Documents/Bocconi/DSBA/Leadership Connect/Image Scraping/Screenshots'\n",
    "all_screenshots = os.listdir(screenshots_folder)\n",
    "\n",
    "names_to_download = []\n",
    "\n",
    "for i in tqdm(range(len(all_screenshots))):\n",
    "    screenshot_name = all_screenshots[i][:-4] + ' LinkedIn'\n",
    "    names_to_download.append(screenshot_name)\n",
    "    \n",
    "# download(names_to_download, folder_to)"
   ]
  },
  {
   "cell_type": "code",
   "execution_count": 58,
   "metadata": {},
   "outputs": [],
   "source": [
    "folder = 'C:/Users/jing/Documents/Bocconi/DSBA/Leadership Connect/Image Scraping/downloaded_images'\n",
    "current_downloaded = os.listdir(folder)\n",
    "current_downloaded = [current_downloaded[i][:-4] for i in range(len(current_downloaded))]\n",
    "\n",
    "names_to_download_2 = [names_to_download[i] for i in range(len(names_to_download)) if names_to_download[i] not in current_downloaded]\n",
    "\n",
    "#download(names_to_download_2, folder_to)"
   ]
  },
  {
   "cell_type": "code",
   "execution_count": 2,
   "metadata": {},
   "outputs": [],
   "source": [
    "# Full Name + Title + LinkedIn\n",
    "\n",
    "final_cross = pd.read_csv('C:/Users/jing/Documents/Bocconi/DSBA/Leadership Connect/Final Dataset/Final_Cross.csv')"
   ]
  },
  {
   "cell_type": "code",
   "execution_count": 23,
   "metadata": {},
   "outputs": [
    {
     "name": "stderr",
     "output_type": "stream",
     "text": [
      "100%|██████████████████████████████████████████████████████████████████████████████| 3758/3758 [13:20<00:00,  4.70it/s]"
     ]
    },
    {
     "name": "stdout",
     "output_type": "stream",
     "text": [
      "% of titles:  25.891431612559874\n"
     ]
    },
    {
     "name": "stderr",
     "output_type": "stream",
     "text": [
      "\n"
     ]
    }
   ],
   "source": [
    "folder_to = 'C:/Users/jing/Documents/Bocconi/DSBA/Leadership Connect/Image Scraping/downloaded_images_title'\n",
    "screenshots_folder = 'C:/Users/jing/Documents/Bocconi/DSBA/Leadership Connect/Image Scraping/Screenshots'\n",
    "all_screenshots = os.listdir(screenshots_folder)\n",
    "\n",
    "names_to_download = []\n",
    "names_to_copy = []\n",
    "title_counter = 0\n",
    "\n",
    "for i in tqdm(range(len(all_screenshots))):\n",
    "    full_name = all_screenshots[i][:-4]\n",
    "    first_name = full_name.split(' ')[0]\n",
    "    last_name = full_name.split(' ')[1]\n",
    "    try:\n",
    "        title = list(final_cross.loc[(final_cross['First Name'] == first_name) & (final_cross['Last Name'] == last_name), 'Title'])[0]\n",
    "        if title is not None and len(title) > 0:\n",
    "            screenshot_name = full_name + ' ' + title + ' LinkedIn'\n",
    "            names_to_download.append(screenshot_name)\n",
    "            title_counter += 1\n",
    "        else:\n",
    "            names_to_copy.append(full_name + ' LinkedIn')\n",
    "    except:\n",
    "        screenshot_name =  full_name + ' LinkedIn'\n",
    "        names_to_copy.append(screenshot_name)\n",
    "    \n",
    "    \n",
    "print('% of titles: ', len(names_to_download)*100/len(names_to_download + names_to_copy))"
   ]
  },
  {
   "cell_type": "code",
   "execution_count": 31,
   "metadata": {},
   "outputs": [],
   "source": [
    "#download(names_to_download, folder_to)"
   ]
  },
  {
   "cell_type": "code",
   "execution_count": 34,
   "metadata": {},
   "outputs": [],
   "source": [
    "folder = 'C:/Users/jing/Documents/Bocconi/DSBA/Leadership Connect/Image Scraping/downloaded_images_title'\n",
    "current_downloaded = os.listdir(folder)\n",
    "current_downloaded = [current_downloaded[i][:-4] for i in range(len(current_downloaded))]\n",
    "\n",
    "names_to_download_2 = [names_to_download[i] for i in range(len(names_to_download)) if names_to_download[i] not in current_downloaded]\n",
    "\n",
    "#download(names_to_download_2, folder_to)"
   ]
  },
  {
   "cell_type": "markdown",
   "metadata": {},
   "source": [
    "## Results Analysis"
   ]
  },
  {
   "cell_type": "code",
   "execution_count": 103,
   "metadata": {},
   "outputs": [
    {
     "data": {
      "image/png": "[encoded data removed]",
      "text/plain": [
       "<Figure size 432x288 with 1 Axes>"
      ]
     },
     "metadata": {
      "needs_background": "light"
     },
     "output_type": "display_data"
    }
   ],
   "source": [
    "accuracies = pd.read_csv('Face_Comparison_Models.csv').drop('Unnamed: 0', axis = 1)\n",
    "arcface = accuracies[accuracies['Model'] == 'ArcFace']\n",
    "pos_distances = np.array(arcface.loc[arcface['Label'] == 1, 'Distance'])\n",
    "neg_distances = np.array(arcface.loc[arcface['Label'] == 0, 'Distance'])\n",
    "\n",
    "plt.hist(pos_distances, bins = 40, label = 'Positive', density = True)\n",
    "plt.hist(neg_distances, bins = 40, label = 'Negative', density = True)\n",
    "plt.legend()\n",
    "plt.title('Distances Comparison')\n",
    "plt.show()"
   ]
  },
  {
   "cell_type": "code",
   "execution_count": 94,
   "metadata": {},
   "outputs": [
    {
     "name": "stdout",
     "output_type": "stream",
     "text": [
      "Train Size:  665\n",
      "Intercept:  [6.14486375]\n",
      "Coefficient:  [[-8.50228479]]\n"
     ]
    }
   ],
   "source": [
    "#Logistic Model\n",
    "\n",
    "x = np.array(arcface.loc[arcface['Distance'].notnull(), 'Distance']).reshape(-1, 1)\n",
    "y = np.array(arcface.loc[arcface['Distance'].notnull(), 'Label'])\n",
    "\n",
    "train_portion = 0.7\n",
    "all_indexes = np.arange(len(y))\n",
    "train_indexes = np.random.choice(all_indexes, size = int(train_portion*len(y)))\n",
    "test_indexes = [el for el in all_indexes if el not in train_indexes]\n",
    "\n",
    "x_train = x[train_indexes]\n",
    "x_test = x[test_indexes]\n",
    "y_train = y[train_indexes]\n",
    "y_test = y[test_indexes]\n",
    "\n",
    "model = LogisticRegression()\n",
    "model.fit(x_train, y_train)\n",
    "\n",
    "print('Train Size: ', int(train_portion*len(y)))\n",
    "print('Intercept: ', model.intercept_)\n",
    "print('Coefficient: ', model.coef_)"
   ]
  },
  {
   "cell_type": "code",
   "execution_count": 96,
   "metadata": {},
   "outputs": [
    {
     "name": "stdout",
     "output_type": "stream",
     "text": [
      "Model Accuracy:  1.0\n",
      "\n",
      "\n",
      "Confusion Matrix:\n",
      "[[252   5]\n",
      " [ 20 196]]\n",
      "\n",
      "\n",
      "Classification Report:\n",
      "              precision    recall  f1-score   support\n",
      "\n",
      "         0.0       0.93      0.98      0.95       257\n",
      "         1.0       0.98      0.91      0.94       216\n",
      "\n",
      "    accuracy                           0.95       473\n",
      "   macro avg       0.95      0.94      0.95       473\n",
      "weighted avg       0.95      0.95      0.95       473\n",
      "\n"
     ]
    }
   ],
   "source": [
    "# Logit Evaluation\n",
    "\n",
    "print('Model Accuracy: ', model.score(x_test, model.predict(x_test)))\n",
    "print('')\n",
    "print('')\n",
    "print('Confusion Matrix:')\n",
    "print(confusion_matrix(y_test, model.predict(x_test)))\n",
    "print('')\n",
    "print('')\n",
    "print('Classification Report:')\n",
    "print(classification_report(y_test, model.predict(x_test)))"
   ]
  },
  {
   "cell_type": "code",
   "execution_count": 97,
   "metadata": {},
   "outputs": [
    {
     "data": {
      "image/png": "[encoded data removed]",
      "text/plain": [
       "<Figure size 432x288 with 1 Axes>"
      ]
     },
     "metadata": {
      "needs_background": "light"
     },
     "output_type": "display_data"
    }
   ],
   "source": [
    "# LinkedIn\n",
    "\n",
    "link_accuracies = pd.read_csv('ArcFace_LinkedIn_Accuracy.csv').drop('Unnamed: 0', axis = 1)\n",
    "poslink_distances = np.array(link_accuracies.loc[link_accuracies['Prediction'] == True, 'Distance'])\n",
    "neglink_distances = np.array(link_accuracies.loc[link_accuracies['Prediction'] == False, 'Distance'])\n",
    "\n",
    "plt.hist(poslink_distances, bins = 40, label = 'Positive', density = True)\n",
    "plt.hist(neglink_distances, bins = 40, label = 'Negative', density = True)\n",
    "plt.legend()\n",
    "plt.title('LinkedIn Distances Comparison')\n",
    "plt.show()"
   ]
  },
  {
   "cell_type": "code",
   "execution_count": 101,
   "metadata": {},
   "outputs": [
    {
     "name": "stdout",
     "output_type": "stream",
     "text": [
      "Download Accuracy:  42.53222137983321\n"
     ]
    }
   ],
   "source": [
    "# LinkedIn Download Accuracy - Logit\n",
    "\n",
    "x = np.array(arcface.loc[arcface['Distance'].notnull(), 'Distance']).reshape(-1, 1)\n",
    "y = np.array(arcface.loc[arcface['Distance'].notnull(), 'Label'])\n",
    "\n",
    "model = LogisticRegression()\n",
    "model.fit(x, y)\n",
    "\n",
    "x_test = np.array(link_accuracies.loc[link_accuracies['Distance'].notnull(), 'Distance']).reshape(-1,1)\n",
    "\n",
    "preds = model.predict(x_test)\n",
    "print('Download Accuracy: ', preds.sum()*100/len(preds))"
   ]
  },
  {
   "cell_type": "markdown",
   "metadata": {},
   "source": [
    "# Screenshot Comparison (Origins Evaluation)"
   ]
  },
  {
   "cell_type": "code",
   "execution_count": 104,
   "metadata": {},
   "outputs": [],
   "source": [
    "def download_origin(names, folder, n_images):\n",
    "    \n",
    "    driver =  webdriver.Chrome()\n",
    "    options = webdriver.ChromeOptions()\n",
    "    options.add_argument('--no-sandbox')\n",
    "    options.add_argument('--disable-dev-shm-usage')\n",
    "    options.add_argument('--headless')\n",
    "    options.add_argument('--disable-gpu')\n",
    "    driver = webdriver.Chrome(options=options)\n",
    "    driver.set_page_load_timeout(60)\n",
    "    driver.get('https://images.google.com/')\n",
    "    cookie = driver.find_element(By.ID, 'L2AGLb')\n",
    "    cookie.click()\n",
    "    \n",
    "    origins = []\n",
    "\n",
    "    for i in range(len(names)):\n",
    "        full_name = names[i]\n",
    "        \n",
    "        search_bar = driver.find_element(By.CLASS_NAME, 'gLFyf')\n",
    "        search_bar.send_keys(full_name)\n",
    "        search_bar.send_keys(u'\\ue007')\n",
    "        all_images = driver.find_elements(By.XPATH,\"//img[contains(@class,'Q4LuWd')]\")\n",
    "        all_origins = driver.find_elements(By.CLASS_NAME, 'dmeZbb')\n",
    "        \n",
    "        for j in range(n_images):\n",
    "            try: \n",
    "                src = all_images[j].get_attribute('src')\n",
    "\n",
    "                final_folder = folder + '/' + full_name + f'{j}.jpg'\n",
    "                urllib.request.urlretrieve(str(src), final_folder)\n",
    "                \n",
    "                origin = all_origins[j].text\n",
    "                origins.append(origin)\n",
    "                \n",
    "            except:\n",
    "                pass\n",
    "        \n",
    "        driver.get('https://images.google.com/')\n",
    "        \n",
    "    driver.close()\n",
    "    \n",
    "    return names, origins"
   ]
  },
  {
   "cell_type": "markdown",
   "metadata": {},
   "source": [
    "## Preparation - Full Name"
   ]
  },
  {
   "cell_type": "code",
   "execution_count": 28,
   "metadata": {},
   "outputs": [
    {
     "name": "stderr",
     "output_type": "stream",
     "text": [
      "100%|██████████████████████████████████████████████████████████████████████████| 3758/3758 [00:00<00:00, 469672.06it/s]\n"
     ]
    }
   ],
   "source": [
    "folder_to = 'C:/Users/jing/Documents/Bocconi/DSBA/Leadership Connect/Image Scraping/downloaded_images_multiple'\n",
    "screenshots_folder = 'C:/Users/jing/Documents/Bocconi/DSBA/Leadership Connect/Image Scraping/Screenshots'\n",
    "all_screenshots = os.listdir(screenshots_folder)\n",
    "\n",
    "names_to_download = []\n",
    "\n",
    "for i in tqdm(range(len(all_screenshots))):\n",
    "    screenshot_name = all_screenshots[i][:-4] \n",
    "    names_to_download.append(screenshot_name)\n",
    "    \n",
    "names, origins = download_origin(names_to_download, folder_to, 5)"
   ]
  },
  {
   "cell_type": "code",
   "execution_count": 39,
   "metadata": {},
   "outputs": [
    {
     "data": {
      "text/html": [
       "<div>\n",
       "<style scoped>\n",
       "    .dataframe tbody tr th:only-of-type {\n",
       "        vertical-align: middle;\n",
       "    }\n",
       "\n",
       "    .dataframe tbody tr th {\n",
       "        vertical-align: top;\n",
       "    }\n",
       "\n",
       "    .dataframe thead th {\n",
       "        text-align: right;\n",
       "    }\n",
       "</style>\n",
       "<table border=\"1\" class=\"dataframe\">\n",
       "  <thead>\n",
       "    <tr style=\"text-align: right;\">\n",
       "      <th></th>\n",
       "      <th>Name</th>\n",
       "      <th>Origin</th>\n",
       "      <th>File Name</th>\n",
       "    </tr>\n",
       "  </thead>\n",
       "  <tbody>\n",
       "    <tr>\n",
       "      <th>0</th>\n",
       "      <td>Aadika Singh</td>\n",
       "      <td>ACLU of Alaska</td>\n",
       "      <td>Aadika Singh0.jpg</td>\n",
       "    </tr>\n",
       "    <tr>\n",
       "      <th>1</th>\n",
       "      <td>Aadika Singh</td>\n",
       "      <td>RocketReach</td>\n",
       "      <td>Aadika Singh1.jpg</td>\n",
       "    </tr>\n",
       "    <tr>\n",
       "      <th>2</th>\n",
       "      <td>Aadika Singh</td>\n",
       "      <td>Behance</td>\n",
       "      <td>Aadika Singh2.jpg</td>\n",
       "    </tr>\n",
       "    <tr>\n",
       "      <th>3</th>\n",
       "      <td>Aadika Singh</td>\n",
       "      <td>Flickr</td>\n",
       "      <td>Aadika Singh3.jpg</td>\n",
       "    </tr>\n",
       "    <tr>\n",
       "      <th>4</th>\n",
       "      <td>Aadika Singh</td>\n",
       "      <td>LinkedIn</td>\n",
       "      <td>Aadika Singh4.jpg</td>\n",
       "    </tr>\n",
       "  </tbody>\n",
       "</table>\n",
       "</div>"
      ],
      "text/plain": [
       "           Name          Origin          File Name\n",
       "0  Aadika Singh  ACLU of Alaska  Aadika Singh0.jpg\n",
       "1  Aadika Singh     RocketReach  Aadika Singh1.jpg\n",
       "2  Aadika Singh         Behance  Aadika Singh2.jpg\n",
       "3  Aadika Singh          Flickr  Aadika Singh3.jpg\n",
       "4  Aadika Singh        LinkedIn  Aadika Singh4.jpg"
      ]
     },
     "execution_count": 39,
     "metadata": {},
     "output_type": "execute_result"
    }
   ],
   "source": [
    "origins_data = pd.DataFrame()\n",
    "all_images = os.listdir('C:/Users/jing/Documents/Bocconi/DSBA/Leadership Connect/Image Scraping/downloaded_images_multiple')\n",
    "names = []\n",
    "file_names = []\n",
    "for i in range(len(all_images)):\n",
    "    names.append(all_images[i][:-5])\n",
    "    file_names.append(all_images[i])\n",
    "\n",
    "origins_data['Name'] = names\n",
    "origins_data['Origin'] = origins\n",
    "origins_data['File Name'] = file_names\n",
    "\n",
    "origins_data.head()\n",
    "#origins_data.to_csv('Images_Origins.csv')"
   ]
  },
  {
   "cell_type": "markdown",
   "metadata": {},
   "source": [
    "## Preparation - Full Name + Law Firm"
   ]
  },
  {
   "cell_type": "code",
   "execution_count": 106,
   "metadata": {},
   "outputs": [
    {
     "name": "stderr",
     "output_type": "stream",
     "text": [
      "100%|██████████████████████████████████████████████████████████████████████████| 3758/3758 [00:00<00:00, 751439.48it/s]\n"
     ]
    }
   ],
   "source": [
    "folder_to = 'C:/Users/jing/Documents/Bocconi/DSBA/Leadership Connect/Image Scraping/downloaded_images_law'\n",
    "screenshots_folder = 'C:/Users/jing/Documents/Bocconi/DSBA/Leadership Connect/Image Scraping/Screenshots'\n",
    "all_screenshots = os.listdir(screenshots_folder)\n",
    "\n",
    "names_to_download = []\n",
    "\n",
    "for i in tqdm(range(len(all_screenshots))):\n",
    "    screenshot_name = all_screenshots[i][:-4] + ' law firm'\n",
    "    names_to_download.append(screenshot_name)\n",
    "    \n",
    "names, origins = download_origin(names_to_download, folder_to, 1)"
   ]
  },
  {
   "cell_type": "code",
   "execution_count": 110,
   "metadata": {},
   "outputs": [
    {
     "data": {
      "text/html": [
       "<div>\n",
       "<style scoped>\n",
       "    .dataframe tbody tr th:only-of-type {\n",
       "        vertical-align: middle;\n",
       "    }\n",
       "\n",
       "    .dataframe tbody tr th {\n",
       "        vertical-align: top;\n",
       "    }\n",
       "\n",
       "    .dataframe thead th {\n",
       "        text-align: right;\n",
       "    }\n",
       "</style>\n",
       "<table border=\"1\" class=\"dataframe\">\n",
       "  <thead>\n",
       "    <tr style=\"text-align: right;\">\n",
       "      <th></th>\n",
       "      <th>Name</th>\n",
       "      <th>Origin</th>\n",
       "      <th>File Name</th>\n",
       "    </tr>\n",
       "  </thead>\n",
       "  <tbody>\n",
       "    <tr>\n",
       "      <th>0</th>\n",
       "      <td>A. Paul  Paul  Pineau law firm</td>\n",
       "      <td>JHU Hub - Johns Hopkins University</td>\n",
       "      <td>A. Paul  Paul  Pineau law firm0.jpg</td>\n",
       "    </tr>\n",
       "    <tr>\n",
       "      <th>1</th>\n",
       "      <td>Aadika Singh law firm</td>\n",
       "      <td>ACLU of Alaska</td>\n",
       "      <td>Aadika Singh law firm0.jpg</td>\n",
       "    </tr>\n",
       "    <tr>\n",
       "      <th>2</th>\n",
       "      <td>Aarnn Cilharman law firm</td>\n",
       "      <td>www.aaronhalegua.com</td>\n",
       "      <td>Aarnn Cilharman law firm0.jpg</td>\n",
       "    </tr>\n",
       "    <tr>\n",
       "      <th>3</th>\n",
       "      <td>Aaron Bowling law firm</td>\n",
       "      <td>Arnold &amp; Porter</td>\n",
       "      <td>Aaron Bowling law firm0.jpg</td>\n",
       "    </tr>\n",
       "    <tr>\n",
       "      <th>4</th>\n",
       "      <td>Aaron Clay law firm</td>\n",
       "      <td>Finnegan</td>\n",
       "      <td>Aaron Clay law firm0.jpg</td>\n",
       "    </tr>\n",
       "  </tbody>\n",
       "</table>\n",
       "</div>"
      ],
      "text/plain": [
       "                             Name                              Origin  \\\n",
       "0  A. Paul  Paul  Pineau law firm  JHU Hub - Johns Hopkins University   \n",
       "1           Aadika Singh law firm                      ACLU of Alaska   \n",
       "2        Aarnn Cilharman law firm                www.aaronhalegua.com   \n",
       "3          Aaron Bowling law firm                     Arnold & Porter   \n",
       "4             Aaron Clay law firm                            Finnegan   \n",
       "\n",
       "                             File Name  \n",
       "0  A. Paul  Paul  Pineau law firm0.jpg  \n",
       "1           Aadika Singh law firm0.jpg  \n",
       "2        Aarnn Cilharman law firm0.jpg  \n",
       "3          Aaron Bowling law firm0.jpg  \n",
       "4             Aaron Clay law firm0.jpg  "
      ]
     },
     "execution_count": 110,
     "metadata": {},
     "output_type": "execute_result"
    }
   ],
   "source": [
    "origins_data = pd.DataFrame()\n",
    "all_images = os.listdir('C:/Users/jing/Documents/Bocconi/DSBA/Leadership Connect/Image Scraping/downloaded_images_law')\n",
    "names = []\n",
    "file_names = []\n",
    "for i in range(len(all_images)):\n",
    "    names.append(all_images[i][:-5])\n",
    "    file_names.append(all_images[i])\n",
    "\n",
    "origins_data['Name'] = names\n",
    "origins_data['Origin'] = origins\n",
    "origins_data['File Name'] = file_names\n",
    "\n",
    "origins_data.head()\n",
    "#origins_data.to_csv('Images_Origins_Law.csv')"
   ]
  },
  {
   "cell_type": "code",
   "execution_count": 8,
   "metadata": {},
   "outputs": [
    {
     "name": "stderr",
     "output_type": "stream",
     "text": [
      "100%|██████████████████████████████████████████████████████████████████████████████| 3755/3755 [04:07<00:00, 15.14it/s]\n"
     ]
    }
   ],
   "source": [
    "#Faces Extraction\n",
    "\n",
    "current_folder = 'C:/Users/jing/Documents/Bocconi/DSBA/Leadership Connect/Image Scraping/downloaded_images_law'\n",
    "all_images = os.listdir(current_folder)\n",
    "faces_folder = 'C:/Users/jing/Documents/Bocconi/DSBA/Leadership Connect/Image Scraping/downloaded_images_law_faces'\n",
    "\n",
    "paths = []\n",
    "names = []\n",
    "y_dim = []\n",
    "x_dim = []\n",
    "\n",
    "faceCascade = cv2.CascadeClassifier(cv2.data.haarcascades + \"haarcascade_frontalface_default.xml\")\n",
    "\n",
    "for j in tqdm(range(len(all_images))):\n",
    "    try:\n",
    "        image_dir = current_folder + '/' + all_images[j]\n",
    "        image = cv2.imread(image_dir)\n",
    "        gray_img = cv2.cvtColor(image, cv2.COLOR_BGR2GRAY)\n",
    "        faces = faceCascade.detectMultiScale(gray_img,\n",
    "                                             #scaleFactor=1.3,  \n",
    "                                             #minSize=(30, 30)\n",
    "                                             minNeighbors=1)\n",
    "        for k in range(1):\n",
    "            x = faces[k][0]\n",
    "            y = faces[k][1]\n",
    "            w = faces[k][2]\n",
    "            h = faces[k][3]\n",
    "            cv2.rectangle(image, (x, y), (x+w, y+h), (0, 255, 0), 2)\n",
    "            roi_color = image[y : y+h, x : x+w]\n",
    "            x_dim.append(roi_color.shape[0])\n",
    "            y_dim.append(roi_color.shape[1])\n",
    "            path_to = faces_folder + '/' + all_images[j]\n",
    "            paths.append(path_to)\n",
    "            names.append(all_images[j][:-5])\n",
    "            cv2.imwrite(path_to, roi_color)\n",
    "    except:\n",
    "        paths.append(None)\n",
    "        names.append(all_images[j][:-5])"
   ]
  },
  {
   "cell_type": "code",
   "execution_count": 11,
   "metadata": {},
   "outputs": [
    {
     "data": {
      "image/png": "[encoded data removed]",
      "text/plain": [
       "<Figure size 432x288 with 1 Axes>"
      ]
     },
     "metadata": {
      "needs_background": "light"
     },
     "output_type": "display_data"
    },
    {
     "data": {
      "image/png": "[encoded data removed]",
      "text/plain": [
       "<Figure size 432x288 with 1 Axes>"
      ]
     },
     "metadata": {
      "needs_background": "light"
     },
     "output_type": "display_data"
    }
   ],
   "source": [
    "# Distributions of the dimensions\n",
    "\n",
    "n = 1\n",
    "\n",
    "x_upper = np.median(x_dim) + n*np.std(x_dim)\n",
    "x_lower = np.median(x_dim) - n*np.std(x_dim)\n",
    "plt.hist(x_dim, bins = 50, color = 'r', density = False)\n",
    "plt.axvline(x_upper, color = 'black')\n",
    "plt.axvline(x_lower, color = 'black')\n",
    "plt.title('X Dimension')\n",
    "plt.show()\n",
    "plt.hist(y_dim, bins = 50, color = 'b', density = False)\n",
    "y_upper = np.median(y_dim) + n*np.std(y_dim)\n",
    "y_lower = np.median(y_dim) - n*np.std(y_dim)\n",
    "plt.axvline(y_upper, color = 'black')\n",
    "plt.axvline(y_lower, color = 'black')\n",
    "plt.title('Y Dimension')\n",
    "plt.show()"
   ]
  },
  {
   "cell_type": "markdown",
   "metadata": {},
   "source": [
    "# LinkedIn Scraping"
   ]
  },
  {
   "cell_type": "markdown",
   "metadata": {},
   "source": [
    "## Dataset Analysis"
   ]
  },
  {
   "cell_type": "code",
   "execution_count": 364,
   "metadata": {},
   "outputs": [],
   "source": [
    "ll = pd.read_csv('C:/Users/jing/Documents/Bocconi/DSBA/Leadership Connect/Final Dataset/Final_Cross.csv').drop('Unnamed: 0', axis = 1)"
   ]
  },
  {
   "cell_type": "code",
   "execution_count": 356,
   "metadata": {},
   "outputs": [
    {
     "name": "stdout",
     "output_type": "stream",
     "text": [
      "% with Organization: 53.523964537433656\n"
     ]
    }
   ],
   "source": [
    "not_null = ll[ll['Organization Name (Parent)'].notnull()].shape[0]*100/ll.shape[0]\n",
    "print(f'% with Organization: {not_null}')"
   ]
  },
  {
   "cell_type": "code",
   "execution_count": 357,
   "metadata": {},
   "outputs": [
    {
     "name": "stderr",
     "output_type": "stream",
     "text": [
      "100%|████████████████████████████████████████████████████████████████████████| 937552/937552 [01:36<00:00, 9753.81it/s]\n",
      "100%|██████████████████████████████████████████████████████████████████████████| 3758/3758 [00:00<00:00, 528843.97it/s]\n"
     ]
    }
   ],
   "source": [
    "ll_names = []\n",
    "for i in tqdm(range(ll.shape[0])):\n",
    "    first_name = str(ll.loc[i, 'First Name'])\n",
    "    middle_name = str(ll.loc[i, 'Middle Name'])\n",
    "    last_name = str(ll.loc[i, 'Last Name'])\n",
    "    if middle_name == 'nan':\n",
    "        full_name = first_name + ' ' + last_name\n",
    "    else:\n",
    "        full_name = first_name + ' ' + middle_name + ' ' + last_name\n",
    "    ll_names.append(full_name)\n",
    "    \n",
    "screenshot_names = []\n",
    "screenshots_folder = 'C:/Users/jing/Documents/Bocconi/DSBA/Leadership Connect/Image Scraping/Screenshots'\n",
    "all_screenshots = os.listdir(screenshots_folder)\n",
    "for i in tqdm(range(len(all_screenshots))):\n",
    "    screenshot_name = all_screenshots[i][:-4] \n",
    "    screenshot_names.append(screenshot_name)"
   ]
  },
  {
   "cell_type": "code",
   "execution_count": 362,
   "metadata": {},
   "outputs": [
    {
     "name": "stdout",
     "output_type": "stream",
     "text": [
      "Screenshots in the dataset: 86.64183076104311%\n"
     ]
    }
   ],
   "source": [
    "intersection = len(set(screenshot_names).intersection(set(ll_names)))*100/len(set(screenshot_names))\n",
    "print(f'Screenshots in the dataset: {intersection}%')"
   ]
  },
  {
   "cell_type": "code",
   "execution_count": 37,
   "metadata": {},
   "outputs": [],
   "source": [
    "folder_to = 'C:/Users/jing/Documents/Bocconi/DSBA/Leadership Connect/Image Scraping/linkedin_images'\n",
    "ssl._create_default_https_context = ssl._create_unverified_context\n",
    "\n",
    "driver =  webdriver.Chrome()\n",
    "options = webdriver.ChromeOptions()\n",
    "options.add_argument('--no-sandbox')\n",
    "#options.add_argument('— incognito')\n",
    "options.add_argument('--disable-dev-shm-usage')\n",
    "#options.add_argument('--headless')\n",
    "options.add_argument('--disable-gpu')\n",
    "driver = webdriver.Chrome(options=options)\n",
    "driver.set_page_load_timeout(60)\n",
    "driver.get('https://www.linkedin.com/feed/')\n",
    "account = driver.find_element(By.CLASS_NAME, 'main__sign-in-link')\n",
    "account.click()\n",
    "time.sleep(1)\n",
    "username = driver.find_element(By.ID, 'username')\n",
    "username.send_keys('alex-lucchini@virgilio.it')\n",
    "time.sleep(1)\n",
    "password = driver.find_element(By.ID, 'password')\n",
    "password.send_keys('Lcclxa99t.26-LN')\n",
    "time.sleep(1)\n",
    "password.send_keys(u'\\ue007')\n",
    "time.sleep(1)\n",
    "\n",
    "search_field = driver.find_element(By.XPATH, '//*[@id=\"global-nav-typeahead\"]/input')\n",
    "search_field.send_keys('Bill Gates')\n",
    "search_field.send_keys(u'\\ue007')\n",
    "time.sleep(4)"
   ]
  },
  {
   "cell_type": "code",
   "execution_count": 34,
   "metadata": {},
   "outputs": [],
   "source": [
    "wait = WebDriverWait(driver, 10)\n",
    "elements = wait.until(EC.element_to_be_clickable((By.XPATH, '//*[@id=\"Mk7c59mcTbKqY5d4AJ7d2g==\"]/div/div[2]/a')))"
   ]
  },
  {
   "cell_type": "code",
   "execution_count": 36,
   "metadata": {},
   "outputs": [],
   "source": [
    "elements.click()"
   ]
  },
  {
   "cell_type": "markdown",
   "metadata": {},
   "source": [
    "## Single Person Attempt"
   ]
  },
  {
   "cell_type": "code",
   "execution_count": 12,
   "metadata": {
    "scrolled": false
   },
   "outputs": [
    {
     "data": {
      "text/plain": [
       "array(['1999 - 2004 · 5 anni', '2007 - 2010 · 3 anni', 'Baker McKenzie',\n",
       "       'Chairman of the Global Strategic Committee', 'Chicago',\n",
       "       'Esperienza', 'European Central Bank', 'France Finance Minister',\n",
       "       'Frankfurt Am Main Area, Germany', 'International Monetary Fund',\n",
       "       'Managing Director', 'Ministry of Finance, France',\n",
       "       'Paris, France', 'President of the European Central Bank',\n",
       "       'Washington, D.C.', 'lug 2011 - set 2019 · 8 anni 3 mesi',\n",
       "       'nov 2019 - Presente · 3 anni 7 mesi'], dtype='<U42')"
      ]
     },
     "execution_count": 12,
     "metadata": {},
     "output_type": "execute_result"
    }
   ],
   "source": [
    "folder_to = 'C:/Users/jing/Documents/Bocconi/DSBA/Leadership Connect/Image Scraping/linkedin_images'\n",
    "ssl._create_default_https_context = ssl._create_unverified_context\n",
    "\n",
    "driver =  webdriver.Chrome()\n",
    "options = webdriver.ChromeOptions()\n",
    "options.add_argument('--no-sandbox')\n",
    "#options.add_argument('— incognito')\n",
    "options.add_argument('--disable-dev-shm-usage')\n",
    "#options.add_argument('--headless')\n",
    "options.add_argument('--disable-gpu')\n",
    "driver = webdriver.Chrome(options=options)\n",
    "driver.set_page_load_timeout(60)\n",
    "driver.get('https://www.linkedin.com/feed/')\n",
    "account = driver.find_element(By.CLASS_NAME, 'main__sign-in-link')\n",
    "account.click()\n",
    "time.sleep(1)\n",
    "username = driver.find_element(By.ID, 'username')\n",
    "username.send_keys('alex-lucchini@virgilio.it')\n",
    "time.sleep(1)\n",
    "password = driver.find_element(By.ID, 'password')\n",
    "password.send_keys('Lcclxa99t.26-LN')\n",
    "time.sleep(1)\n",
    "password.send_keys(u'\\ue007')\n",
    "time.sleep(1)\n",
    "\n",
    "search_field = driver.find_element(By.XPATH, '//*[@id=\"global-nav-typeahead\"]/input')\n",
    "search_field.send_keys('Christine Lagarde')\n",
    "search_field.send_keys(u'\\ue007')\n",
    "time.sleep(4)\n",
    "\n",
    "elements = driver.find_elements(By.CLASS_NAME, 'app-aware-link')\n",
    "for i in range(len(elements)):\n",
    "    if elements[i].text == 'Vedi tutti i risultati - Persone':\n",
    "        elements[i].click()\n",
    "        break\n",
    "        \n",
    "time.sleep(4)\n",
    "all_people = driver.find_elements(By.CLASS_NAME, 'app-aware-link')\n",
    "\n",
    "clickable = []\n",
    "for i in range(len(all_people)):\n",
    "    name = all_people[i].text.lower()\n",
    "    if 'christine' in name or 'lagarde' in name:\n",
    "        if all_people[i].get_attribute('href') not in clickable:\n",
    "            clickable.append(all_people[i].get_attribute('href'))\n",
    "            \n",
    "driver.get(clickable[0])\n",
    "time.sleep(2)\n",
    "all_el = driver.find_elements(By.XPATH, \"//*[contains(@id, 'ember')]\")\n",
    "els = [el.text for el in all_el]\n",
    "for i in range(len(els)):\n",
    "    if els[i][:10] == 'Esperienza':\n",
    "        exp = els[i]\n",
    "        \n",
    "exp = np.unique(np.array(exp.split('\\n')))\n",
    "image = driver.find_element(By.XPATH, '/html/body/div[6]/div[3]/div/div/div[2]/div/div/main/section[1]/div[2]/div[1]/div[1]/div/button/img')\n",
    "src = image.get_attribute('src')\n",
    "urllib.request.urlretrieve(str(src), 'Christine Lagarde.jpg')\n",
    "exp"
   ]
  },
  {
   "cell_type": "markdown",
   "metadata": {},
   "source": [
    "## Multiple Images "
   ]
  },
  {
   "cell_type": "code",
   "execution_count": 2,
   "metadata": {},
   "outputs": [],
   "source": [
    "final_cross = pd.read_csv('C:/Users/jing/Documents/Bocconi/DSBA/Leadership Connect/Final Dataset/Final_Cross.csv').drop('Unnamed: 0', axis = 1)"
   ]
  },
  {
   "cell_type": "code",
   "execution_count": 3,
   "metadata": {},
   "outputs": [],
   "source": [
    "final_panel = pd.read_csv('C:/Users/jing/Documents/Bocconi/DSBA/Leadership Connect/Final Dataset/Final_Panel.csv').drop('Unnamed: 0', axis = 1)"
   ]
  },
  {
   "cell_type": "code",
   "execution_count": 2,
   "metadata": {},
   "outputs": [
    {
     "name": "stderr",
     "output_type": "stream",
     "text": [
      "100%|██████████████████████████████████████████████████████████████████████████| 3758/3758 [00:00<00:00, 626428.52it/s]\n"
     ]
    }
   ],
   "source": [
    "folder_to = 'C:/Users/jing/Documents/Bocconi/DSBA/Leadership Connect/Image Scraping/linkedin_images'\n",
    "screenshots_folder = 'C:/Users/jing/Documents/Bocconi/DSBA/Leadership Connect/Image Scraping/Screenshots'\n",
    "all_screenshots = os.listdir(screenshots_folder)\n",
    "\n",
    "names_to_download = []\n",
    "\n",
    "for i in tqdm(range(len(all_screenshots))):\n",
    "    screenshot_name = all_screenshots[i][:-4] \n",
    "    names_to_download.append(screenshot_name)"
   ]
  },
  {
   "cell_type": "code",
   "execution_count": 5,
   "metadata": {},
   "outputs": [
    {
     "name": "stderr",
     "output_type": "stream",
     "text": [
      "100%|██████████████████████████████████████████████████████████████████████████████| 937552/937552 [02:27<00:00, 6364.78it/s]\n"
     ]
    }
   ],
   "source": [
    "all_data_names = []\n",
    "for i in tqdm(range(final_cross.shape[0])):\n",
    "    full_name = ''\n",
    "    if str(final_cross.loc[i, 'First Name']) != 'nan':\n",
    "        full_name += final_cross.loc[i, 'First Name']\n",
    "    if str(final_cross.loc[i, 'Middle Name']) != 'nan':\n",
    "        full_name += ' '\n",
    "        full_name += final_cross.loc[i, 'Middle Name']\n",
    "    if str(final_cross.loc[i, 'Last Name']) != 'nan':\n",
    "        full_name += ' ' \n",
    "        full_name += final_cross.loc[i, 'Last Name']\n",
    "    all_data_names.append(full_name)\n",
    "\n",
    "final_cross['Full Name'] = all_data_names"
   ]
  },
  {
   "cell_type": "code",
   "execution_count": 5,
   "metadata": {},
   "outputs": [
    {
     "name": "stderr",
     "output_type": "stream",
     "text": [
      "100%|████████████████████████████████████████████████████████████████████████████| 3501449/3501449 [09:17<00:00, 6279.42it/s]\n"
     ]
    }
   ],
   "source": [
    "all_data_names = []\n",
    "for i in tqdm(range(final_panel.shape[0])):\n",
    "    full_name = ''\n",
    "    if str(final_panel.loc[i, 'First Name']) != 'nan':\n",
    "        full_name += final_panel.loc[i, 'First Name']\n",
    "    if str(final_panel.loc[i, 'Middle Name']) != 'nan':\n",
    "        full_name += ' '\n",
    "        full_name += final_panel.loc[i, 'Middle Name']\n",
    "    if str(final_panel.loc[i, 'Last Name']) != 'nan':\n",
    "        full_name += ' ' \n",
    "        full_name += final_panel.loc[i, 'Last Name']\n",
    "    all_data_names.append(full_name)\n",
    "\n",
    "final_panel['Full Name'] = all_data_names"
   ]
  },
  {
   "cell_type": "code",
   "execution_count": 6,
   "metadata": {},
   "outputs": [],
   "source": [
    "#final_panel.to_csv('C:/Users/jing/Documents/Bocconi/DSBA/Leadership Connect/Final Dataset/Final_Panel.csv')"
   ]
  },
  {
   "cell_type": "code",
   "execution_count": 20,
   "metadata": {},
   "outputs": [],
   "source": [
    "#final_cross.to_csv('C:/Users/jing/Documents/Bocconi/DSBA/Leadership Connect/Final Dataset/Final_Cross.csv')"
   ]
  },
  {
   "cell_type": "code",
   "execution_count": 6,
   "metadata": {},
   "outputs": [],
   "source": [
    "all_data_names = final_cross['Full Name']\n",
    "names_to_download = set(names_to_download).intersection(set(all_data_names))\n",
    "names_to_download = list(final_cross.loc[((final_cross['Organization Name (Parent)'].notnull() | (final_cross['Careers'].notnull())) & (final_cross['Full Name'].isin(names_to_download))), 'Full Name'])"
   ]
  },
  {
   "cell_type": "code",
   "execution_count": 7,
   "metadata": {},
   "outputs": [
    {
     "data": {
      "text/plain": [
       "100.0"
      ]
     },
     "execution_count": 7,
     "metadata": {},
     "output_type": "execute_result"
    }
   ],
   "source": [
    "len(set(names_to_download).intersection(set(all_data_names)))*100/len(set(names_to_download))"
   ]
  },
  {
   "cell_type": "code",
   "execution_count": 3,
   "metadata": {},
   "outputs": [],
   "source": [
    "def linkedin_login(email, password_text):\n",
    "    driver =  webdriver.Chrome()\n",
    "    options = webdriver.ChromeOptions()\n",
    "    options.add_argument('--no-sandbox')\n",
    "    #options.add_argument('— incognito')\n",
    "    options.add_argument('--disable-dev-shm-usage')\n",
    "    #options.add_argument('--headless')\n",
    "    options.add_argument('--disable-gpu')\n",
    "    driver = webdriver.Chrome(options=options)\n",
    "    driver.set_page_load_timeout(60)\n",
    "    driver.get('https://www.linkedin.com/feed/')\n",
    "    account = driver.find_element(By.CLASS_NAME, 'main__sign-in-link')\n",
    "    account.click()\n",
    "    time.sleep(1)\n",
    "    username = driver.find_element(By.ID, 'username')\n",
    "    username.send_keys(email)\n",
    "    time.sleep(1)\n",
    "    password = driver.find_element(By.ID, 'password')\n",
    "    password.send_keys(password_text)\n",
    "    time.sleep(1)\n",
    "    password.send_keys(u'\\ue007')"
   ]
  },
  {
   "cell_type": "code",
   "execution_count": 23,
   "metadata": {},
   "outputs": [],
   "source": [
    "linkedin_login('alex-lucchini@virgilio.it', 'Lcclxa99t.26-LN')"
   ]
  },
  {
   "cell_type": "code",
   "execution_count": 8,
   "metadata": {},
   "outputs": [],
   "source": [
    "def linkedin_scraping(email, password_text, names):\n",
    "    \n",
    "    start = time.time()\n",
    "    ssl._create_default_https_context = ssl._create_unverified_context\n",
    "\n",
    "    all_images = []\n",
    "    all_experiences = []\n",
    "    all_names = []\n",
    "\n",
    "    driver =  webdriver.Chrome()\n",
    "    options = webdriver.ChromeOptions()\n",
    "    options.add_argument('--no-sandbox')\n",
    "    #options.add_argument('— incognito')\n",
    "    options.add_argument('--disable-dev-shm-usage')\n",
    "    #options.add_argument('--headless')\n",
    "    options.add_argument('--disable-gpu')\n",
    "    driver = webdriver.Chrome(options=options)\n",
    "    driver.set_page_load_timeout(60)\n",
    "    driver.get('https://www.linkedin.com/feed/')\n",
    "    account = driver.find_element(By.CLASS_NAME, 'main__sign-in-link')\n",
    "    account.click()\n",
    "    time.sleep(1)\n",
    "    username = driver.find_element(By.ID, 'username')\n",
    "    username.send_keys(email)\n",
    "    time.sleep(1)\n",
    "    password = driver.find_element(By.ID, 'password')\n",
    "    password.send_keys(password_text)\n",
    "    time.sleep(1)\n",
    "    password.send_keys(u'\\ue007')\n",
    "    time.sleep(1)\n",
    "\n",
    "    #accept = driver.find_element(By.CLASS_NAME, 'artdeco-button__text')\n",
    "    #accept.click() \n",
    "\n",
    "    for i in tqdm(range(len(names))):\n",
    "        #Insertion of the name\n",
    "        full_name = names[i]\n",
    "        first_name = full_name.split(' ')[0]\n",
    "        last_name = full_name.split(' ')[-1]\n",
    "        time.sleep(1)\n",
    "        search_field = driver.find_element(By.XPATH, '//*[@id=\"global-nav-typeahead\"]/input')\n",
    "        search_field.send_keys(full_name)\n",
    "        search_field.send_keys(u'\\ue007')\n",
    "\n",
    "        time.sleep(4)\n",
    "\n",
    "        #Selection of the list of all individuals\n",
    "        elements = driver.find_elements(By.CLASS_NAME, 'app-aware-link')\n",
    "        for i in range(len(elements)):\n",
    "            if elements[i].text == 'Vedi tutti i risultati - Persone':\n",
    "                elements[i].click()\n",
    "                break\n",
    "        time.sleep(4)\n",
    "\n",
    "\n",
    "        wait = WebDriverWait(driver, 10)\n",
    "        all_people = wait.until(EC.element_to_be_clickable((By.CLASS_NAME, 'app-aware-link')))\n",
    "        all_people = driver.find_elements(By.CLASS_NAME, 'app-aware-link')\n",
    "        clickable = []\n",
    "        for i in range(len(all_people)):\n",
    "            name = all_people[i].text.lower()\n",
    "            if first_name.lower() in name or last_name.lower() in name:\n",
    "                if all_people[i].get_attribute('href') not in clickable:\n",
    "                    clickable.append(all_people[i].get_attribute('href'))\n",
    "        time.sleep(2)\n",
    "\n",
    "        for j in range(min(5, len(clickable))):\n",
    "            driver.get(clickable[j])\n",
    "            time.sleep(4)\n",
    "\n",
    "            all_el = driver.find_elements(By.XPATH, \"//*[contains(@id, 'ember')]\")\n",
    "            els = []\n",
    "            for el in all_el:\n",
    "                attempts_counter = 0\n",
    "                while attempts_counter < 5: \n",
    "                    try:\n",
    "                        #time.sleep(1)\n",
    "                        els.append(el.text)\n",
    "                        break\n",
    "                    except StaleElementReferenceException:\n",
    "                        attempts_counter += 1\n",
    "                    except  WebDriverException:\n",
    "                        attempts_counter += 1\n",
    "            time.sleep(2)\n",
    "\n",
    "            for h in range(len(els)):\n",
    "                if els[h][:10] == 'Esperienza':\n",
    "                    exp = np.unique(np.array(els[h].split('\\n')))\n",
    "                    exp = [el.lower() for el in exp]\n",
    "                    break\n",
    "\n",
    "            time.sleep(2)\n",
    "\n",
    "            if h < len(els) - 1:\n",
    "                attempt = 0\n",
    "                while attempt < 5:\n",
    "                    try:\n",
    "                        image = WebDriverWait(driver, 20).until(EC.presence_of_element_located((By.XPATH, '/html/body/div[6]/div[3]/div/div/div[2]/div/div/main/section[1]/div[2]/div[1]/div[1]/div/button/img')))\n",
    "                        image = driver.find_element(By.XPATH, '/html/body/div[6]/div[3]/div/div/div[2]/div/div/main/section[1]/div[2]/div[1]/div[1]/div/button/img')\n",
    "                        src = image.get_attribute('src')\n",
    "                        name = full_name + '_' + str(j)\n",
    "                        all_names.append(name)\n",
    "                        all_images.append(str(src))\n",
    "                        all_experiences.append(exp)\n",
    "                        break\n",
    "                    except TimeoutException:\n",
    "                        driver.get(clickable[j])\n",
    "                        attempt += 1\n",
    "                    except NoSuchElementException:\n",
    "                        driver.get(clickable[j])\n",
    "                        attempt += 1\n",
    "    \n",
    "        driver.get('https://www.linkedin.com/feed/')\n",
    "    driver.close()\n",
    "\n",
    "    end = time.time()\n",
    "    print(f'Total Time for {len(names)} people: {end-start} seconds')\n",
    "    return all_names, all_images, all_experiences"
   ]
  },
  {
   "cell_type": "code",
   "execution_count": 9,
   "metadata": {},
   "outputs": [],
   "source": [
    "def exp_cleaning(all_experiences):\n",
    "    \n",
    "    for i in tqdm(range(len(all_experiences))):\n",
    "        while '' in all_experiences[i]:\n",
    "            all_experiences[i].remove('')\n",
    "        for j in range(len(all_experiences[i])):\n",
    "            all_experiences[i][j] = all_experiences[i][j].lower()\n",
    "            if all_experiences[i][j][0] == ' ':\n",
    "                all_experiences[i][j] = all_experiences[i][j][1:]\n",
    "            if all_experiences[i][j][-1] == ' ':\n",
    "                all_experiences[i][j] = all_experiences[i][j][:-1]\n",
    "                \n",
    "    return all_experiences"
   ]
  },
  {
   "cell_type": "code",
   "execution_count": 10,
   "metadata": {},
   "outputs": [],
   "source": [
    "def link_data(all_names, all_experiences, all_images):\n",
    "    \n",
    "    linkedin = pd.DataFrame()\n",
    "    simple_names = [all_names[i][:-2] for i in range(len(all_names))]\n",
    "    exps = ['/'.join(all_experiences[i]) for i in range(len(all_experiences))]\n",
    "    linkedin['Code Name'] = all_names\n",
    "    linkedin['Full Name'] = simple_names\n",
    "    linkedin['Image'] = all_images\n",
    "    linkedin['Experience'] = exps\n",
    "    \n",
    "    linkedin = linkedin[linkedin['Image'] != 'data:image/gif;base64,R0lGODlhAQABAIAAAAAAAP///yH5BAEAAAAALAAAAAABAAEAAAIBRAA7'].reset_index(drop = True)\n",
    "    linkedin = linkedin.drop_duplicates('Image').reset_index(drop = True)\n",
    "    \n",
    "    return linkedin"
   ]
  },
  {
   "cell_type": "code",
   "execution_count": null,
   "metadata": {},
   "outputs": [],
   "source": [
    "n = 1\n",
    "\n",
    "emails = ['alex-lucchini@virgilio.it','leadershipconnect1@gmail.com']*n\n",
    "passwords = ['Lcclxa99t.26-LN', 'Leadership_Connect_1']*n\n",
    "credentials = dict()\n",
    "for i in range(len(emails)):\n",
    "    credentials[emails[i]] = passwords[i]\n",
    "    \n",
    "sleep_time = 3600\n",
    "\n",
    "for i in range(1):\n",
    "    names = list(names_to_download)[500+50*i:550+50*i]\n",
    "    all_names, all_images, all_experiences = linkedin_scraping(email=emails[i], password_text = credentials[emails[i]], names = names)\n",
    "    all_experiences = exp_cleaning(all_experiences)\n",
    "    link_dataset = link_data(all_names, all_experiences, all_images)\n",
    "    link_dataset.to_csv(f'Linkedin_Scraping_{i+1}.csv')\n",
    "    #time.sleep(sleep_time)"
   ]
  },
  {
   "cell_type": "markdown",
   "metadata": {},
   "source": [
    "### Match Search"
   ]
  },
  {
   "cell_type": "code",
   "execution_count": 5,
   "metadata": {},
   "outputs": [
    {
     "data": {
      "text/html": [
       "<div>\n",
       "<style scoped>\n",
       "    .dataframe tbody tr th:only-of-type {\n",
       "        vertical-align: middle;\n",
       "    }\n",
       "\n",
       "    .dataframe tbody tr th {\n",
       "        vertical-align: top;\n",
       "    }\n",
       "\n",
       "    .dataframe thead th {\n",
       "        text-align: right;\n",
       "    }\n",
       "</style>\n",
       "<table border=\"1\" class=\"dataframe\">\n",
       "  <thead>\n",
       "    <tr style=\"text-align: right;\">\n",
       "      <th></th>\n",
       "      <th>Code Name</th>\n",
       "      <th>Full Name</th>\n",
       "      <th>Image</th>\n",
       "      <th>Experience</th>\n",
       "    </tr>\n",
       "  </thead>\n",
       "  <tbody>\n",
       "    <tr>\n",
       "      <th>0</th>\n",
       "      <td>Hasan Ali_0</td>\n",
       "      <td>Hasan Ali</td>\n",
       "      <td>https://media.licdn.com/dms/image/C4E03AQHKDP9...</td>\n",
       "      <td>urban &amp; indoor furniture/(business development...</td>\n",
       "    </tr>\n",
       "    <tr>\n",
       "      <th>1</th>\n",
       "      <td>Hasan Ali_1</td>\n",
       "      <td>Hasan Ali</td>\n",
       "      <td>https://media.licdn.com/dms/image/C5603AQFLwjz...</td>\n",
       "      <td>esperienza/it help desk/it manager/one team sr...</td>\n",
       "    </tr>\n",
       "    <tr>\n",
       "      <th>2</th>\n",
       "      <td>Hasan Ali_4</td>\n",
       "      <td>Hasan Ali</td>\n",
       "      <td>https://media.licdn.com/dms/image/C5603AQGgsFN...</td>\n",
       "      <td>- to ensure the team is collaborating closely ...</td>\n",
       "    </tr>\n",
       "    <tr>\n",
       "      <th>3</th>\n",
       "      <td>Timothy Brennan_1</td>\n",
       "      <td>Timothy Brennan</td>\n",
       "      <td>https://media.licdn.com/dms/image/C4E03AQEojzW...</td>\n",
       "      <td>charlottesville, virginia, united states/esper...</td>\n",
       "    </tr>\n",
       "    <tr>\n",
       "      <th>4</th>\n",
       "      <td>Timothy Brennan_3</td>\n",
       "      <td>Timothy Brennan</td>\n",
       "      <td>https://media.licdn.com/dms/image/C5603AQFt2kv...</td>\n",
       "      <td>a tempo pieno · 4 anni 10 mesi/boston, massach...</td>\n",
       "    </tr>\n",
       "  </tbody>\n",
       "</table>\n",
       "</div>"
      ],
      "text/plain": [
       "           Code Name        Full Name  \\\n",
       "0        Hasan Ali_0        Hasan Ali   \n",
       "1        Hasan Ali_1        Hasan Ali   \n",
       "2        Hasan Ali_4        Hasan Ali   \n",
       "3  Timothy Brennan_1  Timothy Brennan   \n",
       "4  Timothy Brennan_3  Timothy Brennan   \n",
       "\n",
       "                                               Image  \\\n",
       "0  https://media.licdn.com/dms/image/C4E03AQHKDP9...   \n",
       "1  https://media.licdn.com/dms/image/C5603AQFLwjz...   \n",
       "2  https://media.licdn.com/dms/image/C5603AQGgsFN...   \n",
       "3  https://media.licdn.com/dms/image/C4E03AQEojzW...   \n",
       "4  https://media.licdn.com/dms/image/C5603AQFt2kv...   \n",
       "\n",
       "                                          Experience  \n",
       "0  urban & indoor furniture/(business development...  \n",
       "1  esperienza/it help desk/it manager/one team sr...  \n",
       "2  - to ensure the team is collaborating closely ...  \n",
       "3  charlottesville, virginia, united states/esper...  \n",
       "4  a tempo pieno · 4 anni 10 mesi/boston, massach...  "
      ]
     },
     "execution_count": 5,
     "metadata": {},
     "output_type": "execute_result"
    }
   ],
   "source": [
    "linkedin = pd.read_csv('Linkedin_Scraping.csv').drop('Unnamed: 0', axis = 1).drop_duplicates('Image').drop_duplicates('Experience').reset_index(drop = True)\n",
    "linkedin.head()"
   ]
  },
  {
   "cell_type": "code",
   "execution_count": 8,
   "metadata": {},
   "outputs": [
    {
     "name": "stdout",
     "output_type": "stream",
     "text": [
      "(14224, 45)\n"
     ]
    },
    {
     "data": {
      "text/html": [
       "<div>\n",
       "<style scoped>\n",
       "    .dataframe tbody tr th:only-of-type {\n",
       "        vertical-align: middle;\n",
       "    }\n",
       "\n",
       "    .dataframe tbody tr th {\n",
       "        vertical-align: top;\n",
       "    }\n",
       "\n",
       "    .dataframe thead th {\n",
       "        text-align: right;\n",
       "    }\n",
       "</style>\n",
       "<table border=\"1\" class=\"dataframe\">\n",
       "  <thead>\n",
       "    <tr style=\"text-align: right;\">\n",
       "      <th></th>\n",
       "      <th>Leadership People Id</th>\n",
       "      <th>Prefix</th>\n",
       "      <th>First Name</th>\n",
       "      <th>Middle Name</th>\n",
       "      <th>Nickname</th>\n",
       "      <th>Last Name</th>\n",
       "      <th>Maiden Name</th>\n",
       "      <th>Suffix</th>\n",
       "      <th>Credentials</th>\n",
       "      <th>Title</th>\n",
       "      <th>...</th>\n",
       "      <th>Careers</th>\n",
       "      <th>Other Current Roles</th>\n",
       "      <th>Political Affiliation</th>\n",
       "      <th>Gender</th>\n",
       "      <th>Start Date</th>\n",
       "      <th>Full Job</th>\n",
       "      <th>Current Start Date</th>\n",
       "      <th>Other Current</th>\n",
       "      <th>End Date</th>\n",
       "      <th>Full Name</th>\n",
       "    </tr>\n",
       "  </thead>\n",
       "  <tbody>\n",
       "    <tr>\n",
       "      <th>0</th>\n",
       "      <td>1078115.0</td>\n",
       "      <td>NaN</td>\n",
       "      <td>Hasan</td>\n",
       "      <td>NaN</td>\n",
       "      <td>NaN</td>\n",
       "      <td>Ali</td>\n",
       "      <td>NaN</td>\n",
       "      <td>NaN</td>\n",
       "      <td>NaN</td>\n",
       "      <td>Partner, Associate General Counsel, Quantum Co...</td>\n",
       "      <td>...</td>\n",
       "      <td>Legal Intern, Office of the District Attorney,...</td>\n",
       "      <td>NaN</td>\n",
       "      <td>NaN</td>\n",
       "      <td>M</td>\n",
       "      <td>09/2022</td>\n",
       "      <td>Partner, Associate General Counsel, Quantum Co...</td>\n",
       "      <td>09/2022</td>\n",
       "      <td>0.0</td>\n",
       "      <td>NaN</td>\n",
       "      <td>Hasan Ali</td>\n",
       "    </tr>\n",
       "    <tr>\n",
       "      <th>1</th>\n",
       "      <td>1078115.0</td>\n",
       "      <td>NaN</td>\n",
       "      <td>Hasan</td>\n",
       "      <td>NaN</td>\n",
       "      <td>NaN</td>\n",
       "      <td>Ali</td>\n",
       "      <td>NaN</td>\n",
       "      <td>NaN</td>\n",
       "      <td>NaN</td>\n",
       "      <td>Legal Intern</td>\n",
       "      <td>...</td>\n",
       "      <td>Legal Intern, Office of the District Attorney,...</td>\n",
       "      <td>NaN</td>\n",
       "      <td>NaN</td>\n",
       "      <td>M</td>\n",
       "      <td>2008</td>\n",
       "      <td>Legal Intern, Office of the District Attorney,...</td>\n",
       "      <td>09/2022</td>\n",
       "      <td>0.0</td>\n",
       "      <td>2008</td>\n",
       "      <td>Hasan Ali</td>\n",
       "    </tr>\n",
       "    <tr>\n",
       "      <th>2</th>\n",
       "      <td>1078115.0</td>\n",
       "      <td>NaN</td>\n",
       "      <td>Hasan</td>\n",
       "      <td>NaN</td>\n",
       "      <td>NaN</td>\n",
       "      <td>Ali</td>\n",
       "      <td>NaN</td>\n",
       "      <td>NaN</td>\n",
       "      <td>NaN</td>\n",
       "      <td>Summer Associate</td>\n",
       "      <td>...</td>\n",
       "      <td>Legal Intern, Office of the District Attorney,...</td>\n",
       "      <td>NaN</td>\n",
       "      <td>NaN</td>\n",
       "      <td>M</td>\n",
       "      <td>2009</td>\n",
       "      <td>Summer Associate, Cadwalader (2009-2009)</td>\n",
       "      <td>09/2022</td>\n",
       "      <td>0.0</td>\n",
       "      <td>2009</td>\n",
       "      <td>Hasan Ali</td>\n",
       "    </tr>\n",
       "    <tr>\n",
       "      <th>3</th>\n",
       "      <td>1078115.0</td>\n",
       "      <td>NaN</td>\n",
       "      <td>Hasan</td>\n",
       "      <td>NaN</td>\n",
       "      <td>NaN</td>\n",
       "      <td>Ali</td>\n",
       "      <td>NaN</td>\n",
       "      <td>NaN</td>\n",
       "      <td>NaN</td>\n",
       "      <td>Editor-in-Chief</td>\n",
       "      <td>...</td>\n",
       "      <td>Legal Intern, Office of the District Attorney,...</td>\n",
       "      <td>NaN</td>\n",
       "      <td>NaN</td>\n",
       "      <td>M</td>\n",
       "      <td>2009</td>\n",
       "      <td>Editor-in-Chief, Journal of Science and Techn...</td>\n",
       "      <td>09/2022</td>\n",
       "      <td>0.0</td>\n",
       "      <td>2010</td>\n",
       "      <td>Hasan Ali</td>\n",
       "    </tr>\n",
       "    <tr>\n",
       "      <th>4</th>\n",
       "      <td>1078115.0</td>\n",
       "      <td>NaN</td>\n",
       "      <td>Hasan</td>\n",
       "      <td>NaN</td>\n",
       "      <td>NaN</td>\n",
       "      <td>Ali</td>\n",
       "      <td>NaN</td>\n",
       "      <td>NaN</td>\n",
       "      <td>NaN</td>\n",
       "      <td>Law Clerk</td>\n",
       "      <td>...</td>\n",
       "      <td>Legal Intern, Office of the District Attorney,...</td>\n",
       "      <td>NaN</td>\n",
       "      <td>NaN</td>\n",
       "      <td>M</td>\n",
       "      <td>2010</td>\n",
       "      <td>Law Clerk, Committee on the Judiciary, United...</td>\n",
       "      <td>09/2022</td>\n",
       "      <td>0.0</td>\n",
       "      <td>2010</td>\n",
       "      <td>Hasan Ali</td>\n",
       "    </tr>\n",
       "  </tbody>\n",
       "</table>\n",
       "<p>5 rows × 45 columns</p>\n",
       "</div>"
      ],
      "text/plain": [
       "   Leadership People Id Prefix First Name Middle Name Nickname Last Name  \\\n",
       "0             1078115.0    NaN      Hasan         NaN      NaN       Ali   \n",
       "1             1078115.0    NaN      Hasan         NaN      NaN       Ali   \n",
       "2             1078115.0    NaN      Hasan         NaN      NaN       Ali   \n",
       "3             1078115.0    NaN      Hasan         NaN      NaN       Ali   \n",
       "4             1078115.0    NaN      Hasan         NaN      NaN       Ali   \n",
       "\n",
       "  Maiden Name Suffix Credentials  \\\n",
       "0         NaN    NaN         NaN   \n",
       "1         NaN    NaN         NaN   \n",
       "2         NaN    NaN         NaN   \n",
       "3         NaN    NaN         NaN   \n",
       "4         NaN    NaN         NaN   \n",
       "\n",
       "                                               Title  ...  \\\n",
       "0  Partner, Associate General Counsel, Quantum Co...  ...   \n",
       "1                                       Legal Intern  ...   \n",
       "2                                   Summer Associate  ...   \n",
       "3                                    Editor-in-Chief  ...   \n",
       "4                                          Law Clerk  ...   \n",
       "\n",
       "                                             Careers Other Current Roles  \\\n",
       "0  Legal Intern, Office of the District Attorney,...                 NaN   \n",
       "1  Legal Intern, Office of the District Attorney,...                 NaN   \n",
       "2  Legal Intern, Office of the District Attorney,...                 NaN   \n",
       "3  Legal Intern, Office of the District Attorney,...                 NaN   \n",
       "4  Legal Intern, Office of the District Attorney,...                 NaN   \n",
       "\n",
       "  Political Affiliation Gender Start Date  \\\n",
       "0                   NaN      M    09/2022   \n",
       "1                   NaN      M       2008   \n",
       "2                   NaN      M       2009   \n",
       "3                   NaN      M       2009   \n",
       "4                   NaN      M       2010   \n",
       "\n",
       "                                            Full Job Current Start Date  \\\n",
       "0  Partner, Associate General Counsel, Quantum Co...            09/2022   \n",
       "1  Legal Intern, Office of the District Attorney,...            09/2022   \n",
       "2           Summer Associate, Cadwalader (2009-2009)            09/2022   \n",
       "3   Editor-in-Chief, Journal of Science and Techn...            09/2022   \n",
       "4   Law Clerk, Committee on the Judiciary, United...            09/2022   \n",
       "\n",
       "  Other Current End Date  Full Name  \n",
       "0           0.0      NaN  Hasan Ali  \n",
       "1           0.0     2008  Hasan Ali  \n",
       "2           0.0     2009  Hasan Ali  \n",
       "3           0.0     2010  Hasan Ali  \n",
       "4           0.0     2010  Hasan Ali  \n",
       "\n",
       "[5 rows x 45 columns]"
      ]
     },
     "execution_count": 8,
     "metadata": {},
     "output_type": "execute_result"
    }
   ],
   "source": [
    "unique_names = list(set(linkedin['Full Name']))\n",
    "sub_data = final_panel[final_panel['Full Name'].isin(names_to_download)].reset_index(drop = True)\n",
    "print(sub_data.shape)\n",
    "sub_data.head()"
   ]
  },
  {
   "cell_type": "code",
   "execution_count": 9,
   "metadata": {},
   "outputs": [
    {
     "name": "stderr",
     "output_type": "stream",
     "text": [
      "100%|████████████████████████████████████████████████████████████████████████████████| 223/223 [00:05<00:00, 37.65it/s]\n"
     ]
    },
    {
     "data": {
      "text/html": [
       "<div>\n",
       "<style scoped>\n",
       "    .dataframe tbody tr th:only-of-type {\n",
       "        vertical-align: middle;\n",
       "    }\n",
       "\n",
       "    .dataframe tbody tr th {\n",
       "        vertical-align: top;\n",
       "    }\n",
       "\n",
       "    .dataframe thead th {\n",
       "        text-align: right;\n",
       "    }\n",
       "</style>\n",
       "<table border=\"1\" class=\"dataframe\">\n",
       "  <thead>\n",
       "    <tr style=\"text-align: right;\">\n",
       "      <th></th>\n",
       "      <th>Full Name</th>\n",
       "      <th>Experience</th>\n",
       "    </tr>\n",
       "  </thead>\n",
       "  <tbody>\n",
       "    <tr>\n",
       "      <th>0</th>\n",
       "      <td>Andrew Frantela</td>\n",
       "      <td>united states district court for the central d...</td>\n",
       "    </tr>\n",
       "    <tr>\n",
       "      <th>1</th>\n",
       "      <td>Annie Garau</td>\n",
       "      <td>united states district court for the northern ...</td>\n",
       "    </tr>\n",
       "    <tr>\n",
       "      <th>2</th>\n",
       "      <td>Anna El-Zein</td>\n",
       "      <td>united states district court for the western d...</td>\n",
       "    </tr>\n",
       "    <tr>\n",
       "      <th>3</th>\n",
       "      <td>Alexander  Alex  Maugeri</td>\n",
       "      <td></td>\n",
       "    </tr>\n",
       "    <tr>\n",
       "      <th>4</th>\n",
       "      <td>Ardis Strong</td>\n",
       "      <td>solomon r. guggenheim museum/american folk art...</td>\n",
       "    </tr>\n",
       "  </tbody>\n",
       "</table>\n",
       "</div>"
      ],
      "text/plain": [
       "                  Full Name                                         Experience\n",
       "0           Andrew Frantela  united states district court for the central d...\n",
       "1               Annie Garau  united states district court for the northern ...\n",
       "2              Anna El-Zein  united states district court for the western d...\n",
       "3  Alexander  Alex  Maugeri                                                   \n",
       "4              Ardis Strong  solomon r. guggenheim museum/american folk art..."
      ]
     },
     "execution_count": 9,
     "metadata": {},
     "output_type": "execute_result"
    }
   ],
   "source": [
    "all_jobs = []\n",
    "jobs_column = []\n",
    "\n",
    "for i in tqdm(range(len(unique_names))):\n",
    "    jobs_parent = list(sub_data.loc[sub_data['Full Name'] == unique_names[i], 'Organization Name (Parent)'])\n",
    "    jobs_middle = list(sub_data.loc[sub_data['Full Name'] == unique_names[i], 'Organization Name (Intermediate)'])\n",
    "    jobs_child = list(sub_data.loc[sub_data['Full Name'] == unique_names[i], 'Organization Name (Child)'])\n",
    "    jobs_parent_acro = list(sub_data.loc[sub_data['Full Name'] == unique_names[i], 'Organization Acronym (Parent)'])\n",
    "    jobs_intermediate_acro = list(sub_data.loc[sub_data['Full Name'] == unique_names[i], 'Organization Acronym (Intermediate)'])\n",
    "    jobs_child_acro = list(sub_data.loc[sub_data['Full Name'] == unique_names[i], 'Organization Acronym (Child)'])\n",
    "    jobs = jobs_parent + jobs_middle + jobs_child + jobs_parent_acro + jobs_intermediate_acro + jobs_child_acro\n",
    "    \n",
    "    to_be_removed = []\n",
    "    \n",
    "    for j in range(len(jobs)):\n",
    "        if not isinstance(jobs[j], float):\n",
    "            jobs[j] = jobs[j].lower()\n",
    "            if jobs[j][0] == ' ':\n",
    "                jobs[j] = jobs[j][1:]\n",
    "            if jobs[j][-1] == ' ':\n",
    "                jobs[j] = jobs[j][:-1]\n",
    "        else:\n",
    "            to_be_removed.append(jobs[j])\n",
    "            \n",
    "    jobs = list(jobs)\n",
    "    for el in to_be_removed:\n",
    "        jobs.remove(el)\n",
    "    all_jobs.append(jobs)\n",
    "    \n",
    "    jobs_column.append('/'.join(jobs))\n",
    "\n",
    "jobs_people = pd.DataFrame()\n",
    "jobs_people['Full Name'] = unique_names\n",
    "jobs_people['Experience'] = jobs_column\n",
    "\n",
    "jobs_people.head()"
   ]
  },
  {
   "cell_type": "code",
   "execution_count": 10,
   "metadata": {},
   "outputs": [],
   "source": [
    "#match_index = []\n",
    "matches = []\n",
    "\n",
    "for i in range(len(unique_names)):\n",
    "    experiences = list(linkedin.loc[linkedin['Full Name'] == unique_names[i], 'Experience'])\n",
    "    experiences = '/'.join(experiences)\n",
    "    experiences = experiences.split('/')\n",
    "    experiences = set(experiences)\n",
    "    job = set(all_jobs[i])\n",
    "    if len(experiences.intersection(job)) > 0 and '' not in experiences.intersection(job):\n",
    "        #match_index.append(1)\n",
    "        matches.append(experiences.intersection(job))\n",
    "    else:\n",
    "        #match_index.append(0)\n",
    "        matches.append(None)"
   ]
  },
  {
   "cell_type": "code",
   "execution_count": 11,
   "metadata": {},
   "outputs": [
    {
     "name": "stdout",
     "output_type": "stream",
     "text": [
      "Number of Matches: 39\n",
      "% of Matches: 17.48878923766816\n"
     ]
    }
   ],
   "source": [
    "matches = np.array(matches)\n",
    "aggregate_matches = matches[matches != None]\n",
    "aggregate_names = set(np.array(unique_names)[matches != None])\n",
    "print(f'Number of Matches: {len(aggregate_matches)}')\n",
    "print(f'% of Matches: {len(aggregate_matches)*100/len(matches)}')"
   ]
  },
  {
   "cell_type": "code",
   "execution_count": 12,
   "metadata": {},
   "outputs": [],
   "source": [
    "match_index = []\n",
    "matches = []\n",
    "\n",
    "for i in range(linkedin.shape[0]):\n",
    "    full_name = linkedin.loc[i, 'Full Name']\n",
    "    experiences = set(linkedin.loc[i, 'Experience'].split('/'))\n",
    "    job = set(list(jobs_people.loc[jobs_people['Full Name'] == full_name, 'Experience'])[0].split('/'))\n",
    "    if len(experiences.intersection(job)) > 0 and '' not in experiences.intersection(job):\n",
    "        match_index.append(1)\n",
    "        matches.append(experiences.intersection(job))\n",
    "    else:\n",
    "        match_index.append(0)\n",
    "        matches.append(None)"
   ]
  },
  {
   "cell_type": "code",
   "execution_count": 13,
   "metadata": {},
   "outputs": [
    {
     "name": "stdout",
     "output_type": "stream",
     "text": [
      "Number of Matches: 39\n"
     ]
    }
   ],
   "source": [
    "matches = np.array(matches)\n",
    "single_matches = matches[matches != None]\n",
    "print(f'Number of Matches: {len(single_matches)}')"
   ]
  },
  {
   "cell_type": "code",
   "execution_count": 14,
   "metadata": {},
   "outputs": [
    {
     "name": "stdout",
     "output_type": "stream",
     "text": [
      "39\n"
     ]
    },
    {
     "data": {
      "text/html": [
       "<div>\n",
       "<style scoped>\n",
       "    .dataframe tbody tr th:only-of-type {\n",
       "        vertical-align: middle;\n",
       "    }\n",
       "\n",
       "    .dataframe tbody tr th {\n",
       "        vertical-align: top;\n",
       "    }\n",
       "\n",
       "    .dataframe thead th {\n",
       "        text-align: right;\n",
       "    }\n",
       "</style>\n",
       "<table border=\"1\" class=\"dataframe\">\n",
       "  <thead>\n",
       "    <tr style=\"text-align: right;\">\n",
       "      <th></th>\n",
       "      <th>Code Name</th>\n",
       "      <th>Full Name</th>\n",
       "      <th>Image</th>\n",
       "      <th>Experience</th>\n",
       "      <th>Automatic Match</th>\n",
       "    </tr>\n",
       "  </thead>\n",
       "  <tbody>\n",
       "    <tr>\n",
       "      <th>11</th>\n",
       "      <td>Tyler Sparrow_0</td>\n",
       "      <td>Tyler Sparrow</td>\n",
       "      <td>https://media.licdn.com/dms/image/C4E03AQExoKQ...</td>\n",
       "      <td>5 anni 8 mesi/assistant vice president, senior...</td>\n",
       "      <td>1</td>\n",
       "    </tr>\n",
       "    <tr>\n",
       "      <th>15</th>\n",
       "      <td>Matthew Trager_1</td>\n",
       "      <td>Matthew Trager</td>\n",
       "      <td>https://media.licdn.com/dms/image/C4D03AQFGmM4...</td>\n",
       "      <td>6 anni 7 mesi/amazon/associate general counsel...</td>\n",
       "      <td>1</td>\n",
       "    </tr>\n",
       "    <tr>\n",
       "      <th>51</th>\n",
       "      <td>Ryan Smith_1</td>\n",
       "      <td>Ryan Smith</td>\n",
       "      <td>https://media.licdn.com/dms/image/D5603AQGDrQL...</td>\n",
       "      <td>20 anni 7 mesi/a tempo pieno/brand management/...</td>\n",
       "      <td>1</td>\n",
       "    </tr>\n",
       "    <tr>\n",
       "      <th>59</th>\n",
       "      <td>Adam Deckinger_0</td>\n",
       "      <td>Adam Deckinger</td>\n",
       "      <td>https://media.licdn.com/dms/image/D5603AQFXZPs...</td>\n",
       "      <td>a tempo pieno · 5 anni 3 mesi/attorney/boeing/...</td>\n",
       "      <td>1</td>\n",
       "    </tr>\n",
       "    <tr>\n",
       "      <th>64</th>\n",
       "      <td>Candace Kronholm_0</td>\n",
       "      <td>Candace Kronholm</td>\n",
       "      <td>https://media.licdn.com/dms/image/C5603AQEv7p6...</td>\n",
       "      <td>associate general counsel/collins aerospace/ea...</td>\n",
       "      <td>1</td>\n",
       "    </tr>\n",
       "  </tbody>\n",
       "</table>\n",
       "</div>"
      ],
      "text/plain": [
       "             Code Name         Full Name  \\\n",
       "11     Tyler Sparrow_0     Tyler Sparrow   \n",
       "15    Matthew Trager_1    Matthew Trager   \n",
       "51        Ryan Smith_1        Ryan Smith   \n",
       "59    Adam Deckinger_0    Adam Deckinger   \n",
       "64  Candace Kronholm_0  Candace Kronholm   \n",
       "\n",
       "                                                Image  \\\n",
       "11  https://media.licdn.com/dms/image/C4E03AQExoKQ...   \n",
       "15  https://media.licdn.com/dms/image/C4D03AQFGmM4...   \n",
       "51  https://media.licdn.com/dms/image/D5603AQGDrQL...   \n",
       "59  https://media.licdn.com/dms/image/D5603AQFXZPs...   \n",
       "64  https://media.licdn.com/dms/image/C5603AQEv7p6...   \n",
       "\n",
       "                                           Experience  Automatic Match  \n",
       "11  5 anni 8 mesi/assistant vice president, senior...                1  \n",
       "15  6 anni 7 mesi/amazon/associate general counsel...                1  \n",
       "51  20 anni 7 mesi/a tempo pieno/brand management/...                1  \n",
       "59  a tempo pieno · 5 anni 3 mesi/attorney/boeing/...                1  \n",
       "64  associate general counsel/collins aerospace/ea...                1  "
      ]
     },
     "execution_count": 14,
     "metadata": {},
     "output_type": "execute_result"
    }
   ],
   "source": [
    "linkedin['Automatic Match'] = match_index\n",
    "print(linkedin.loc[linkedin['Automatic Match'] == 1, :].shape[0])\n",
    "single_names = set(linkedin.loc[linkedin['Automatic Match'] == 1, 'Full Name'])\n",
    "link_single_matches = linkedin.loc[linkedin['Automatic Match'] == 1, :]\n",
    "link_single_matches.head()"
   ]
  },
  {
   "cell_type": "code",
   "execution_count": 15,
   "metadata": {},
   "outputs": [
    {
     "data": {
      "text/html": [
       "<div>\n",
       "<style scoped>\n",
       "    .dataframe tbody tr th:only-of-type {\n",
       "        vertical-align: middle;\n",
       "    }\n",
       "\n",
       "    .dataframe tbody tr th {\n",
       "        vertical-align: top;\n",
       "    }\n",
       "\n",
       "    .dataframe thead th {\n",
       "        text-align: right;\n",
       "    }\n",
       "</style>\n",
       "<table border=\"1\" class=\"dataframe\">\n",
       "  <thead>\n",
       "    <tr style=\"text-align: right;\">\n",
       "      <th></th>\n",
       "      <th>Code Name</th>\n",
       "      <th>Full Name</th>\n",
       "      <th>Image</th>\n",
       "      <th>Experience</th>\n",
       "      <th>Automatic Match</th>\n",
       "    </tr>\n",
       "  </thead>\n",
       "  <tbody>\n",
       "    <tr>\n",
       "      <th>0</th>\n",
       "      <td>Hasan Ali_0</td>\n",
       "      <td>Hasan Ali</td>\n",
       "      <td>https://media.licdn.com/dms/image/C4E03AQHKDP9...</td>\n",
       "      <td>urban &amp; indoor furniture/(business development...</td>\n",
       "      <td>0</td>\n",
       "    </tr>\n",
       "    <tr>\n",
       "      <th>1</th>\n",
       "      <td>Hasan Ali_1</td>\n",
       "      <td>Hasan Ali</td>\n",
       "      <td>https://media.licdn.com/dms/image/C5603AQFLwjz...</td>\n",
       "      <td>esperienza/it help desk/it manager/one team sr...</td>\n",
       "      <td>0</td>\n",
       "    </tr>\n",
       "    <tr>\n",
       "      <th>2</th>\n",
       "      <td>Hasan Ali_4</td>\n",
       "      <td>Hasan Ali</td>\n",
       "      <td>https://media.licdn.com/dms/image/C5603AQGgsFN...</td>\n",
       "      <td>- to ensure the team is collaborating closely ...</td>\n",
       "      <td>0</td>\n",
       "    </tr>\n",
       "    <tr>\n",
       "      <th>3</th>\n",
       "      <td>Timothy Brennan_1</td>\n",
       "      <td>Timothy Brennan</td>\n",
       "      <td>https://media.licdn.com/dms/image/C4E03AQEojzW...</td>\n",
       "      <td>charlottesville, virginia, united states/esper...</td>\n",
       "      <td>0</td>\n",
       "    </tr>\n",
       "    <tr>\n",
       "      <th>4</th>\n",
       "      <td>Timothy Brennan_3</td>\n",
       "      <td>Timothy Brennan</td>\n",
       "      <td>https://media.licdn.com/dms/image/C5603AQFt2kv...</td>\n",
       "      <td>a tempo pieno · 4 anni 10 mesi/boston, massach...</td>\n",
       "      <td>0</td>\n",
       "    </tr>\n",
       "  </tbody>\n",
       "</table>\n",
       "</div>"
      ],
      "text/plain": [
       "           Code Name        Full Name  \\\n",
       "0        Hasan Ali_0        Hasan Ali   \n",
       "1        Hasan Ali_1        Hasan Ali   \n",
       "2        Hasan Ali_4        Hasan Ali   \n",
       "3  Timothy Brennan_1  Timothy Brennan   \n",
       "4  Timothy Brennan_3  Timothy Brennan   \n",
       "\n",
       "                                               Image  \\\n",
       "0  https://media.licdn.com/dms/image/C4E03AQHKDP9...   \n",
       "1  https://media.licdn.com/dms/image/C5603AQFLwjz...   \n",
       "2  https://media.licdn.com/dms/image/C5603AQGgsFN...   \n",
       "3  https://media.licdn.com/dms/image/C4E03AQEojzW...   \n",
       "4  https://media.licdn.com/dms/image/C5603AQFt2kv...   \n",
       "\n",
       "                                          Experience  Automatic Match  \n",
       "0  urban & indoor furniture/(business development...                0  \n",
       "1  esperienza/it help desk/it manager/one team sr...                0  \n",
       "2  - to ensure the team is collaborating closely ...                0  \n",
       "3  charlottesville, virginia, united states/esper...                0  \n",
       "4  a tempo pieno · 4 anni 10 mesi/boston, massach...                0  "
      ]
     },
     "execution_count": 15,
     "metadata": {},
     "output_type": "execute_result"
    }
   ],
   "source": [
    "linkedin.head()"
   ]
  },
  {
   "cell_type": "code",
   "execution_count": 16,
   "metadata": {},
   "outputs": [],
   "source": [
    "#linkedin.to_csv('Linkedin_Scraping.csv')"
   ]
  }
 ],
 "metadata": {
  "kernelspec": {
   "display_name": "Python 3",
   "language": "python",
   "name": "python3"
  },
  "language_info": {
   "codemirror_mode": {
    "name": "ipython",
    "version": 3
   },
   "file_extension": ".py",
   "mimetype": "text/x-python",
   "name": "python",
   "nbconvert_exporter": "python",
   "pygments_lexer": "ipython3",
   "version": "3.8.8"
  }
 },
 "nbformat": 4,
 "nbformat_minor": 2
}
