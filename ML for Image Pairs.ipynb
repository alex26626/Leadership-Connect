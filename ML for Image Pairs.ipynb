{
 "cells": [
  {
   "cell_type": "markdown",
   "id": "179327ab",
   "metadata": {},
   "source": [
    "# ML for Image Pairs"
   ]
  },
  {
   "cell_type": "code",
   "execution_count": 175,
   "id": "cbd084cc",
   "metadata": {},
   "outputs": [],
   "source": [
    "from tqdm import tqdm\n",
    "import numpy as np\n",
    "import pandas as pd\n",
    "import os\n",
    "import selenium\n",
    "from selenium import webdriver \n",
    "import urllib.request\n",
    "from selenium import webdriver\n",
    "from selenium.webdriver.common.by import By\n",
    "import requests\n",
    "import re\n",
    "import cv2\n",
    "import matplotlib.pyplot as plt\n",
    "import warnings\n",
    "warnings.filterwarnings('ignore')\n",
    "import shutil\n",
    "\n",
    "from collections import Counter\n",
    "from sklearn.linear_model import LogisticRegression\n",
    "from sklearn.metrics import classification_report, confusion_matrix\n",
    "import statsmodels.api as sm\n",
    "\n",
    "from scipy.stats.mstats import winsorize\n",
    "from scipy import stats\n",
    "from sklearn.model_selection import cross_val_score\n",
    "from sklearn.model_selection import RepeatedStratifiedKFold\n",
    "from sklearn.discriminant_analysis import LinearDiscriminantAnalysis\n",
    "from sklearn import tree\n",
    "from sklearn import ensemble"
   ]
  },
  {
   "cell_type": "code",
   "execution_count": 176,
   "id": "20bb8608",
   "metadata": {},
   "outputs": [
    {
     "data": {
      "text/html": [
       "<div>\n",
       "<style scoped>\n",
       "    .dataframe tbody tr th:only-of-type {\n",
       "        vertical-align: middle;\n",
       "    }\n",
       "\n",
       "    .dataframe tbody tr th {\n",
       "        vertical-align: top;\n",
       "    }\n",
       "\n",
       "    .dataframe thead th {\n",
       "        text-align: right;\n",
       "    }\n",
       "</style>\n",
       "<table border=\"1\" class=\"dataframe\">\n",
       "  <thead>\n",
       "    <tr style=\"text-align: right;\">\n",
       "      <th></th>\n",
       "      <th>Path_1</th>\n",
       "      <th>Path_2</th>\n",
       "      <th>Label</th>\n",
       "      <th>Prediction</th>\n",
       "      <th>Distance</th>\n",
       "      <th>Descriptors_1</th>\n",
       "      <th>Descriptors_2</th>\n",
       "      <th>Matches</th>\n",
       "      <th>Name_1</th>\n",
       "      <th>Name_2</th>\n",
       "      <th>Path_1_Face</th>\n",
       "      <th>Path_2_Face</th>\n",
       "      <th>Descriptors_1_Face</th>\n",
       "      <th>Descriptors_2_Face</th>\n",
       "      <th>Matches_Face</th>\n",
       "    </tr>\n",
       "  </thead>\n",
       "  <tbody>\n",
       "    <tr>\n",
       "      <th>0</th>\n",
       "      <td>/content/drive/MyDrive/all_images_2/Sheryl_Cro...</td>\n",
       "      <td>/content/drive/MyDrive/all_images_2/Sheryl_Cro...</td>\n",
       "      <td>True</td>\n",
       "      <td>True</td>\n",
       "      <td>0.566812</td>\n",
       "      <td>263</td>\n",
       "      <td>578</td>\n",
       "      <td>100</td>\n",
       "      <td>Sheryl_Crow_0008.jpg</td>\n",
       "      <td>Sheryl_Crow_0003.jpg</td>\n",
       "      <td>/content/drive/MyDrive/all_images_faces/Sheryl...</td>\n",
       "      <td>/content/drive/MyDrive/all_images_faces/Sheryl...</td>\n",
       "      <td>88</td>\n",
       "      <td>129</td>\n",
       "      <td>27</td>\n",
       "    </tr>\n",
       "    <tr>\n",
       "      <th>1</th>\n",
       "      <td>/content/drive/MyDrive/all_images_2/Sheryl_Cro...</td>\n",
       "      <td>/content/drive/MyDrive/all_images_2/Sheryl_Cro...</td>\n",
       "      <td>True</td>\n",
       "      <td>True</td>\n",
       "      <td>0.489551</td>\n",
       "      <td>292</td>\n",
       "      <td>578</td>\n",
       "      <td>89</td>\n",
       "      <td>Sheryl_Crow_0004.jpg</td>\n",
       "      <td>Sheryl_Crow_0003.jpg</td>\n",
       "      <td>/content/drive/MyDrive/all_images_faces/Sheryl...</td>\n",
       "      <td>/content/drive/MyDrive/all_images_faces/Sheryl...</td>\n",
       "      <td>109</td>\n",
       "      <td>129</td>\n",
       "      <td>34</td>\n",
       "    </tr>\n",
       "    <tr>\n",
       "      <th>2</th>\n",
       "      <td>/content/drive/MyDrive/all_images_2/Sheryl_Cro...</td>\n",
       "      <td>/content/drive/MyDrive/all_images_2/Luiz_Inaci...</td>\n",
       "      <td>False</td>\n",
       "      <td>False</td>\n",
       "      <td>0.915761</td>\n",
       "      <td>263</td>\n",
       "      <td>240</td>\n",
       "      <td>59</td>\n",
       "      <td>Sheryl_Crow_0008.jpg</td>\n",
       "      <td>Luiz_Inacio_Lula_da_Silva_0035.jpg</td>\n",
       "      <td>/content/drive/MyDrive/all_images_faces/Sheryl...</td>\n",
       "      <td>/content/drive/MyDrive/all_images_faces/Luiz_I...</td>\n",
       "      <td>88</td>\n",
       "      <td>114</td>\n",
       "      <td>45</td>\n",
       "    </tr>\n",
       "    <tr>\n",
       "      <th>3</th>\n",
       "      <td>/content/drive/MyDrive/all_images_2/Pamela_And...</td>\n",
       "      <td>/content/drive/MyDrive/all_images_2/Luiz_Inaci...</td>\n",
       "      <td>False</td>\n",
       "      <td>False</td>\n",
       "      <td>0.938135</td>\n",
       "      <td>411</td>\n",
       "      <td>240</td>\n",
       "      <td>87</td>\n",
       "      <td>Pamela_Anderson_0002.jpg</td>\n",
       "      <td>Luiz_Inacio_Lula_da_Silva_0035.jpg</td>\n",
       "      <td>/content/drive/MyDrive/all_images_faces/Pamela...</td>\n",
       "      <td>/content/drive/MyDrive/all_images_faces/Luiz_I...</td>\n",
       "      <td>71</td>\n",
       "      <td>114</td>\n",
       "      <td>33</td>\n",
       "    </tr>\n",
       "    <tr>\n",
       "      <th>4</th>\n",
       "      <td>/content/drive/MyDrive/all_images_2/Hamid_Karz...</td>\n",
       "      <td>/content/drive/MyDrive/all_images_2/John_Paul_...</td>\n",
       "      <td>False</td>\n",
       "      <td>False</td>\n",
       "      <td>0.802842</td>\n",
       "      <td>296</td>\n",
       "      <td>381</td>\n",
       "      <td>89</td>\n",
       "      <td>Hamid_Karzai_0021.jpg</td>\n",
       "      <td>John_Paul_DeJoria_0001.jpg</td>\n",
       "      <td>/content/drive/MyDrive/all_images_faces/Hamid_...</td>\n",
       "      <td>/content/drive/MyDrive/all_images_faces/John_P...</td>\n",
       "      <td>103</td>\n",
       "      <td>140</td>\n",
       "      <td>44</td>\n",
       "    </tr>\n",
       "  </tbody>\n",
       "</table>\n",
       "</div>"
      ],
      "text/plain": [
       "                                              Path_1  \\\n",
       "0  /content/drive/MyDrive/all_images_2/Sheryl_Cro...   \n",
       "1  /content/drive/MyDrive/all_images_2/Sheryl_Cro...   \n",
       "2  /content/drive/MyDrive/all_images_2/Sheryl_Cro...   \n",
       "3  /content/drive/MyDrive/all_images_2/Pamela_And...   \n",
       "4  /content/drive/MyDrive/all_images_2/Hamid_Karz...   \n",
       "\n",
       "                                              Path_2  Label  Prediction  \\\n",
       "0  /content/drive/MyDrive/all_images_2/Sheryl_Cro...   True        True   \n",
       "1  /content/drive/MyDrive/all_images_2/Sheryl_Cro...   True        True   \n",
       "2  /content/drive/MyDrive/all_images_2/Luiz_Inaci...  False       False   \n",
       "3  /content/drive/MyDrive/all_images_2/Luiz_Inaci...  False       False   \n",
       "4  /content/drive/MyDrive/all_images_2/John_Paul_...  False       False   \n",
       "\n",
       "   Distance  Descriptors_1  Descriptors_2  Matches                    Name_1  \\\n",
       "0  0.566812            263            578      100      Sheryl_Crow_0008.jpg   \n",
       "1  0.489551            292            578       89      Sheryl_Crow_0004.jpg   \n",
       "2  0.915761            263            240       59      Sheryl_Crow_0008.jpg   \n",
       "3  0.938135            411            240       87  Pamela_Anderson_0002.jpg   \n",
       "4  0.802842            296            381       89     Hamid_Karzai_0021.jpg   \n",
       "\n",
       "                               Name_2  \\\n",
       "0                Sheryl_Crow_0003.jpg   \n",
       "1                Sheryl_Crow_0003.jpg   \n",
       "2  Luiz_Inacio_Lula_da_Silva_0035.jpg   \n",
       "3  Luiz_Inacio_Lula_da_Silva_0035.jpg   \n",
       "4          John_Paul_DeJoria_0001.jpg   \n",
       "\n",
       "                                         Path_1_Face  \\\n",
       "0  /content/drive/MyDrive/all_images_faces/Sheryl...   \n",
       "1  /content/drive/MyDrive/all_images_faces/Sheryl...   \n",
       "2  /content/drive/MyDrive/all_images_faces/Sheryl...   \n",
       "3  /content/drive/MyDrive/all_images_faces/Pamela...   \n",
       "4  /content/drive/MyDrive/all_images_faces/Hamid_...   \n",
       "\n",
       "                                         Path_2_Face  Descriptors_1_Face  \\\n",
       "0  /content/drive/MyDrive/all_images_faces/Sheryl...                  88   \n",
       "1  /content/drive/MyDrive/all_images_faces/Sheryl...                 109   \n",
       "2  /content/drive/MyDrive/all_images_faces/Luiz_I...                  88   \n",
       "3  /content/drive/MyDrive/all_images_faces/Luiz_I...                  71   \n",
       "4  /content/drive/MyDrive/all_images_faces/John_P...                 103   \n",
       "\n",
       "   Descriptors_2_Face  Matches_Face  \n",
       "0                 129            27  \n",
       "1                 129            34  \n",
       "2                 114            45  \n",
       "3                 114            33  \n",
       "4                 140            44  "
      ]
     },
     "execution_count": 176,
     "metadata": {},
     "output_type": "execute_result"
    }
   ],
   "source": [
    "arcface = pd.read_csv('ArcFace_Training_Set_Final.csv').drop('Unnamed: 0', axis = 1)\n",
    "arcface.head()"
   ]
  },
  {
   "cell_type": "markdown",
   "id": "100c0cf6",
   "metadata": {},
   "source": [
    "# Variables Analysis"
   ]
  },
  {
   "cell_type": "code",
   "execution_count": 177,
   "id": "76af8231",
   "metadata": {},
   "outputs": [],
   "source": [
    "def dist_plot(pos, neg, variable):\n",
    "    plt.figure(figsize = (10,5))\n",
    "    plt.subplot(121)\n",
    "    plt.hist(pos, bins = 40, label = 'Positive', density = True, color = 'blue')\n",
    "    plt.title(f'Positive {variable}')\n",
    "    plt.legend()\n",
    "    plt.subplot(122)\n",
    "    plt.hist(neg, bins = 40, label = 'Negative', density = True, color = 'red')\n",
    "    plt.legend()\n",
    "    plt.title(f'Negative {variable}')\n",
    "    plt.show()\n",
    "\n",
    "    plt.figure(figsize = (6,4))\n",
    "    plt.hist(pos, bins = 40, label = 'Positive', density = True, color = 'blue')\n",
    "    plt.hist(neg, bins = 40, label = 'Negative', density = True, color = 'red')\n",
    "    plt.legend()\n",
    "    plt.title(f'{variable} Comparison')\n",
    "    plt.show()"
   ]
  },
  {
   "cell_type": "code",
   "execution_count": 178,
   "id": "6b64fb7c",
   "metadata": {},
   "outputs": [],
   "source": [
    "def trim(x, n = 1):\n",
    "    lower = x.mean() - n*x.std()\n",
    "    upper = x.mean() + n*x.std()\n",
    "    return x[(x >= lower) & (x <= upper)]"
   ]
  },
  {
   "cell_type": "code",
   "execution_count": 179,
   "id": "48f95849",
   "metadata": {},
   "outputs": [
    {
     "name": "stdout",
     "output_type": "stream",
     "text": [
      "Sample size:  14441\n",
      "Accuracy:  94.02395955958728\n",
      "False Positive:  0.9348383075964268\n",
      "False Negative:  5.041202132816287\n"
     ]
    }
   ],
   "source": [
    "tot = arcface.shape[0]\n",
    "print('Sample size: ', tot)\n",
    "print('Accuracy: ', str(len(arcface.loc[(arcface['Label'] == arcface['Prediction']), 'Label'])*100/tot))\n",
    "print('False Positive: ', str(len(arcface.loc[(arcface['Prediction'] == 1) & (arcface['Label'] == 0), 'Label'])*100/tot))\n",
    "print('False Negative: ', str(len(arcface.loc[(arcface['Prediction'] == 0) & (arcface['Label'] == 1), 'Label'])*100/tot))"
   ]
  },
  {
   "cell_type": "markdown",
   "id": "921a2764",
   "metadata": {},
   "source": [
    "## Distances"
   ]
  },
  {
   "cell_type": "code",
   "execution_count": 131,
   "id": "dfedcf25",
   "metadata": {},
   "outputs": [
    {
     "data": {
      "image/png": "[encoded data removed]",
      "text/plain": [
       "<Figure size 720x360 with 2 Axes>"
      ]
     },
     "metadata": {
      "needs_background": "light"
     },
     "output_type": "display_data"
    },
    {
     "data": {
      "image/png": "[encoded data removed]",
      "text/plain": [
       "<Figure size 432x288 with 1 Axes>"
      ]
     },
     "metadata": {
      "needs_background": "light"
     },
     "output_type": "display_data"
    }
   ],
   "source": [
    "#Normal\n",
    "\n",
    "pos = np.array(arcface.loc[(arcface['Distance'].notnull()) & (arcface['Label'] == 1), 'Distance'])\n",
    "neg = np.array(arcface.loc[(arcface['Distance'].notnull()) & (arcface['Label'] == 0), 'Distance'])\n",
    "\n",
    "dist_plot(pos, neg, 'Distances')"
   ]
  },
  {
   "cell_type": "code",
   "execution_count": 132,
   "id": "441a1754",
   "metadata": {},
   "outputs": [
    {
     "data": {
      "image/png": "[encoded data removed]",
      "text/plain": [
       "<Figure size 720x360 with 2 Axes>"
      ]
     },
     "metadata": {
      "needs_background": "light"
     },
     "output_type": "display_data"
    },
    {
     "data": {
      "image/png": "[encoded data removed]",
      "text/plain": [
       "<Figure size 432x288 with 1 Axes>"
      ]
     },
     "metadata": {
      "needs_background": "light"
     },
     "output_type": "display_data"
    }
   ],
   "source": [
    "pos = np.array(arcface.loc[(arcface['Distance'].notnull()) & (arcface['Label'] == 1), 'Distance'])\n",
    "neg = np.array(arcface.loc[(arcface['Distance'].notnull()) & (arcface['Label'] == 0), 'Distance'])\n",
    "\n",
    "pos = winsorize(pos, limits=[0.05, 0.05])\n",
    "neg = winsorize(neg, limits = [0.05, 0.05])\n",
    "\n",
    "dist_plot(pos, neg, 'Distances')"
   ]
  },
  {
   "cell_type": "code",
   "execution_count": 133,
   "id": "ba48204b",
   "metadata": {},
   "outputs": [
    {
     "data": {
      "image/png": "[encoded data removed]",
      "text/plain": [
       "<Figure size 720x360 with 2 Axes>"
      ]
     },
     "metadata": {
      "needs_background": "light"
     },
     "output_type": "display_data"
    },
    {
     "data": {
      "image/png": "[encoded data removed]",
      "text/plain": [
       "<Figure size 432x288 with 1 Axes>"
      ]
     },
     "metadata": {
      "needs_background": "light"
     },
     "output_type": "display_data"
    }
   ],
   "source": [
    "pos = np.log(np.array(arcface.loc[(arcface['Distance'].notnull()) & (arcface['Label'] == 1), 'Distance']))\n",
    "neg = np.log(np.array(arcface.loc[(arcface['Distance'].notnull()) & (arcface['Label'] == 0), 'Distance']))\n",
    "\n",
    "dist_plot(pos, neg, 'Distances')"
   ]
  },
  {
   "cell_type": "code",
   "execution_count": 134,
   "id": "67c47f8e",
   "metadata": {},
   "outputs": [
    {
     "data": {
      "image/png": "[encoded data removed]",
      "text/plain": [
       "<Figure size 720x360 with 2 Axes>"
      ]
     },
     "metadata": {
      "needs_background": "light"
     },
     "output_type": "display_data"
    },
    {
     "data": {
      "image/png": "[encoded data removed]",
      "text/plain": [
       "<Figure size 432x288 with 1 Axes>"
      ]
     },
     "metadata": {
      "needs_background": "light"
     },
     "output_type": "display_data"
    }
   ],
   "source": [
    "pos = np.array(arcface.loc[(arcface['Distance'].notnull()) & (arcface['Label'] == 1), 'Distance'])\n",
    "neg = np.array(arcface.loc[(arcface['Distance'].notnull()) & (arcface['Label'] == 0), 'Distance'])\n",
    "\n",
    "pos = np.log(winsorize(pos, limits=[0.05, 0.05]))\n",
    "neg = np.log(winsorize(neg, limits = [0.05, 0.05]))\n",
    "\n",
    "dist_plot(pos, neg, 'Distances')"
   ]
  },
  {
   "cell_type": "code",
   "execution_count": 135,
   "id": "229835eb",
   "metadata": {},
   "outputs": [
    {
     "data": {
      "image/png": "[encoded data removed]",
      "text/plain": [
       "<Figure size 720x360 with 2 Axes>"
      ]
     },
     "metadata": {
      "needs_background": "light"
     },
     "output_type": "display_data"
    },
    {
     "data": {
      "image/png": "[encoded data removed]",
      "text/plain": [
       "<Figure size 432x288 with 1 Axes>"
      ]
     },
     "metadata": {
      "needs_background": "light"
     },
     "output_type": "display_data"
    }
   ],
   "source": [
    "pos = np.array(arcface.loc[(arcface['Distance'].notnull()) & (arcface['Label'] == 1), 'Distance'])\n",
    "neg = np.array(arcface.loc[(arcface['Distance'].notnull()) & (arcface['Label'] == 0), 'Distance'])\n",
    "\n",
    "pos = trim(pos, 2.5)\n",
    "neg = trim(neg, 2.5)\n",
    "\n",
    "dist_plot(pos, neg, 'Distances')"
   ]
  },
  {
   "cell_type": "markdown",
   "id": "5d6a0009",
   "metadata": {},
   "source": [
    "## SIFT Features"
   ]
  },
  {
   "cell_type": "code",
   "execution_count": 151,
   "id": "7d31bdb8",
   "metadata": {},
   "outputs": [
    {
     "data": {
      "text/html": [
       "<div>\n",
       "<style scoped>\n",
       "    .dataframe tbody tr th:only-of-type {\n",
       "        vertical-align: middle;\n",
       "    }\n",
       "\n",
       "    .dataframe tbody tr th {\n",
       "        vertical-align: top;\n",
       "    }\n",
       "\n",
       "    .dataframe thead th {\n",
       "        text-align: right;\n",
       "    }\n",
       "</style>\n",
       "<table border=\"1\" class=\"dataframe\">\n",
       "  <thead>\n",
       "    <tr style=\"text-align: right;\">\n",
       "      <th></th>\n",
       "      <th>Path_1</th>\n",
       "      <th>Path_2</th>\n",
       "      <th>Label</th>\n",
       "      <th>Prediction</th>\n",
       "      <th>Distance</th>\n",
       "      <th>Descriptors_1</th>\n",
       "      <th>Descriptors_2</th>\n",
       "      <th>Matches</th>\n",
       "      <th>Matches Ratio</th>\n",
       "    </tr>\n",
       "  </thead>\n",
       "  <tbody>\n",
       "    <tr>\n",
       "      <th>0</th>\n",
       "      <td>/content/drive/MyDrive/all_images_2/Sheryl_Cro...</td>\n",
       "      <td>/content/drive/MyDrive/all_images_2/Sheryl_Cro...</td>\n",
       "      <td>True</td>\n",
       "      <td>True</td>\n",
       "      <td>0.566812</td>\n",
       "      <td>263</td>\n",
       "      <td>578</td>\n",
       "      <td>100</td>\n",
       "      <td>23.781213</td>\n",
       "    </tr>\n",
       "    <tr>\n",
       "      <th>1</th>\n",
       "      <td>/content/drive/MyDrive/all_images_2/Sheryl_Cro...</td>\n",
       "      <td>/content/drive/MyDrive/all_images_2/Luiz_Inaci...</td>\n",
       "      <td>False</td>\n",
       "      <td>False</td>\n",
       "      <td>0.915761</td>\n",
       "      <td>263</td>\n",
       "      <td>240</td>\n",
       "      <td>59</td>\n",
       "      <td>23.459245</td>\n",
       "    </tr>\n",
       "    <tr>\n",
       "      <th>2</th>\n",
       "      <td>/content/drive/MyDrive/all_images_2/Hamid_Karz...</td>\n",
       "      <td>/content/drive/MyDrive/all_images_2/John_Paul_...</td>\n",
       "      <td>False</td>\n",
       "      <td>False</td>\n",
       "      <td>0.802842</td>\n",
       "      <td>296</td>\n",
       "      <td>381</td>\n",
       "      <td>89</td>\n",
       "      <td>26.292467</td>\n",
       "    </tr>\n",
       "    <tr>\n",
       "      <th>3</th>\n",
       "      <td>/content/drive/MyDrive/all_images_2/Naji_Sabri...</td>\n",
       "      <td>/content/drive/MyDrive/all_images_2/Naji_Sabri...</td>\n",
       "      <td>True</td>\n",
       "      <td>True</td>\n",
       "      <td>0.018809</td>\n",
       "      <td>257</td>\n",
       "      <td>530</td>\n",
       "      <td>96</td>\n",
       "      <td>24.396442</td>\n",
       "    </tr>\n",
       "    <tr>\n",
       "      <th>4</th>\n",
       "      <td>/content/drive/MyDrive/all_images_2/Naji_Sabri...</td>\n",
       "      <td>/content/drive/MyDrive/all_images_2/Gerhard_Sc...</td>\n",
       "      <td>False</td>\n",
       "      <td>False</td>\n",
       "      <td>0.819620</td>\n",
       "      <td>257</td>\n",
       "      <td>236</td>\n",
       "      <td>74</td>\n",
       "      <td>30.020284</td>\n",
       "    </tr>\n",
       "  </tbody>\n",
       "</table>\n",
       "</div>"
      ],
      "text/plain": [
       "                                              Path_1  \\\n",
       "0  /content/drive/MyDrive/all_images_2/Sheryl_Cro...   \n",
       "1  /content/drive/MyDrive/all_images_2/Sheryl_Cro...   \n",
       "2  /content/drive/MyDrive/all_images_2/Hamid_Karz...   \n",
       "3  /content/drive/MyDrive/all_images_2/Naji_Sabri...   \n",
       "4  /content/drive/MyDrive/all_images_2/Naji_Sabri...   \n",
       "\n",
       "                                              Path_2  Label  Prediction  \\\n",
       "0  /content/drive/MyDrive/all_images_2/Sheryl_Cro...   True        True   \n",
       "1  /content/drive/MyDrive/all_images_2/Luiz_Inaci...  False       False   \n",
       "2  /content/drive/MyDrive/all_images_2/John_Paul_...  False       False   \n",
       "3  /content/drive/MyDrive/all_images_2/Naji_Sabri...   True        True   \n",
       "4  /content/drive/MyDrive/all_images_2/Gerhard_Sc...  False       False   \n",
       "\n",
       "   Distance  Descriptors_1  Descriptors_2  Matches  Matches Ratio  \n",
       "0  0.566812            263            578      100      23.781213  \n",
       "1  0.915761            263            240       59      23.459245  \n",
       "2  0.802842            296            381       89      26.292467  \n",
       "3  0.018809            257            530       96      24.396442  \n",
       "4  0.819620            257            236       74      30.020284  "
      ]
     },
     "execution_count": 151,
     "metadata": {},
     "output_type": "execute_result"
    }
   ],
   "source": [
    "mean_descriptors = [np.mean([arcface.loc[i, 'Descriptors_1'], arcface.loc[i, 'Descriptors_2']]) for i in range(arcface.shape[0])]\n",
    "arcface['Matches Ratio'] = arcface['Matches']*100/mean_descriptors\n",
    "arcface.head()"
   ]
  },
  {
   "cell_type": "code",
   "execution_count": 152,
   "id": "fbd31213",
   "metadata": {},
   "outputs": [
    {
     "data": {
      "image/png": "[encoded data removed]",
      "text/plain": [
       "<Figure size 720x360 with 2 Axes>"
      ]
     },
     "metadata": {
      "needs_background": "light"
     },
     "output_type": "display_data"
    },
    {
     "data": {
      "image/png": "[encoded data removed]",
      "text/plain": [
       "<Figure size 432x288 with 1 Axes>"
      ]
     },
     "metadata": {
      "needs_background": "light"
     },
     "output_type": "display_data"
    }
   ],
   "source": [
    "pos = np.array(arcface.loc[arcface['Label'] == 1, 'Matches Ratio'])\n",
    "neg = np.array(arcface.loc[arcface['Label'] == 0, 'Matches Ratio'])\n",
    "\n",
    "dist_plot(pos, neg, 'Matches Ratio')"
   ]
  },
  {
   "cell_type": "markdown",
   "id": "8f568f82",
   "metadata": {},
   "source": [
    "## SIFT Features - Face"
   ]
  },
  {
   "cell_type": "code",
   "execution_count": 180,
   "id": "860af02b",
   "metadata": {},
   "outputs": [
    {
     "data": {
      "image/png": "[encoded data removed]",
      "text/plain": [
       "<Figure size 720x360 with 2 Axes>"
      ]
     },
     "metadata": {
      "needs_background": "light"
     },
     "output_type": "display_data"
    },
    {
     "data": {
      "image/png": "[encoded data removed]",
      "text/plain": [
       "<Figure size 432x288 with 1 Axes>"
      ]
     },
     "metadata": {
      "needs_background": "light"
     },
     "output_type": "display_data"
    }
   ],
   "source": [
    "pos = np.array(arcface.loc[(arcface['Distance'].notnull()) & (arcface['Label'] == 1), 'Matches_Face'])\n",
    "neg = np.array(arcface.loc[(arcface['Distance'].notnull()) & (arcface['Label'] == 0), 'Matches_Face'])\n",
    "\n",
    "dist_plot(pos, neg, 'Face Matches')"
   ]
  },
  {
   "cell_type": "code",
   "execution_count": 181,
   "id": "74aa7af4",
   "metadata": {},
   "outputs": [
    {
     "data": {
      "image/png": "[encoded data removed]",
      "text/plain": [
       "<Figure size 720x360 with 2 Axes>"
      ]
     },
     "metadata": {
      "needs_background": "light"
     },
     "output_type": "display_data"
    },
    {
     "data": {
      "image/png": "[encoded data removed]",
      "text/plain": [
       "<Figure size 432x288 with 1 Axes>"
      ]
     },
     "metadata": {
      "needs_background": "light"
     },
     "output_type": "display_data"
    }
   ],
   "source": [
    "mean_descriptors = [np.mean([arcface.loc[i, 'Descriptors_1_Face'], arcface.loc[i, 'Descriptors_2_Face']]) for i in range(arcface.shape[0])]\n",
    "arcface['Matches Ratio Face'] = arcface['Matches_Face']*100/mean_descriptors\n",
    "\n",
    "pos = np.array(arcface.loc[arcface['Label'] == 1, 'Matches Ratio Face'])\n",
    "neg = np.array(arcface.loc[arcface['Label'] == 0, 'Matches Ratio Face'])\n",
    "\n",
    "dist_plot(pos, neg, 'Matches Ratio Face')"
   ]
  },
  {
   "cell_type": "markdown",
   "id": "8eef8c6c",
   "metadata": {},
   "source": [
    "# Logit"
   ]
  },
  {
   "cell_type": "markdown",
   "id": "27104f97",
   "metadata": {},
   "source": [
    "##  SKLearn "
   ]
  },
  {
   "cell_type": "code",
   "execution_count": 35,
   "id": "cd2e3501",
   "metadata": {},
   "outputs": [
    {
     "name": "stdout",
     "output_type": "stream",
     "text": [
      "Train Size:  10111\n",
      "Intercept:  [10.21954149]\n",
      "Coefficient:  [[-14.06671086]]\n"
     ]
    }
   ],
   "source": [
    "#Logistic Model\n",
    "\n",
    "x = np.array(arcface.loc[arcface['Distance'].notnull(), 'Distance']).reshape(-1, 1)\n",
    "y = np.array(arcface.loc[arcface['Distance'].notnull(), 'Label'])\n",
    "\n",
    "train_portion = 0.7\n",
    "all_indexes = np.arange(len(y))\n",
    "train_indexes = np.random.choice(all_indexes, size = int(train_portion*len(y)))\n",
    "test_indexes = [el for el in all_indexes if el not in train_indexes]\n",
    "\n",
    "x_train = x[train_indexes]\n",
    "x_test = x[test_indexes]\n",
    "y_train = y[train_indexes]\n",
    "y_test = y[test_indexes]\n",
    "\n",
    "model = LogisticRegression()\n",
    "model.fit(x_train, y_train)\n",
    "\n",
    "print('Train Size: ', int(train_portion*len(y)))\n",
    "print('Intercept: ', model.intercept_)\n",
    "print('Coefficient: ', model.coef_)"
   ]
  },
  {
   "cell_type": "code",
   "execution_count": 36,
   "id": "fb3e9116",
   "metadata": {},
   "outputs": [
    {
     "name": "stdout",
     "output_type": "stream",
     "text": [
      "Model Accuracy:  1.0\n",
      "\n",
      "\n",
      "Confusion Matrix:\n",
      "[[3443  118]\n",
      " [ 275 3326]]\n",
      "\n",
      "\n",
      "Classification Report:\n",
      "              precision    recall  f1-score   support\n",
      "\n",
      "       False       0.93      0.97      0.95      3561\n",
      "        True       0.97      0.92      0.94      3601\n",
      "\n",
      "    accuracy                           0.95      7162\n",
      "   macro avg       0.95      0.95      0.95      7162\n",
      "weighted avg       0.95      0.95      0.95      7162\n",
      "\n",
      "\n",
      "\n",
      "Test Accuracy:  94.5127059480592\n"
     ]
    }
   ],
   "source": [
    "# Logit Evaluation\n",
    "\n",
    "preds = model.predict(x_test)\n",
    "accuracy = len(y_test[y_test == preds])*100/len(y_test)\n",
    "\n",
    "print('Model Accuracy: ', model.score(x_test, preds))\n",
    "print('')\n",
    "print('')\n",
    "print('Confusion Matrix:')\n",
    "print(confusion_matrix(y_test, preds))\n",
    "print('')\n",
    "print('')\n",
    "print('Classification Report:')\n",
    "print(classification_report(y_test, preds))\n",
    "print('')\n",
    "print('')\n",
    "print('Test Accuracy: ', accuracy)"
   ]
  },
  {
   "cell_type": "code",
   "execution_count": 37,
   "id": "4eb051ca",
   "metadata": {},
   "outputs": [
    {
     "name": "stdout",
     "output_type": "stream",
     "text": [
      "Mean Accuracy: 0.943 (0.005)\n"
     ]
    }
   ],
   "source": [
    "#Cross Validation\n",
    "cv = RepeatedStratifiedKFold(n_splits=7, n_repeats=3)\n",
    "scores = cross_val_score(model, x, y, scoring='accuracy', cv=cv)\n",
    "print('Mean Accuracy: %.3f (%.3f)' % (np.mean(scores), np.std(scores)))"
   ]
  },
  {
   "cell_type": "code",
   "execution_count": 158,
   "id": "c8c9607b",
   "metadata": {},
   "outputs": [
    {
     "name": "stdout",
     "output_type": "stream",
     "text": [
      "Train Size:  10111\n",
      "Intercept:  [9.46270139]\n",
      "Coefficient:  [[-14.40083566   0.04270431]]\n",
      "Mean Accuracy: 0.943 (0.005)\n"
     ]
    }
   ],
   "source": [
    "#Logistic Model - 2 Variables\n",
    "\n",
    "x = np.array(arcface.loc[arcface['Distance'].notnull(), ['Distance', 'Matches Ratio']]).reshape(-1, 2)\n",
    "y = np.array(arcface.loc[arcface['Distance'].notnull(), 'Label'])\n",
    "\n",
    "model = LogisticRegression()\n",
    "model.fit(x, y)\n",
    "\n",
    "print('Train Size: ', int(train_portion*len(y)))\n",
    "print('Intercept: ', model.intercept_)\n",
    "print('Coefficient: ', model.coef_)\n",
    "\n",
    "cv = RepeatedStratifiedKFold(n_splits=7, n_repeats=3)\n",
    "scores = cross_val_score(model, x, y, scoring='accuracy', cv=cv)\n",
    "print('Mean Accuracy: %.3f (%.3f)' % (np.mean(scores), np.std(scores)))"
   ]
  },
  {
   "cell_type": "markdown",
   "id": "8095bb55",
   "metadata": {},
   "source": [
    "## SKLearn + Winsorizing/Trimming/Log"
   ]
  },
  {
   "cell_type": "markdown",
   "id": "1d307fb3",
   "metadata": {},
   "source": [
    "### Winsorizing"
   ]
  },
  {
   "cell_type": "code",
   "execution_count": 85,
   "id": "8d14df36",
   "metadata": {},
   "outputs": [
    {
     "name": "stdout",
     "output_type": "stream",
     "text": [
      "Intercept:  [0.00096538]\n",
      "Coefficient:  [[0.00073358]]\n",
      "Mean Accuracy: 0.500 (0.000)\n"
     ]
    }
   ],
   "source": [
    "x = np.array(arcface.loc[(arcface['Distance'].notnull()), 'Distance'])\n",
    "x = winsorize(x, limits = [0.5, 0.5]).reshape(-1,1)\n",
    "y = np.array(arcface.loc[arcface['Distance'].notnull(), 'Label'])\n",
    "\n",
    "model = LogisticRegression()\n",
    "model.fit(x, y)\n",
    "\n",
    "print('Intercept: ', model.intercept_)\n",
    "print('Coefficient: ', model.coef_)\n",
    "\n",
    "cv = RepeatedStratifiedKFold(n_splits=7, n_repeats=3)\n",
    "scores = cross_val_score(model, x, y, scoring='accuracy', cv=cv)\n",
    "print('Mean Accuracy: %.3f (%.3f)' % (np.mean(scores), np.std(scores)))"
   ]
  },
  {
   "cell_type": "markdown",
   "id": "beaba6fc",
   "metadata": {},
   "source": [
    "### Log Y"
   ]
  },
  {
   "cell_type": "code",
   "execution_count": 88,
   "id": "4f4ad1bd",
   "metadata": {},
   "outputs": [
    {
     "name": "stdout",
     "output_type": "stream",
     "text": [
      "Intercept:  [-3.34665196]\n",
      "Coefficient:  [[-9.84915362]]\n",
      "Mean Accuracy: 0.945 (0.004)\n"
     ]
    }
   ],
   "source": [
    "x = np.log(np.array(arcface.loc[(arcface['Distance'].notnull()), 'Distance'])).reshape(-1,1)\n",
    "y = np.array(arcface.loc[arcface['Distance'].notnull(), 'Label'])\n",
    "\n",
    "model = LogisticRegression()\n",
    "model.fit(x, y)\n",
    "\n",
    "print('Intercept: ', model.intercept_)\n",
    "print('Coefficient: ', model.coef_)\n",
    "\n",
    "cv = RepeatedStratifiedKFold(n_splits=7, n_repeats=3)\n",
    "scores = cross_val_score(model, x, y, scoring='accuracy', cv=cv)\n",
    "print('Mean Accuracy: %.3f (%.3f)' % (np.mean(scores), np.std(scores)))"
   ]
  },
  {
   "cell_type": "markdown",
   "id": "bf44a1d1",
   "metadata": {},
   "source": [
    "### Trimming"
   ]
  },
  {
   "cell_type": "code",
   "execution_count": 94,
   "id": "f9f44179",
   "metadata": {},
   "outputs": [
    {
     "name": "stdout",
     "output_type": "stream",
     "text": [
      "Intercept:  [-3.7388799]\n",
      "Coefficient:  [[-11.38503849]]\n",
      "Mean Accuracy: 0.945 (0.005)\n"
     ]
    }
   ],
   "source": [
    "x0 = np.log(np.array(arcface.loc[(arcface['Distance'].notnull()), 'Distance']))\n",
    "y = np.array(arcface.loc[arcface['Distance'].notnull(), 'Label'])\n",
    "\n",
    "x = trim(x0, 2.5)\n",
    "indexes = [i for i in range(len(x0)) if x0[i] in x]\n",
    "y = y[indexes]\n",
    "x = x.reshape(-1,1)\n",
    "\n",
    "model = LogisticRegression()\n",
    "model.fit(x, y)\n",
    "\n",
    "print('Intercept: ', model.intercept_)\n",
    "print('Coefficient: ', model.coef_)\n",
    "\n",
    "cv = RepeatedStratifiedKFold(n_splits=7, n_repeats=3)\n",
    "scores = cross_val_score(model, x, y, scoring='accuracy', cv=cv)\n",
    "print('Mean Accuracy: %.3f (%.3f)' % (np.mean(scores), np.std(scores)))"
   ]
  },
  {
   "cell_type": "code",
   "execution_count": 119,
   "id": "4713dc55",
   "metadata": {},
   "outputs": [
    {
     "name": "stderr",
     "output_type": "stream",
     "text": [
      "100%|██████████████████████████████████████████████████████████████████████████████████| 30/30 [00:22<00:00,  1.33it/s]\n"
     ]
    },
    {
     "data": {
      "image/png": "[encoded data removed]",
      "text/plain": [
       "<Figure size 432x288 with 1 Axes>"
      ]
     },
     "metadata": {
      "needs_background": "light"
     },
     "output_type": "display_data"
    }
   ],
   "source": [
    "trimmings = np.arange(1,4,0.1)\n",
    "cv_scores = []\n",
    "x0 = np.log(np.array(arcface.loc[(arcface['Distance'].notnull()), 'Distance']))\n",
    "y0 = np.array(arcface.loc[arcface['Distance'].notnull(), 'Label'])\n",
    "\n",
    "for i in tqdm(range(len(trimmings))):\n",
    "    n = trimmings[i]\n",
    "    x = trim(x0, n)\n",
    "    indexes = [i for i in range(len(x0)) if x0[i] in x]\n",
    "    y = y0[indexes]\n",
    "    x = x.reshape(-1,1)\n",
    "    model = LogisticRegression()\n",
    "    model.fit(x, y)\n",
    "    cv = RepeatedStratifiedKFold(n_splits=7, n_repeats=3)\n",
    "    scores = cross_val_score(model, x, y, scoring='accuracy', cv=cv)\n",
    "    cv_scores.append(scores.mean())\n",
    "\n",
    "plt.plot(trimmings, cv_scores)\n",
    "plt.xlabel('Trimming Bounds')\n",
    "plt.ylabel('CV_Accuracy')\n",
    "plt.show()"
   ]
  },
  {
   "cell_type": "markdown",
   "id": "37992ba9",
   "metadata": {},
   "source": [
    "## SM"
   ]
  },
  {
   "cell_type": "code",
   "execution_count": 163,
   "id": "ed8174eb",
   "metadata": {},
   "outputs": [
    {
     "name": "stdout",
     "output_type": "stream",
     "text": [
      "Optimization terminated successfully.\n",
      "         Current function value: 0.201324\n",
      "         Iterations 8\n"
     ]
    },
    {
     "data": {
      "text/html": [
       "<table class=\"simpletable\">\n",
       "<caption>Logit Regression Results</caption>\n",
       "<tr>\n",
       "  <th>Dep. Variable:</th>           <td>y</td>        <th>  No. Observations:  </th>  <td> 10111</td> \n",
       "</tr>\n",
       "<tr>\n",
       "  <th>Model:</th>                 <td>Logit</td>      <th>  Df Residuals:      </th>  <td> 10108</td> \n",
       "</tr>\n",
       "<tr>\n",
       "  <th>Method:</th>                 <td>MLE</td>       <th>  Df Model:          </th>  <td>     2</td> \n",
       "</tr>\n",
       "<tr>\n",
       "  <th>Date:</th>            <td>Fri, 05 May 2023</td> <th>  Pseudo R-squ.:     </th>  <td>0.7094</td> \n",
       "</tr>\n",
       "<tr>\n",
       "  <th>Time:</th>                <td>15:42:54</td>     <th>  Log-Likelihood:    </th> <td> -2035.6</td>\n",
       "</tr>\n",
       "<tr>\n",
       "  <th>converged:</th>             <td>True</td>       <th>  LL-Null:           </th> <td> -7004.9</td>\n",
       "</tr>\n",
       "<tr>\n",
       "  <th>Covariance Type:</th>     <td>nonrobust</td>    <th>  LLR p-value:       </th>  <td> 0.000</td> \n",
       "</tr>\n",
       "</table>\n",
       "<table class=\"simpletable\">\n",
       "<tr>\n",
       "    <td></td>       <th>coef</th>     <th>std err</th>      <th>z</th>      <th>P>|z|</th>  <th>[0.025</th>    <th>0.975]</th>  \n",
       "</tr>\n",
       "<tr>\n",
       "  <th>const</th> <td>    9.6673</td> <td>    0.357</td> <td>   27.103</td> <td> 0.000</td> <td>    8.968</td> <td>   10.366</td>\n",
       "</tr>\n",
       "<tr>\n",
       "  <th>x1</th>    <td>  -14.9006</td> <td>    0.295</td> <td>  -50.584</td> <td> 0.000</td> <td>  -15.478</td> <td>  -14.323</td>\n",
       "</tr>\n",
       "<tr>\n",
       "  <th>x2</th>    <td>    0.0532</td> <td>    0.012</td> <td>    4.558</td> <td> 0.000</td> <td>    0.030</td> <td>    0.076</td>\n",
       "</tr>\n",
       "</table>"
      ],
      "text/plain": [
       "<class 'statsmodels.iolib.summary.Summary'>\n",
       "\"\"\"\n",
       "                           Logit Regression Results                           \n",
       "==============================================================================\n",
       "Dep. Variable:                      y   No. Observations:                10111\n",
       "Model:                          Logit   Df Residuals:                    10108\n",
       "Method:                           MLE   Df Model:                            2\n",
       "Date:                Fri, 05 May 2023   Pseudo R-squ.:                  0.7094\n",
       "Time:                        15:42:54   Log-Likelihood:                -2035.6\n",
       "converged:                       True   LL-Null:                       -7004.9\n",
       "Covariance Type:            nonrobust   LLR p-value:                     0.000\n",
       "==============================================================================\n",
       "                 coef    std err          z      P>|z|      [0.025      0.975]\n",
       "------------------------------------------------------------------------------\n",
       "const          9.6673      0.357     27.103      0.000       8.968      10.366\n",
       "x1           -14.9006      0.295    -50.584      0.000     -15.478     -14.323\n",
       "x2             0.0532      0.012      4.558      0.000       0.030       0.076\n",
       "==============================================================================\n",
       "\"\"\""
      ]
     },
     "execution_count": 163,
     "metadata": {},
     "output_type": "execute_result"
    }
   ],
   "source": [
    "# Logit with SM\n",
    "\n",
    "x = np.array(arcface.loc[arcface['Distance'].notnull(), ['Distance', 'Matches Ratio']]).reshape(-1, 2)\n",
    "y = np.array(arcface.loc[arcface['Distance'].notnull(), 'Label'])\n",
    "\n",
    "train_portion = 0.7\n",
    "all_indexes = np.arange(len(y))\n",
    "train_indexes = np.random.choice(all_indexes, size = int(train_portion*len(y)))\n",
    "test_indexes = [el for el in all_indexes if el not in train_indexes]\n",
    "\n",
    "x_train = x[train_indexes]\n",
    "x_test = x[test_indexes]\n",
    "y_train = y[train_indexes]\n",
    "y_test = y[test_indexes]\n",
    "\n",
    "x_train = sm.add_constant(x_train)\n",
    "x_test = sm.add_constant(x_test)\n",
    "\n",
    "model = sm.Logit(y_train, x_train)\n",
    "results = model.fit(method='newton')\n",
    "\n",
    "results.summary()"
   ]
  },
  {
   "cell_type": "code",
   "execution_count": 164,
   "id": "e5fb1dd5",
   "metadata": {},
   "outputs": [
    {
     "name": "stdout",
     "output_type": "stream",
     "text": [
      "Test Accuracy:  94.42192087236124\n"
     ]
    }
   ],
   "source": [
    "probs = results.predict(x_test)\n",
    "preds = (probs >= 0.5).astype(int)\n",
    "accuracy = len(y_test[y_test == preds])*100/len(y_test)\n",
    "print('Test Accuracy: ', accuracy)"
   ]
  },
  {
   "cell_type": "markdown",
   "id": "ad14ae0d",
   "metadata": {},
   "source": [
    "# LDA"
   ]
  },
  {
   "cell_type": "code",
   "execution_count": 160,
   "id": "682cb947",
   "metadata": {},
   "outputs": [
    {
     "name": "stdout",
     "output_type": "stream",
     "text": [
      "Mean Accuracy: 0.943 (0.005)\n"
     ]
    }
   ],
   "source": [
    "x = np.array(arcface.loc[arcface['Distance'].notnull(), ['Distance', 'Matches Ratio']]).reshape(-1, 2)\n",
    "y = np.array(arcface.loc[arcface['Distance'].notnull(), 'Label'])\n",
    "\n",
    "model = LinearDiscriminantAnalysis()\n",
    "cv = RepeatedStratifiedKFold(n_splits=7, n_repeats=3)\n",
    "\n",
    "scores = cross_val_score(model, x, y, scoring='accuracy', cv=cv)\n",
    "\n",
    "print('Mean Accuracy: %.3f (%.3f)' % (np.mean(scores), np.std(scores)))"
   ]
  },
  {
   "cell_type": "markdown",
   "id": "f3a739b7",
   "metadata": {},
   "source": [
    "# Classification Tree"
   ]
  },
  {
   "cell_type": "code",
   "execution_count": 187,
   "id": "72bffc55",
   "metadata": {},
   "outputs": [
    {
     "name": "stdout",
     "output_type": "stream",
     "text": [
      "Mean Accuracy: 0.916 (0.007)\n"
     ]
    }
   ],
   "source": [
    "x = np.array(arcface.loc[arcface['Distance'].notnull(), ['Distance', 'Matches Ratio Face']]).reshape(-1,2)\n",
    "y = np.array(arcface.loc[arcface['Distance'].notnull(), 'Label'])\n",
    "\n",
    "model = tree.DecisionTreeClassifier()\n",
    "cv = RepeatedStratifiedKFold(n_splits=7, n_repeats=3)\n",
    "\n",
    "scores = cross_val_score(model, x, y, scoring='accuracy', cv=cv)\n",
    "\n",
    "print('Mean Accuracy: %.3f (%.3f)' % (np.mean(scores), np.std(scores)))"
   ]
  },
  {
   "cell_type": "code",
   "execution_count": 162,
   "id": "f46f95c3",
   "metadata": {},
   "outputs": [
    {
     "name": "stderr",
     "output_type": "stream",
     "text": [
      "100%|██████████████████████████████████████████████████████████████████████████████████| 98/98 [02:47<00:00,  1.71s/it]\n"
     ]
    },
    {
     "data": {
      "image/png": "[encoded data removed]",
      "text/plain": [
       "<Figure size 432x288 with 1 Axes>"
      ]
     },
     "metadata": {
      "needs_background": "light"
     },
     "output_type": "display_data"
    }
   ],
   "source": [
    "splits = np.arange(2, 100)\n",
    "cv_scores = []\n",
    "\n",
    "for i in tqdm(range(len(splits))):\n",
    "    n = splits[i]\n",
    "    model = tree.DecisionTreeClassifier(min_samples_split = n)\n",
    "    cv = RepeatedStratifiedKFold(n_splits=7, n_repeats=3)\n",
    "    scores = cross_val_score(model, x, y, scoring='accuracy', cv=cv)\n",
    "    cv_scores.append(scores.mean())\n",
    "    \n",
    "plt.plot(splits, cv_scores)\n",
    "plt.xlabel('min_samples_split')\n",
    "plt.ylabel('CV_Accuracy')\n",
    "plt.show()"
   ]
  },
  {
   "cell_type": "code",
   "execution_count": 188,
   "id": "304b2c25",
   "metadata": {},
   "outputs": [
    {
     "name": "stdout",
     "output_type": "stream",
     "text": [
      "Feature 0: Score: 97.91739448474344%\n",
      "Feature 1: Score: 2.0826055152565615%\n"
     ]
    },
    {
     "data": {
      "image/png": "[encoded data removed]",
      "text/plain": [
       "<Figure size 432x288 with 1 Axes>"
      ]
     },
     "metadata": {
      "needs_background": "light"
     },
     "output_type": "display_data"
    }
   ],
   "source": [
    "#Features Importance\n",
    "\n",
    "model = tree.DecisionTreeClassifier(min_samples_split = 100)\n",
    "model.fit(x, y)\n",
    "importance = model.feature_importances_\n",
    "\n",
    "for i,v in enumerate(importance):\n",
    "    print(f'Feature {i}: Score: {v*100}%')\n",
    "    \n",
    "plt.bar(['Distance', 'Matches Ratio Face'], importance, color = 'blue')\n",
    "plt.title('Features Importance')\n",
    "plt.xlabel('Features')\n",
    "plt.ylabel('Importance')\n",
    "plt.show()"
   ]
  },
  {
   "cell_type": "markdown",
   "id": "b76a1c6c",
   "metadata": {},
   "source": [
    "# Random Forest"
   ]
  },
  {
   "cell_type": "code",
   "execution_count": 183,
   "id": "abc17c61",
   "metadata": {},
   "outputs": [
    {
     "name": "stdout",
     "output_type": "stream",
     "text": [
      "Mean Accuracy: 0.944 (0.004)\n"
     ]
    }
   ],
   "source": [
    "x = np.array(arcface.loc[arcface['Distance'].notnull(), ['Distance', 'Matches Ratio Face']]).reshape(-1,2)\n",
    "y = np.array(arcface.loc[arcface['Distance'].notnull(), 'Label'])\n",
    "\n",
    "model = ensemble.RandomForestClassifier()\n",
    "cv = RepeatedStratifiedKFold(n_splits=7, n_repeats=3)\n",
    "\n",
    "scores = cross_val_score(model, x, y, scoring='accuracy', cv = cv)\n",
    "\n",
    "print('Mean Accuracy: %.3f (%.3f)' % (np.mean(scores), np.std(scores)))"
   ]
  },
  {
   "cell_type": "code",
   "execution_count": 174,
   "id": "e9715f54",
   "metadata": {},
   "outputs": [
    {
     "name": "stderr",
     "output_type": "stream",
     "text": [
      "100%|███████████████████████████████████████████████████████████████████████████████████| 3/3 [07:29<00:00, 149.82s/it]\n"
     ]
    },
    {
     "data": {
      "image/png": "[encoded data removed]",
      "text/plain": [
       "<Figure size 432x288 with 1 Axes>"
      ]
     },
     "metadata": {
      "needs_background": "light"
     },
     "output_type": "display_data"
    }
   ],
   "source": [
    "splits = np.arange(2, 5)\n",
    "cv_scores = []\n",
    "\n",
    "for i in tqdm(range(len(splits))):\n",
    "    n = splits[i]\n",
    "    model = ensemble.RandomForestClassifier()\n",
    "    cv = RepeatedStratifiedKFold(n_splits=7, n_repeats=3)\n",
    "    scores = cross_val_score(model, x, y, scoring='accuracy', cv=cv)\n",
    "    cv_scores.append(scores.mean())\n",
    "    \n",
    "plt.plot(splits, cv_scores)\n",
    "plt.xlabel('min_samples_split')\n",
    "plt.ylabel('CV_Accuracy')\n",
    "plt.show()"
   ]
  },
  {
   "cell_type": "code",
   "execution_count": 185,
   "id": "a3385b11",
   "metadata": {},
   "outputs": [
    {
     "name": "stdout",
     "output_type": "stream",
     "text": [
      "Feature 0: Score: 90.02416282190208%\n",
      "Feature 1: Score: 9.975837178097931%\n"
     ]
    },
    {
     "data": {
      "image/png": "[encoded data removed]",
      "text/plain": [
       "<Figure size 432x288 with 1 Axes>"
      ]
     },
     "metadata": {
      "needs_background": "light"
     },
     "output_type": "display_data"
    }
   ],
   "source": [
    "#Features Importance\n",
    "\n",
    "model = ensemble.RandomForestClassifier()\n",
    "model.fit(x, y)\n",
    "importance = model.feature_importances_\n",
    "\n",
    "for i,v in enumerate(importance):\n",
    "    print(f'Feature {i}: Score: {v*100}%')\n",
    "    \n",
    "plt.bar(['Distance', 'Matches Ratio Face'], importance, color = 'blue')\n",
    "plt.title('Features Importance')\n",
    "plt.xlabel('Features')\n",
    "plt.ylabel('Importance')\n",
    "plt.show()"
   ]
  }
 ],
 "metadata": {
  "kernelspec": {
   "display_name": "Python 3",
   "language": "python",
   "name": "python3"
  },
  "language_info": {
   "codemirror_mode": {
    "name": "ipython",
    "version": 3
   },
   "file_extension": ".py",
   "mimetype": "text/x-python",
   "name": "python",
   "nbconvert_exporter": "python",
   "pygments_lexer": "ipython3",
   "version": "3.8.8"
  }
 },
 "nbformat": 4,
 "nbformat_minor": 5
}
